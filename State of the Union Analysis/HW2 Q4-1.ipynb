{
 "cells": [
  {
   "cell_type": "markdown",
   "metadata": {},
   "source": [
    "### Importing and pre-processing data"
   ]
  },
  {
   "cell_type": "code",
   "execution_count": 23,
   "metadata": {},
   "outputs": [],
   "source": [
    "import json\n",
    "import string\n",
    "import numpy as np\n",
    "import matplotlib.pyplot as plt\n",
    "import pylab as py\n",
    "import math\n",
    "f = open('speeches.json',)\n",
    "unprocessed_speeches = []\n",
    "for line in f:\n",
    "    unprocessed_speeches.append(json.loads(line))\n",
    "    \n",
    "import re\n",
    "pattern_sentence = re.compile(r'([A-Z][^\\.!?]*[\\.!?]+)')\n",
    "def parse_sentence(speeches):\n",
    "    n = len(speeches)\n",
    "    parsed_speeches = []\n",
    "    for i in range(n):\n",
    "        speech = speeches[i]['text']\n",
    "        parsed_speeches.append(pattern_sentence.findall(speech))\n",
    "    return(parsed_speeches)\n",
    "\n",
    "SOU_sentences = parse_sentence(unprocessed_speeches)"
   ]
  },
  {
   "cell_type": "markdown",
   "metadata": {},
   "source": [
    "### 4(a)"
   ]
  },
  {
   "cell_type": "code",
   "execution_count": 2,
   "metadata": {},
   "outputs": [],
   "source": [
    "def clean_and_split(s):\n",
    "    # encode to UTF-8, convert to lowercase and translate all hyphens and\n",
    "    # punctuation to whitespace\n",
    "    s = s.lower()\n",
    "    for c in (string.punctuation):\n",
    "        s = s.replace(c, \" \") # getting rid of punctuation\n",
    "    s = s.replace('-',' ') # getting rid of hyphen\n",
    "    s = re.sub('\\r\\n',' ',s) # replace \\r\\n\n",
    "    # replace whitespace substrings with one whitespace and remove\n",
    "    # leading/trailing whitespaces\n",
    "    s = re.sub(' +',' ',s.strip())\n",
    "    return s.split(' ')\n",
    "\n",
    "def parse_words(sentences): # convert a SOU into word lists \n",
    "    by_words = []\n",
    "    for sentence in sentences:\n",
    "        words = clean_and_split(sentence)\n",
    "        for word in words:\n",
    "            by_words.append(word)\n",
    "    return(by_words)\n",
    "\n",
    "class SOU: # create a SOU class for later processing \n",
    "    def __init__(self,word_list,sentence_list,president,year):\n",
    "        self.Words = word_list\n",
    "        self.Sentences = sentence_list\n",
    "        self.President = president\n",
    "        self.Year = year\n",
    "    def unique_words(self):\n",
    "        unique_words = list(set(self.Words))\n",
    "        return(unique_words)\n",
    "    def word_counts(self): \n",
    "        word_counts = {}\n",
    "        unique_words = list(set(self.Words))\n",
    "        for key in unique_words:\n",
    "            word_counts[key] = 0\n",
    "        words = self.Words\n",
    "        for word in words:\n",
    "            word_counts[word] = word_counts[word] + 1\n",
    "        return(word_counts)\n",
    "    def set_tfidf_vec(self,tfidf_vec): # append tfidf vector attribute\n",
    "        self.TFIDF = tfidf_vec "
   ]
  },
  {
   "cell_type": "code",
   "execution_count": 3,
   "metadata": {},
   "outputs": [],
   "source": [
    "# Parse all SOUs and create SOU class objects\n",
    "\n",
    "def process_SOUs(unprocessed_speeches,SOU_sentences):\n",
    "    speeches = []\n",
    "    number_speeches = len(unprocessed_speeches)\n",
    "    for i in range(number_speeches):\n",
    "        sou_word_lists = parse_words(SOU_sentences[i])\n",
    "        speech = SOU(sou_word_lists,SOU_sentences[i],unprocessed_speeches[i]['president'],unprocessed_speeches[i]['year'])\n",
    "        speeches.append(speech)\n",
    "    return(speeches)"
   ]
  },
  {
   "cell_type": "code",
   "execution_count": 4,
   "metadata": {},
   "outputs": [],
   "source": [
    "# Create TF-IDF vector:\n",
    "\n",
    "# Step 1: Create list of SOU class objects\n",
    "processed_SOUs = process_SOUs(unprocessed_speeches,SOU_sentences)\n",
    "\n",
    "# Step 2: Define auxilliary functions\n",
    "def merge_word_lists(SOUs): # collapse all word count dictionaries from all SOUs into one single dictionary\n",
    "    dicts = []\n",
    "    for SOU in SOUs:\n",
    "        dicts.append(SOU.word_counts())\n",
    "    master_list = {}\n",
    "    for sou in dicts:\n",
    "        for key in sou:\n",
    "            if key in master_list:\n",
    "                master_list[key] = master_list[key] + sou[key]\n",
    "            else:\n",
    "                master_list[key] = sou[key]\n",
    "    return(master_list)\n",
    " \n",
    "def cleanup_master_list(master_list,cut_off_high,cut_off_low): # get rid of most common and least common words\n",
    "    sorted_list = sorted(master_list.items(),key=lambda x:x[1])\n",
    "    sorted_list_get_rid_of_top = sorted_list[:-cut_off_high] # get rid of most common words\n",
    "    sorted_list_get_rid_of_bottom = []\n",
    "    for pair in sorted_list_get_rid_of_top:\n",
    "        if pair[1] >= cut_off_low:  # get rid of least common words\n",
    "            sorted_list_get_rid_of_bottom.append(pair)\n",
    "    return(sorted_list_get_rid_of_bottom)\n",
    "\n",
    "def number_documents_containing(processed_SOUs,target_word): # get number of documents that contain a target word\n",
    "    d = 0\n",
    "    unique_words_list = []\n",
    "    for SOU in processed_SOUs:\n",
    "        if target_word in SOU.unique_words():\n",
    "            d = d+1\n",
    "    return(d)\n",
    "\n",
    "def create_freq_list(processed_SOUs,master_list): \n",
    "    # create a dictionary with words and the number of documents they appear in\n",
    "    master_list_freqs = {}\n",
    "    i = 0\n",
    "    for pair in master_list:\n",
    "        word = pair[0]\n",
    "        n = number_documents_containing(processed_SOUs,word)\n",
    "        master_list_freqs[word] = n\n",
    "    return(master_list_freqs)\n",
    "\n",
    "def tfidf(processed_SOUs,master_list,freq_list):\n",
    "    D = len(processed_SOUs)\n",
    "    V = len(master_list)\n",
    "    tf_idf_vecs = []\n",
    "    for d in range(D):\n",
    "        document = processed_SOUs[d]\n",
    "        document_word_counts = document.word_counts()\n",
    "        document_unique_words = document.unique_words()\n",
    "        tf_idf_vec = []\n",
    "        for i in range(V):\n",
    "            target_word = master_list[i][0]\n",
    "            freq_all = freq_list[target_word]\n",
    "            if target_word in document_unique_words:\n",
    "                ni_d = document_word_counts[target_word]\n",
    "            else:\n",
    "                ni_d = 0\n",
    "            wi_d = ni_d * math.log(D/freq_all)\n",
    "            tf_idf_vec.append(wi_d)\n",
    "        tf_idf_vecs.append(tf_idf_vec)\n",
    "    return(tf_idf_vecs)"
   ]
  },
  {
   "cell_type": "code",
   "execution_count": 5,
   "metadata": {},
   "outputs": [],
   "source": [
    "cleaned_master_list = cleanup_master_list(merge_word_lists(processed_SOUs),20,50)\n",
    "freq_list = create_freq_list(processed_SOUs,cleaned_master_list)"
   ]
  },
  {
   "cell_type": "code",
   "execution_count": 6,
   "metadata": {},
   "outputs": [],
   "source": [
    "# attach the computed tf-idf vectors to each SOU object for later processing\n",
    "tf_idfs = tfidf(processed_SOUs,cleaned_master_list,freq_list)\n",
    "for i in range(len(tf_idfs)):\n",
    "    processed_SOUs[i].set_tfidf_vec(tf_idfs[i])"
   ]
  },
  {
   "cell_type": "markdown",
   "metadata": {},
   "source": [
    "### 4(b)"
   ]
  },
  {
   "cell_type": "code",
   "execution_count": 7,
   "metadata": {},
   "outputs": [],
   "source": [
    "def compute_similarity(sou1,sou2):\n",
    "    # function for computing similarity score\n",
    "    tf_idf1 = sou1.TFIDF\n",
    "    tf_idf2 = sou2.TFIDF\n",
    "    sim_score =  np.dot(tf_idf1,tf_idf2) / (np.linalg.norm(tf_idf1) * np.linalg.norm(tf_idf2))\n",
    "    return(sim_score)\n",
    "\n",
    "def compute_similarity_matrix(processed_SOUs):\n",
    "    # return a matrix for similarity scores\n",
    "    # we only care about the upper triangular, off-diagonal part, so create an upper-triangular matrix\n",
    "    D = len(processed_SOUs)\n",
    "    similarity_mat = np.zeros((D,D))\n",
    "    for i in range(D):\n",
    "        for j in range(D):\n",
    "            if i <= j:\n",
    "                sou1 = processed_SOUs[i]\n",
    "                sou2 = processed_SOUs[j]\n",
    "                similarity_mat[i,j] = compute_similarity(sou1,sou2)\n",
    "    return(similarity_mat)\n",
    "\n",
    "def compute_president_matrix(processed_SOUs):\n",
    "    # return a boolean array where if (i,j)th entry is 1 means \n",
    "    # i-th document and j-th document are by the same president\n",
    "    # we only care about the upper triangular, off-diagonal part, so create an upper-triangular matrix\n",
    "    D = len(processed_SOUs)\n",
    "    president_mat = np.zeros((D,D))\n",
    "    for i in range(D):\n",
    "        for j in range(D):\n",
    "            if i <= j:\n",
    "                sou1 = processed_SOUs[i]\n",
    "                sou2 = processed_SOUs[j]\n",
    "                president_mat[i,j] = (sou1.President == sou2.President)\n",
    "    return(president_mat)\n",
    "\n",
    "def compute_sim_scores(processed_SOUs):\n",
    "    # produce a list of 3-pules, the first entry is the similarity score, second entry is the id of SOUs\n",
    "    # third index indicates whether the pair of SOUs comes from the same president (1 if yes, 0 if no)\n",
    "    similarity_matrix = compute_similarity_matrix(processed_SOUs)\n",
    "    president_matrix = compute_president_matrix(processed_SOUs)\n",
    "    sim_scores = []\n",
    "    D = len(processed_SOUs)\n",
    "    for i in range(D):\n",
    "        for j in range(D):\n",
    "            if i<j:\n",
    "                sim_score = similarity_matrix[i,j]\n",
    "                president_same = president_matrix[i,j]\n",
    "                index = (i,j)\n",
    "                sim_scores.append((sim_score,president_same,index))\n",
    "    return(sim_scores)"
   ]
  },
  {
   "cell_type": "markdown",
   "metadata": {},
   "source": [
    "### 50 most similar pairs of SOUs given by different Presidents"
   ]
  },
  {
   "cell_type": "code",
   "execution_count": 8,
   "metadata": {},
   "outputs": [],
   "source": [
    "sim_scores = compute_sim_scores(processed_SOUs)"
   ]
  },
  {
   "cell_type": "code",
   "execution_count": 9,
   "metadata": {},
   "outputs": [],
   "source": [
    "diff_presidents_sorted = list(filter(lambda x: x[1]!=1,sorted(sim_scores,key=lambda x:x[0],reverse=True)))"
   ]
  },
  {
   "cell_type": "code",
   "execution_count": 10,
   "metadata": {},
   "outputs": [
    {
     "data": {
      "text/plain": [
       "[(0.7248246043534841, 0.0, (22, 50)),\n",
       " (0.7217028462778502, 0.0, (50, 91)),\n",
       " (0.7124973636046079, 0.0, (50, 138)),\n",
       " (0.6908748431727865, 0.0, (50, 177)),\n",
       " (0.672085151409242, 0.0, (22, 71)),\n",
       " (0.6668535920062889, 0.0, (71, 177)),\n",
       " (0.6629775893507349, 0.0, (71, 91)),\n",
       " (0.6583714722668585, 0.0, (91, 177)),\n",
       " (0.6570186983651323, 0.0, (71, 138)),\n",
       " (0.6550204628580997, 0.0, (91, 196)),\n",
       " (0.6510432249308671, 0.0, (38, 50)),\n",
       " (0.6495061241788253, 0.0, (48, 91)),\n",
       " (0.6457152779269416, 0.0, (22, 177)),\n",
       " (0.6399639579161642, 0.0, (22, 196)),\n",
       " (0.6393140329918028, 0.0, (38, 71)),\n",
       " (0.625811725619095, 0.0, (38, 177)),\n",
       " (0.6206534483898205, 0.0, (124, 152)),\n",
       " (0.615228867737172, 0.0, (138, 177)),\n",
       " (0.6140177687962247, 0.0, (89, 114)),\n",
       " (0.6134780726708445, 0.0, (22, 48)),\n",
       " (0.6110028176049613, 0.0, (38, 196)),\n",
       " (0.610049939919789, 0.0, (43, 85)),\n",
       " (0.6087420232793072, 0.0, (177, 196)),\n",
       " (0.6070844797370145, 0.0, (58, 196)),\n",
       " (0.607009578322454, 0.0, (31, 114)),\n",
       " (0.605432036088757, 0.0, (48, 114)),\n",
       " (0.6053420511826936, 0.0, (38, 48)),\n",
       " (0.6052222546289032, 0.0, (91, 114)),\n",
       " (0.6036061614399734, 0.0, (114, 222)),\n",
       " (0.6013900159593785, 0.0, (50, 139)),\n",
       " (0.5973428835771577, 0.0, (91, 139)),\n",
       " (0.5960597134633209, 0.0, (139, 177)),\n",
       " (0.5932226395095266, 0.0, (91, 164)),\n",
       " (0.5916918270239322, 0.0, (138, 196)),\n",
       " (0.5911481867077081, 0.0, (91, 222)),\n",
       " (0.5890299027539985, 0.0, (34, 73)),\n",
       " (0.5867867397664257, 0.0, (177, 222)),\n",
       " (0.585992691512477, 0.0, (22, 139)),\n",
       " (0.5843693780082996, 0.0, (38, 222)),\n",
       " (0.5837871840916817, 0.0, (45, 85)),\n",
       " (0.5802049105985805, 0.0, (85, 147)),\n",
       " (0.5797033920053644, 0.0, (138, 139)),\n",
       " (0.5774324425352972, 0.0, (53, 124)),\n",
       " (0.5773727836804894, 0.0, (48, 177)),\n",
       " (0.5773056639318431, 0.0, (48, 164)),\n",
       " (0.5763535468756339, 0.0, (24, 151)),\n",
       " (0.5763097505312585, 0.0, (22, 114)),\n",
       " (0.5754609442998224, 0.0, (114, 164)),\n",
       " (0.5751630449199417, 0.0, (48, 138))]"
      ]
     },
     "execution_count": 10,
     "metadata": {},
     "output_type": "execute_result"
    }
   ],
   "source": [
    "diff_presidents_sorted[0:49]"
   ]
  },
  {
   "cell_type": "markdown",
   "metadata": {},
   "source": [
    "### 50 most similar pairs of SOUs given by the same President"
   ]
  },
  {
   "cell_type": "code",
   "execution_count": 11,
   "metadata": {},
   "outputs": [
    {
     "data": {
      "text/plain": [
       "[(0.826150707566682, 1.0, (143, 200)),\n",
       " (0.8117331924763175, 1.0, (22, 138)),\n",
       " (0.8004459969630424, 1.0, (22, 91)),\n",
       " (0.7958708316590685, 1.0, (91, 138)),\n",
       " (0.7672573846077625, 1.0, (50, 71)),\n",
       " (0.757396935501319, 1.0, (22, 38)),\n",
       " (0.7462082052690785, 1.0, (48, 57)),\n",
       " (0.7403904857707183, 1.0, (48, 222)),\n",
       " (0.7390810651308907, 1.0, (48, 66)),\n",
       " (0.7357283964767966, 1.0, (29, 153)),\n",
       " (0.7252855077322765, 1.0, (60, 138)),\n",
       " (0.7234337491428953, 1.0, (57, 66)),\n",
       " (0.7209307424299797, 1.0, (200, 209)),\n",
       " (0.7167897523419083, 1.0, (143, 189)),\n",
       " (0.7147077150371427, 1.0, (57, 222)),\n",
       " (0.7142987805131197, 1.0, (38, 138)),\n",
       " (0.7062446460234796, 1.0, (143, 209)),\n",
       " (0.704784159943305, 1.0, (186, 191)),\n",
       " (0.7004696603396164, 1.0, (38, 91)),\n",
       " (0.6906534782680663, 1.0, (189, 200)),\n",
       " (0.6896248899860037, 1.0, (50, 196)),\n",
       " (0.6861757321567771, 1.0, (119, 151)),\n",
       " (0.6799162254997183, 1.0, (52, 189)),\n",
       " (0.679182418317831, 1.0, (11, 88)),\n",
       " (0.6768369092259289, 1.0, (58, 169)),\n",
       " (0.67639937854745, 1.0, (52, 143)),\n",
       " (0.6727078117450105, 1.0, (141, 143)),\n",
       " (0.6723549314476357, 1.0, (189, 209)),\n",
       " (0.6722596328221221, 1.0, (48, 50)),\n",
       " (0.6671278497481389, 1.0, (71, 196)),\n",
       " (0.6602229578287722, 1.0, (66, 210)),\n",
       " (0.6591615065639134, 1.0, (141, 200)),\n",
       " (0.6581774606392956, 1.0, (72, 134)),\n",
       " (0.658016168585398, 1.0, (66, 222)),\n",
       " (0.6571033057772998, 1.0, (62, 164)),\n",
       " (0.6565136524667889, 1.0, (106, 111)),\n",
       " (0.6505575497238328, 1.0, (23, 24)),\n",
       " (0.6490843277536851, 1.0, (141, 209)),\n",
       " (0.6471857832726674, 1.0, (88, 167)),\n",
       " (0.6469094990277422, 1.0, (7, 24)),\n",
       " (0.6464787395745835, 1.0, (5, 85)),\n",
       " (0.6457472111882551, 1.0, (53, 152)),\n",
       " (0.6447889759720361, 1.0, (104, 151)),\n",
       " (0.6440997368118146, 1.0, (52, 200)),\n",
       " (0.6417898695994914, 1.0, (24, 113)),\n",
       " (0.6400706609986907, 1.0, (16, 192)),\n",
       " (0.6390646872769905, 1.0, (141, 189)),\n",
       " (0.6384144234296772, 1.0, (11, 167)),\n",
       " (0.6362268833730895, 1.0, (92, 147))]"
      ]
     },
     "execution_count": 11,
     "metadata": {},
     "output_type": "execute_result"
    }
   ],
   "source": [
    "same_presidents_sorted = list(filter(lambda x: x[1]==1,sorted(sim_scores,key=lambda x:x[0],reverse=True)))\n",
    "same_presidents_sorted[0:49]"
   ]
  },
  {
   "cell_type": "markdown",
   "metadata": {},
   "source": [
    "### 25 most similar pairs of Presidents, average the cosine similarity over all pairs of their SOUs"
   ]
  },
  {
   "cell_type": "code",
   "execution_count": 12,
   "metadata": {},
   "outputs": [],
   "source": [
    "def by_presidents(processed_SOUs):\n",
    "    presidents_addresses = {}\n",
    "    D = len(processed_SOUs)\n",
    "    for i in range(D):\n",
    "        SOU = processed_SOUs[i]\n",
    "        president = SOU.President\n",
    "        if president in presidents_addresses:\n",
    "            presidents_addresses[president].append(i)\n",
    "        else:\n",
    "            presidents_addresses[president] = [i,]\n",
    "    similarity_matrix = compute_similarity_matrix(processed_SOUs)\n",
    "    number_presidents = len(presidents_addresses)\n",
    "    pairs = []\n",
    "    for i in range(number_presidents):\n",
    "        for j in range(number_presidents):\n",
    "            if i<j:\n",
    "                presi = list(presidents_addresses.keys())[i]\n",
    "                presj = list(presidents_addresses.keys())[j]\n",
    "                sou_indexes_i = presidents_addresses[presi]\n",
    "                sou_indexes_j = presidents_addresses[presj]\n",
    "                total_addresses = len(sou_indexes_i) * len(sou_indexes_j)\n",
    "                total_scores = 0\n",
    "                for a in sou_indexes_i:\n",
    "                    for b in sou_indexes_j:\n",
    "                        total_scores = total_scores + similarity_matrix[a,b]\n",
    "                avg_sim = total_scores / total_addresses\n",
    "                pairs.append(((presi,presj),avg_sim))\n",
    "    return([pairs,presidents_addresses])"
   ]
  },
  {
   "cell_type": "code",
   "execution_count": 13,
   "metadata": {},
   "outputs": [
    {
     "data": {
      "text/plain": [
       "[(('Millard Fillmore', 'Zachary Taylor'), 0.49984248780334867),\n",
       " (('Rutherford B. Hayes', 'Chester A. Arthur'), 0.3944811632153003),\n",
       " (('Barack Obama', 'William J. Clinton'), 0.37096425617291706),\n",
       " (('Millard Fillmore', 'Chester A. Arthur'), 0.3627634029937756),\n",
       " (('Theodore Roosevelt', 'William Howard Taft'), 0.3626871546761424),\n",
       " (('Barack Obama', 'George W. Bush'), 0.34513402013229183),\n",
       " (('William Howard Taft', 'Zachary Taylor'), 0.34258798845342275),\n",
       " (('Grover Cleveland', 'Chester A. Arthur'), 0.34086336182046123),\n",
       " (('Barack Obama', 'Ronald Reagan'), 0.3310853256696489),\n",
       " (('Benjamin Harrison', 'Chester A. Arthur'), 0.32701447959701685),\n",
       " (('Abraham Lincoln', 'Zachary Taylor'), 0.3189170410143515),\n",
       " (('Rutherford B. Hayes', 'Zachary Taylor'), 0.317055614449803),\n",
       " (('James K. Polk', 'Zachary Taylor'), 0.31460636279313514),\n",
       " (('Barack Obama', 'Gerald R. Ford'), 0.31272877569448526),\n",
       " (('Franklin Pierce', 'Zachary Taylor'), 0.30614112016611317),\n",
       " (('Andrew Johnson', 'Chester A. Arthur'), 0.2983413309171725),\n",
       " (('Andrew Jackson', 'Zachary Taylor'), 0.29634284305378217),\n",
       " (('Abraham Lincoln', 'Chester A. Arthur'), 0.29372787515695187),\n",
       " (('Martin Van Buren', 'John Tyler'), 0.29143058247355147),\n",
       " (('Millard Fillmore', 'John Tyler'), 0.2901283837608043),\n",
       " (('Andrew Johnson', 'John Tyler'), 0.28992580582157884),\n",
       " (('Theodore Roosevelt', 'Chester A. Arthur'), 0.28852208369026494),\n",
       " (('Lyndon B. Johnson', 'Richard M. Nixon'), 0.28801344517997723),\n",
       " (('Ronald Reagan', 'Gerald R. Ford'), 0.2878131443569914)]"
      ]
     },
     "execution_count": 13,
     "metadata": {},
     "output_type": "execute_result"
    }
   ],
   "source": [
    "output = by_presidents(processed_SOUs)\n",
    "pair_scores = by_presidents(processed_SOUs)[0]\n",
    "most_sim_pair_sorted = sorted(pair_scores,key=lambda x:x[1],reverse=True)\n",
    "most_sim_pair_sorted[0:24]"
   ]
  },
  {
   "cell_type": "markdown",
   "metadata": {},
   "source": [
    "### Comments on results:"
   ]
  },
  {
   "cell_type": "code",
   "execution_count": 15,
   "metadata": {},
   "outputs": [
    {
     "data": {
      "text/plain": [
       "(('Millard Fillmore', 'Zachary Taylor'), 0.49984248780334867)"
      ]
     },
     "execution_count": 15,
     "metadata": {},
     "output_type": "execute_result"
    }
   ],
   "source": [
    "most_sim_pair_sorted[0]"
   ]
  },
  {
   "cell_type": "markdown",
   "metadata": {},
   "source": [
    "Starting with the most similar pair of presidents, we see that William Fillmore became president right after Zachary Taylor in the 1850s, so the similarity is reasonable. Furthermore, Zachary Taylor only had one SOU, which may have limited the range of topics / speech styles and as a result pushed up his similarity to William Fillmore by chance. "
   ]
  },
  {
   "cell_type": "code",
   "execution_count": 16,
   "metadata": {},
   "outputs": [
    {
     "data": {
      "text/plain": [
       "(0.826150707566682, 1.0, (143, 200))"
      ]
     },
     "execution_count": 16,
     "metadata": {},
     "output_type": "execute_result"
    }
   ],
   "source": [
    "same_presidents_sorted[0]"
   ]
  },
  {
   "cell_type": "code",
   "execution_count": 17,
   "metadata": {},
   "outputs": [
    {
     "data": {
      "text/plain": [
       "('George W. Bush', '2007', 'George W. Bush', '2008')"
      ]
     },
     "execution_count": 17,
     "metadata": {},
     "output_type": "execute_result"
    }
   ],
   "source": [
    "(processed_SOUs[143].President,processed_SOUs[143].Year,processed_SOUs[200].President,processed_SOUs[200].Year)"
   ]
  },
  {
   "cell_type": "markdown",
   "metadata": {},
   "source": [
    "The most similar pair of SOUs given by the same president is George W.Bush's 2007 and 2008 speeches. George W.Bush has 8 speeches, but it would make sense that the most similar pair is from consecutive years due to topic similarity. "
   ]
  },
  {
   "cell_type": "code",
   "execution_count": 18,
   "metadata": {},
   "outputs": [
    {
     "data": {
      "text/plain": [
       "(0.7248246043534841, 0.0, (22, 50))"
      ]
     },
     "execution_count": 18,
     "metadata": {},
     "output_type": "execute_result"
    }
   ],
   "source": [
    "diff_presidents_sorted[0]"
   ]
  },
  {
   "cell_type": "code",
   "execution_count": 19,
   "metadata": {},
   "outputs": [
    {
     "data": {
      "text/plain": [
       "('Barack Obama', '2010', 'William J. Clinton', '1995')"
      ]
     },
     "execution_count": 19,
     "metadata": {},
     "output_type": "execute_result"
    }
   ],
   "source": [
    "(processed_SOUs[22].President,processed_SOUs[22].Year,processed_SOUs[50].President,processed_SOUs[50].Year)"
   ]
  },
  {
   "cell_type": "markdown",
   "metadata": {},
   "source": [
    "The most similar pair of speeches by different president is Obama 2010 and Clinton 1995. While not at first apparent, both speeches address the fact that the two presidents came to office at time of crisis and reflects on their presidency so far and ways forward. There were ovarlapping topics including addressing issues in North Korea and reflection on the founding ideas of USA. "
   ]
  },
  {
   "cell_type": "markdown",
   "metadata": {},
   "source": [
    "Overall, my output seems reasonable. To improve my similarity measure, I may want to select the words to include in TF-IDF vectors more selectively. For instance, topical vocabularies such as \"nuclear\", \"terrorism\", and \"korea\" could carry more weights than articles or prepositions that appear in every speeches. "
   ]
  },
  {
   "cell_type": "markdown",
   "metadata": {},
   "source": [
    "### 4(c)"
   ]
  },
  {
   "cell_type": "code",
   "execution_count": 94,
   "metadata": {},
   "outputs": [],
   "source": [
    "from sklearn.cluster import KMeans\n",
    "\n",
    "def create_tfidf_mat(processed_SOUs):\n",
    "    tfidf0 = processed_SOUs[0].TFIDF\n",
    "    tfidf_mat = np.array([tfidf0])\n",
    "    for sou in processed_SOUs[1:]:\n",
    "        tfidf_current = np.array([sou.TFIDF])\n",
    "        tfidf_mat = np.concatenate((tfidf_mat,tfidf_current),axis=0)\n",
    "    return(tfidf_mat)\n",
    "\n",
    "tf_idf_mat = create_tfidf_mat(processed_SOUs)"
   ]
  },
  {
   "cell_type": "markdown",
   "metadata": {},
   "source": [
    "To visualize the clusters, I conduct PCA on TFIDF matrix and project the points to the first two principle components,and then look at the clusters."
   ]
  },
  {
   "cell_type": "code",
   "execution_count": 110,
   "metadata": {},
   "outputs": [],
   "source": [
    "def plot_clusters(tfidf_mat,num_cluster):\n",
    "    model = KMeans(n_clusters=num_cluster)\n",
    "    sou_clust = model.fit(tfidf_mat)\n",
    "    clusters = sou_clust.predict(tf_idf_mat)\n",
    "    u,s,vt = np.linalg.svd(tf_idf_mat,full_matrices=False)\n",
    "    scores = np.matmul(u,np.diag(s))\n",
    "    plt.figure()\n",
    "    scatter_plot = plt.scatter(scores[:,0],scores[:,1],c=clusters)\n",
    "    plt.xlabel(\"first pc\")\n",
    "    plt.ylabel(\"second pc\")\n",
    "    plt.title(\"projection onto pcs\")"
   ]
  },
  {
   "cell_type": "code",
   "execution_count": 111,
   "metadata": {},
   "outputs": [
    {
     "data": {
      "image/png": "[encoded data removed]",
      "text/plain": [
       "<Figure size 432x288 with 1 Axes>"
      ]
     },
     "metadata": {
      "needs_background": "light"
     },
     "output_type": "display_data"
    },
    {
     "data": {
      "image/png": "[encoded data removed]",
      "text/plain": [
       "<Figure size 432x288 with 1 Axes>"
      ]
     },
     "metadata": {
      "needs_background": "light"
     },
     "output_type": "display_data"
    },
    {
     "data": {
      "image/png": "[encoded data removed]",
      "text/plain": [
       "<Figure size 432x288 with 1 Axes>"
      ]
     },
     "metadata": {
      "needs_background": "light"
     },
     "output_type": "display_data"
    },
    {
     "data": {
      "image/png": "[encoded data removed]",
      "text/plain": [
       "<Figure size 432x288 with 1 Axes>"
      ]
     },
     "metadata": {
      "needs_background": "light"
     },
     "output_type": "display_data"
    }
   ],
   "source": [
    "cluster_nums = [2,5,7,10]\n",
    "for num in cluster_nums:\n",
    "    plot_clusters(tfidf_mat,num)"
   ]
  },
  {
   "cell_type": "markdown",
   "metadata": {},
   "source": [
    "Projecting the points onto the first two principle components and then plotting out the cluster results from k-means, we see that there is one clear outlier in the plot on the upper left. We can see that this outlier is the speech by Jimmy Carter in 1981, which is one of the only three speeches that where SOU was only written, and not spoken, so this make sense. "
   ]
  },
  {
   "cell_type": "code",
   "execution_count": 112,
   "metadata": {},
   "outputs": [],
   "source": [
    "model = KMeans(n_clusters=2)\n",
    "sou_clust = model.fit(tfidf_mat)\n",
    "clusters = sou_clust.predict(tf_idf_mat)\n",
    "np.argwhere(clusters>0)"
   ]
  },
  {
   "cell_type": "code",
   "execution_count": 116,
   "metadata": {},
   "outputs": [
    {
     "data": {
      "text/plain": [
       "('Jimmy Carter', '1981')"
      ]
     },
     "execution_count": 116,
     "metadata": {},
     "output_type": "execute_result"
    }
   ],
   "source": [
    "(processed_SOUs[206].President,processed_SOUs[206].Year)"
   ]
  },
  {
   "cell_type": "markdown",
   "metadata": {},
   "source": [
    "Due to the existence of one outlier, the rest of clustering is difficult to see. Given this, I limited the axis of the plot to zoom in on the rest of the clusters."
   ]
  },
  {
   "cell_type": "code",
   "execution_count": 117,
   "metadata": {},
   "outputs": [
    {
     "data": {
      "image/png": "[encoded data removed]",
      "text/plain": [
       "<Figure size 432x288 with 1 Axes>"
      ]
     },
     "metadata": {
      "needs_background": "light"
     },
     "output_type": "display_data"
    },
    {
     "data": {
      "image/png": "[encoded data removed]",
      "text/plain": [
       "<Figure size 432x288 with 1 Axes>"
      ]
     },
     "metadata": {
      "needs_background": "light"
     },
     "output_type": "display_data"
    },
    {
     "data": {
      "image/png": "[encoded data removed]",
      "text/plain": [
       "<Figure size 432x288 with 1 Axes>"
      ]
     },
     "metadata": {
      "needs_background": "light"
     },
     "output_type": "display_data"
    },
    {
     "data": {
      "image/png": "[encoded data removed]",
      "text/plain": [
       "<Figure size 432x288 with 1 Axes>"
      ]
     },
     "metadata": {
      "needs_background": "light"
     },
     "output_type": "display_data"
    }
   ],
   "source": [
    "def plot_clusters(tfidf_mat,num_cluster):\n",
    "    model = KMeans(n_clusters=num_cluster)\n",
    "    sou_clust = model.fit(tfidf_mat)\n",
    "    clusters = sou_clust.predict(tf_idf_mat)\n",
    "    u,s,vt = np.linalg.svd(tf_idf_mat,full_matrices=False)\n",
    "    scores = np.matmul(u,np.diag(s))\n",
    "    plt.figure()\n",
    "    scatter_plot = plt.scatter(scores[:,0],scores[:,1],c=clusters)\n",
    "    plt.xlabel(\"first pc\")\n",
    "    plt.ylabel(\"second pc\")\n",
    "    plt.xlim(-300,10)\n",
    "    plt.ylim(-150,100)\n",
    "    plt.title(\"projection onto pcs\")\n",
    "    \n",
    "cluster_nums = [2,5,7,10]\n",
    "for num in cluster_nums:\n",
    "    plot_clusters(tfidf_mat,num)"
   ]
  },
  {
   "cell_type": "markdown",
   "metadata": {},
   "source": [
    "We see that the clusters roughly correspond to the position of projection onto the dimension spanned by the first two principle components. We can take a look at the loading of first and second principle corresponding to each word in the vocabulary list, by looking at the top 5 entries with the highest absolute values."
   ]
  },
  {
   "cell_type": "code",
   "execution_count": 128,
   "metadata": {},
   "outputs": [],
   "source": [
    "u,s,vt = np.linalg.svd(tf_idf_mat,full_matrices=False)\n",
    "v = np.transpose(vt)\n",
    "pc1 = v[:,0]\n",
    "pc2 = v[:,1]"
   ]
  },
  {
   "cell_type": "code",
   "execution_count": 129,
   "metadata": {},
   "outputs": [],
   "source": [
    "index_pc1 = pc1.argsort()[-5:][::-1]\n",
    "index_pc2 = pc2.argsort()[-5:][::-1]"
   ]
  },
  {
   "cell_type": "code",
   "execution_count": 136,
   "metadata": {},
   "outputs": [
    {
     "data": {
      "text/plain": [
       "[('will', 9593), ('at', 7141), ('congress', 5218), ('on', 9484), ('but', 5707)]"
      ]
     },
     "execution_count": 136,
     "metadata": {},
     "output_type": "execute_result"
    }
   ],
   "source": [
    "words_pc1 = [cleaned_master_list[i] for i in index_pc1]\n",
    "words_pc1"
   ]
  },
  {
   "cell_type": "code",
   "execution_count": 138,
   "metadata": {},
   "outputs": [
    {
     "data": {
      "text/plain": [
       "[('\\x95', 98), ('1980', 89), ('u', 153), ('soviet', 283), ('programs', 505)]"
      ]
     },
     "execution_count": 138,
     "metadata": {},
     "output_type": "execute_result"
    }
   ],
   "source": [
    "words_pc2 = [cleaned_master_list[i] for i in index_pc2]\n",
    "words_pc2"
   ]
  },
  {
   "cell_type": "markdown",
   "metadata": {},
   "source": [
    "Looking at the words contributing the most to first and second principle components, there isn't a very clear cut interpretation. However, we do see that Soviet has a high loading for principle component number 2, which corresponds to the fact that 1981 was at the time of cold war, and that Jimmy Carter's outlier 1981 speech has high score for principle component 2. We may interpret that some of the clusters represent speeches that were written about the cold war and US-soviet relations, while others at more ordinary times. "
   ]
  }
 ],
 "metadata": {
  "kernelspec": {
   "display_name": "Python 3",
   "language": "python",
   "name": "python3"
  },
  "language_info": {
   "codemirror_mode": {
    "name": "ipython",
    "version": 3
   },
   "file_extension": ".py",
   "mimetype": "text/x-python",
   "name": "python",
   "nbconvert_exporter": "python",
   "pygments_lexer": "ipython3",
   "version": "3.7.5"
  }
 },
 "nbformat": 4,
 "nbformat_minor": 2
}
