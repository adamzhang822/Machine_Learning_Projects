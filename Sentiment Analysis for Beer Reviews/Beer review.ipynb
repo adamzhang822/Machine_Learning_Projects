{
 "cells": [
  {
   "cell_type": "markdown",
   "metadata": {
    "colab_type": "text",
    "id": "EHr600OGXI5m"
   },
   "source": [
    "## Part 1: Data Inspection"
   ]
  },
  {
   "cell_type": "code",
   "execution_count": 0,
   "metadata": {
    "colab": {},
    "colab_type": "code",
    "id": "J4B63MJgXI5p"
   },
   "outputs": [],
   "source": [
    "import json\n",
    "import numpy as np\n",
    "f=open('labeled_small.json','r')\n",
    "data=json.load(f)"
   ]
  },
  {
   "cell_type": "code",
   "execution_count": 0,
   "metadata": {
    "colab": {},
    "colab_type": "code",
    "id": "pTjFtQBfXI6A"
   },
   "outputs": [],
   "source": [
    "import pandas as pd\n",
    "# Create label for reviews, 1 for positive if review score is at least 14, and 0 otherwise\n",
    "for d in data:\n",
    "    if d['overall'] >= 14:\n",
    "        d['label'] = 1\n",
    "    else:\n",
    "        d['label'] = 0\n",
    "df = pd.DataFrame(data)\n",
    "by_brewer = df.groupby(['brewer'])['overall'].describe()\n",
    "by_beer = df.groupby(['beer_id'])['overall'].describe()"
   ]
  },
  {
   "cell_type": "code",
   "execution_count": 4,
   "metadata": {
    "colab": {
     "base_uri": "https://localhost:8080/",
     "height": 235
    },
    "colab_type": "code",
    "executionInfo": {
     "elapsed": 345,
     "status": "ok",
     "timestamp": 1588624955753,
     "user": {
      "displayName": "Adam Zhang",
      "photoUrl": "",
      "userId": "15014079408385344051"
     },
     "user_tz": 300
    },
    "id": "8iKQPBk3XI6F",
    "outputId": "9ef838a7-5fef-4479-c579-78992a2549cf"
   },
   "outputs": [
    {
     "data": {
      "text/html": [
       "<div>\n",
       "<style scoped>\n",
       "    .dataframe tbody tr th:only-of-type {\n",
       "        vertical-align: middle;\n",
       "    }\n",
       "\n",
       "    .dataframe tbody tr th {\n",
       "        vertical-align: top;\n",
       "    }\n",
       "\n",
       "    .dataframe thead th {\n",
       "        text-align: right;\n",
       "    }\n",
       "</style>\n",
       "<table border=\"1\" class=\"dataframe\">\n",
       "  <thead>\n",
       "    <tr style=\"text-align: right;\">\n",
       "      <th></th>\n",
       "      <th>count</th>\n",
       "      <th>mean</th>\n",
       "      <th>std</th>\n",
       "      <th>min</th>\n",
       "      <th>25%</th>\n",
       "      <th>50%</th>\n",
       "      <th>75%</th>\n",
       "      <th>max</th>\n",
       "    </tr>\n",
       "    <tr>\n",
       "      <th>brewer</th>\n",
       "      <th></th>\n",
       "      <th></th>\n",
       "      <th></th>\n",
       "      <th></th>\n",
       "      <th></th>\n",
       "      <th></th>\n",
       "      <th></th>\n",
       "      <th></th>\n",
       "    </tr>\n",
       "  </thead>\n",
       "  <tbody>\n",
       "    <tr>\n",
       "      <th>0</th>\n",
       "      <td>519.0</td>\n",
       "      <td>12.836224</td>\n",
       "      <td>2.545751</td>\n",
       "      <td>1.0</td>\n",
       "      <td>12.0</td>\n",
       "      <td>13.0</td>\n",
       "      <td>15.0</td>\n",
       "      <td>18.0</td>\n",
       "    </tr>\n",
       "    <tr>\n",
       "      <th>10</th>\n",
       "      <td>6300.0</td>\n",
       "      <td>14.141905</td>\n",
       "      <td>2.223685</td>\n",
       "      <td>1.0</td>\n",
       "      <td>13.0</td>\n",
       "      <td>14.0</td>\n",
       "      <td>16.0</td>\n",
       "      <td>20.0</td>\n",
       "    </tr>\n",
       "    <tr>\n",
       "      <th>58</th>\n",
       "      <td>13.0</td>\n",
       "      <td>12.769231</td>\n",
       "      <td>2.948272</td>\n",
       "      <td>4.0</td>\n",
       "      <td>12.0</td>\n",
       "      <td>14.0</td>\n",
       "      <td>14.0</td>\n",
       "      <td>16.0</td>\n",
       "    </tr>\n",
       "    <tr>\n",
       "      <th>61</th>\n",
       "      <td>62.0</td>\n",
       "      <td>11.112903</td>\n",
       "      <td>2.120198</td>\n",
       "      <td>6.0</td>\n",
       "      <td>10.0</td>\n",
       "      <td>11.5</td>\n",
       "      <td>13.0</td>\n",
       "      <td>16.0</td>\n",
       "    </tr>\n",
       "    <tr>\n",
       "      <th>66</th>\n",
       "      <td>3.0</td>\n",
       "      <td>13.666667</td>\n",
       "      <td>1.527525</td>\n",
       "      <td>12.0</td>\n",
       "      <td>13.0</td>\n",
       "      <td>14.0</td>\n",
       "      <td>14.5</td>\n",
       "      <td>15.0</td>\n",
       "    </tr>\n",
       "  </tbody>\n",
       "</table>\n",
       "</div>"
      ],
      "text/plain": [
       "         count       mean       std   min   25%   50%   75%   max\n",
       "brewer                                                           \n",
       "0        519.0  12.836224  2.545751   1.0  12.0  13.0  15.0  18.0\n",
       "10      6300.0  14.141905  2.223685   1.0  13.0  14.0  16.0  20.0\n",
       "58        13.0  12.769231  2.948272   4.0  12.0  14.0  14.0  16.0\n",
       "61        62.0  11.112903  2.120198   6.0  10.0  11.5  13.0  16.0\n",
       "66         3.0  13.666667  1.527525  12.0  13.0  14.0  14.5  15.0"
      ]
     },
     "execution_count": 4,
     "metadata": {
      "tags": []
     },
     "output_type": "execute_result"
    }
   ],
   "source": [
    "by_brewer.head()"
   ]
  },
  {
   "cell_type": "code",
   "execution_count": 5,
   "metadata": {
    "colab": {
     "base_uri": "https://localhost:8080/",
     "height": 235
    },
    "colab_type": "code",
    "executionInfo": {
     "elapsed": 483,
     "status": "ok",
     "timestamp": 1588624958969,
     "user": {
      "displayName": "Adam Zhang",
      "photoUrl": "",
      "userId": "15014079408385344051"
     },
     "user_tz": 300
    },
    "id": "qu-eHfqPXI6L",
    "outputId": "cb3b93dc-20b3-4de2-b970-373f79e8ba5b"
   },
   "outputs": [
    {
     "data": {
      "text/html": [
       "<div>\n",
       "<style scoped>\n",
       "    .dataframe tbody tr th:only-of-type {\n",
       "        vertical-align: middle;\n",
       "    }\n",
       "\n",
       "    .dataframe tbody tr th {\n",
       "        vertical-align: top;\n",
       "    }\n",
       "\n",
       "    .dataframe thead th {\n",
       "        text-align: right;\n",
       "    }\n",
       "</style>\n",
       "<table border=\"1\" class=\"dataframe\">\n",
       "  <thead>\n",
       "    <tr style=\"text-align: right;\">\n",
       "      <th></th>\n",
       "      <th>count</th>\n",
       "      <th>mean</th>\n",
       "      <th>std</th>\n",
       "      <th>min</th>\n",
       "      <th>25%</th>\n",
       "      <th>50%</th>\n",
       "      <th>75%</th>\n",
       "      <th>max</th>\n",
       "    </tr>\n",
       "    <tr>\n",
       "      <th>beer_id</th>\n",
       "      <th></th>\n",
       "      <th></th>\n",
       "      <th></th>\n",
       "      <th></th>\n",
       "      <th></th>\n",
       "      <th></th>\n",
       "      <th></th>\n",
       "      <th></th>\n",
       "    </tr>\n",
       "  </thead>\n",
       "  <tbody>\n",
       "    <tr>\n",
       "      <th>1</th>\n",
       "      <td>3.0</td>\n",
       "      <td>14.0</td>\n",
       "      <td>3.000000</td>\n",
       "      <td>11.0</td>\n",
       "      <td>12.50</td>\n",
       "      <td>14.0</td>\n",
       "      <td>15.50</td>\n",
       "      <td>17.0</td>\n",
       "    </tr>\n",
       "    <tr>\n",
       "      <th>19</th>\n",
       "      <td>5.0</td>\n",
       "      <td>8.2</td>\n",
       "      <td>4.266146</td>\n",
       "      <td>2.0</td>\n",
       "      <td>6.00</td>\n",
       "      <td>9.0</td>\n",
       "      <td>12.00</td>\n",
       "      <td>12.0</td>\n",
       "    </tr>\n",
       "    <tr>\n",
       "      <th>21</th>\n",
       "      <td>1.0</td>\n",
       "      <td>13.0</td>\n",
       "      <td>NaN</td>\n",
       "      <td>13.0</td>\n",
       "      <td>13.00</td>\n",
       "      <td>13.0</td>\n",
       "      <td>13.00</td>\n",
       "      <td>13.0</td>\n",
       "    </tr>\n",
       "    <tr>\n",
       "      <th>24</th>\n",
       "      <td>2.0</td>\n",
       "      <td>11.5</td>\n",
       "      <td>0.707107</td>\n",
       "      <td>11.0</td>\n",
       "      <td>11.25</td>\n",
       "      <td>11.5</td>\n",
       "      <td>11.75</td>\n",
       "      <td>12.0</td>\n",
       "    </tr>\n",
       "    <tr>\n",
       "      <th>42</th>\n",
       "      <td>2.0</td>\n",
       "      <td>4.5</td>\n",
       "      <td>2.121320</td>\n",
       "      <td>3.0</td>\n",
       "      <td>3.75</td>\n",
       "      <td>4.5</td>\n",
       "      <td>5.25</td>\n",
       "      <td>6.0</td>\n",
       "    </tr>\n",
       "  </tbody>\n",
       "</table>\n",
       "</div>"
      ],
      "text/plain": [
       "         count  mean       std   min    25%   50%    75%   max\n",
       "beer_id                                                       \n",
       "1          3.0  14.0  3.000000  11.0  12.50  14.0  15.50  17.0\n",
       "19         5.0   8.2  4.266146   2.0   6.00   9.0  12.00  12.0\n",
       "21         1.0  13.0       NaN  13.0  13.00  13.0  13.00  13.0\n",
       "24         2.0  11.5  0.707107  11.0  11.25  11.5  11.75  12.0\n",
       "42         2.0   4.5  2.121320   3.0   3.75   4.5   5.25   6.0"
      ]
     },
     "execution_count": 5,
     "metadata": {
      "tags": []
     },
     "output_type": "execute_result"
    }
   ],
   "source": [
    "by_beer.head()"
   ]
  },
  {
   "cell_type": "markdown",
   "metadata": {
    "colab_type": "text",
    "id": "NnpzoVurXI6R"
   },
   "source": [
    "The summary statistics by beer is not very reliable, since many beers only have few or even just one review. Looking at the summary statistics by brewer, we see that generally people have similar tastes. The standard deviation for slected brewers are usually around 2~3 points. "
   ]
  },
  {
   "cell_type": "markdown",
   "metadata": {
    "colab_type": "text",
    "id": "qTt0_oFMXI6S"
   },
   "source": [
    "## Part 2: Sentiment analysis"
   ]
  },
  {
   "cell_type": "markdown",
   "metadata": {
    "colab_type": "text",
    "id": "LO-4_j5zXI6T"
   },
   "source": [
    "### (a). Generating Features"
   ]
  },
  {
   "cell_type": "code",
   "execution_count": 0,
   "metadata": {
    "colab": {},
    "colab_type": "code",
    "id": "0JWAQIHSXI6U"
   },
   "outputs": [],
   "source": [
    "# loading necessary packages as well as loading vocab info\n",
    "import scipy.sparse as sp\n",
    "import numpy as np\n",
    "with open('vocab_30.json','r') as g:\n",
    "    vocab = json.load(g)\n",
    "vocab_list = list(vocab.keys())"
   ]
  },
  {
   "cell_type": "code",
   "execution_count": 0,
   "metadata": {
    "colab": {},
    "colab_type": "code",
    "id": "7rmpnEssXI6d"
   },
   "outputs": [],
   "source": [
    "# splitting data into training, validation and testing sets with proportion 0.7:0.15:0.15\n",
    "np.random.seed(123151)\n",
    "n = len(data)\n",
    "indexes = np.arange(n)\n",
    "np.random.shuffle(indexes)\n",
    "\n",
    "[train,validation,test] = np.split(indexes,[int(n*0.7),int(n*0.85)])\n",
    "train_data = [data[i] for i in train]\n",
    "validation_data = [data[i] for i in validation]\n",
    "test_data = [data[i] for i in test]"
   ]
  },
  {
   "cell_type": "code",
   "execution_count": 0,
   "metadata": {
    "colab": {},
    "colab_type": "code",
    "id": "KE8jAHQKXI6r"
   },
   "outputs": [],
   "source": [
    "import re\n",
    "n_train = len(train_data)\n",
    "p = len(vocab_list)\n",
    "data_matrix = sp.lil_matrix((n_train,p))"
   ]
  },
  {
   "cell_type": "code",
   "execution_count": 0,
   "metadata": {
    "colab": {},
    "colab_type": "code",
    "id": "57pUHY1TXI6w"
   },
   "outputs": [],
   "source": [
    "for i in range(n_train):\n",
    "    text = train_data[i]['review']\n",
    "    text = text.lower()\n",
    "    text = re.sub(r\"\\W+|_\",\" \",text)\n",
    "    words = text.split()\n",
    "    for word in words:\n",
    "        if word in vocab_list:\n",
    "            data_matrix[i,vocab[word]] = 1\n",
    "    if (i % 1000) == 0:\n",
    "      print(i)"
   ]
  },
  {
   "cell_type": "code",
   "execution_count": 0,
   "metadata": {
    "colab": {},
    "colab_type": "code",
    "id": "dazz5BmYXI62"
   },
   "outputs": [],
   "source": [
    "data_matrix_sp = data_matrix.tocsr()"
   ]
  },
  {
   "cell_type": "code",
   "execution_count": 0,
   "metadata": {
    "colab": {},
    "colab_type": "code",
    "id": "x9riK0zoXI68"
   },
   "outputs": [],
   "source": [
    "# do the same for validation data:\n",
    "n_val = len(validation_data)\n",
    "data_matrix_val = sp.lil_matrix((n_val,p))\n",
    "for i in range(n_val):\n",
    "    text = validation_data[i]['review']\n",
    "    text = text.lower()\n",
    "    text = re.sub(r\"\\W+|_\",\" \",text)\n",
    "    words = text.split()\n",
    "    for word in words:\n",
    "        if word in vocab_list:\n",
    "            data_matrix_val[i,vocab[word]] = 1"
   ]
  },
  {
   "cell_type": "code",
   "execution_count": 0,
   "metadata": {
    "colab": {},
    "colab_type": "code",
    "id": "6s11AQcPXI7D"
   },
   "outputs": [],
   "source": [
    "data_matrix_val_sp = data_matrix_val.tocsr()"
   ]
  },
  {
   "cell_type": "code",
   "execution_count": 0,
   "metadata": {
    "colab": {},
    "colab_type": "code",
    "id": "6vrbzRvhXI7Q"
   },
   "outputs": [],
   "source": [
    "# do the same for testing data:\n",
    "n_test = len(test_data)\n",
    "data_matrix_test = sp.lil_matrix((n_test,p))\n",
    "for i in range(n_test):\n",
    "    text = test_data[i]['review']\n",
    "    text = text.lower()\n",
    "    text = re.sub(r\"\\W+|_\",\" \",text)\n",
    "    words = text.split()\n",
    "    for word in words:\n",
    "        if word in vocab_list:\n",
    "            data_matrix_test[i,vocab[word]] = 1"
   ]
  },
  {
   "cell_type": "code",
   "execution_count": 0,
   "metadata": {
    "colab": {},
    "colab_type": "code",
    "id": "r1Gexqx9XI7c"
   },
   "outputs": [],
   "source": [
    "data_matrix_test_sp = data_matrix_test.tocsr()"
   ]
  },
  {
   "cell_type": "markdown",
   "metadata": {
    "colab_type": "text",
    "id": "9NFUaLiDXI7h"
   },
   "source": [
    "### (b). Logistic Loss vs. Hinge Loss"
   ]
  },
  {
   "cell_type": "markdown",
   "metadata": {
    "colab_type": "text",
    "id": "bjVJpG_8XI7i"
   },
   "source": [
    "#### Logistic Loss:"
   ]
  },
  {
   "cell_type": "markdown",
   "metadata": {
    "colab_type": "text",
    "id": "uBzjX5mJweAC"
   },
   "source": [
    "When training logistic regression, I noticed that if max_iter is low, the algorithm does not converge. However, even when I set max_iter to be very high and wait for convergence, the error rate does not change by very much, so for the sake of speed and convenience I will let the max number of iteration to be low and use whatever coefficients that come out of the algorithm. "
   ]
  },
  {
   "cell_type": "code",
   "execution_count": 0,
   "metadata": {
    "colab": {},
    "colab_type": "code",
    "id": "3NkjGrk6XI7j"
   },
   "outputs": [],
   "source": [
    "from sklearn.linear_model import LogisticRegression"
   ]
  },
  {
   "cell_type": "code",
   "execution_count": 0,
   "metadata": {
    "colab": {},
    "colab_type": "code",
    "id": "gGle3Oc2XI7v"
   },
   "outputs": [],
   "source": [
    "labels = df['label'].to_numpy()\n",
    "train_labels = np.array([labels[i] for i in train])\n",
    "validation_labels = np.array([labels[i] for i in validation])\n",
    "test_labels = np.array([labels[i] for i in test])"
   ]
  },
  {
   "cell_type": "code",
   "execution_count": 0,
   "metadata": {
    "colab": {},
    "colab_type": "code",
    "id": "48pVcC9SXI7z"
   },
   "outputs": [],
   "source": [
    "import warnings\n",
    "warnings.simplefilter('ignore')\n",
    "\n",
    "lambda_grid = [100000,10000,1000,100,10,1,0.1,0.01]\n",
    "error = []\n",
    "nn = len(validation_labels)\n",
    "for lamb in lambda_grid:\n",
    "    lg = LogisticRegression(fit_intercept=True,C=lamb,penalty='l2',solver='saga')\n",
    "    model = lg.fit(data_matrix_sp,train_labels)\n",
    "    predicted = model.predict(data_matrix_val_sp)\n",
    "    error_curr = ((predicted != validation_labels).sum()) / nn\n",
    "    error.append(error_curr)"
   ]
  },
  {
   "cell_type": "code",
   "execution_count": 69,
   "metadata": {
    "colab": {
     "base_uri": "https://localhost:8080/",
     "height": 153
    },
    "colab_type": "code",
    "executionInfo": {
     "elapsed": 438,
     "status": "ok",
     "timestamp": 1588631328511,
     "user": {
      "displayName": "Adam Zhang",
      "photoUrl": "",
      "userId": "15014079408385344051"
     },
     "user_tz": 300
    },
    "id": "VzbzIHp6wT_r",
    "outputId": "215ba7a9-a118-49f6-9242-ff3bb72959ce"
   },
   "outputs": [
    {
     "data": {
      "text/plain": [
       "[0.23406666666666667,\n",
       " 0.23413333333333333,\n",
       " 0.23413333333333333,\n",
       " 0.234,\n",
       " 0.23406666666666667,\n",
       " 0.23166666666666666,\n",
       " 0.22553333333333334,\n",
       " 0.23553333333333334]"
      ]
     },
     "execution_count": 69,
     "metadata": {
      "tags": []
     },
     "output_type": "execute_result"
    }
   ],
   "source": [
    "error"
   ]
  },
  {
   "cell_type": "code",
   "execution_count": 70,
   "metadata": {
    "colab": {
     "base_uri": "https://localhost:8080/",
     "height": 286
    },
    "colab_type": "code",
    "executionInfo": {
     "elapsed": 633,
     "status": "ok",
     "timestamp": 1588631330700,
     "user": {
      "displayName": "Adam Zhang",
      "photoUrl": "",
      "userId": "15014079408385344051"
     },
     "user_tz": 300
    },
    "id": "l5sieacdXI97",
    "outputId": "2dfa1862-23fd-46cf-df52-170e6b1fa31d"
   },
   "outputs": [
    {
     "data": {
      "text/plain": [
       "[<matplotlib.lines.Line2D at 0x7f7259742278>]"
      ]
     },
     "execution_count": 70,
     "metadata": {
      "tags": []
     },
     "output_type": "execute_result"
    },
    {
     "data": {
      "image/png": "[encoded data removed]",
      "text/plain": [
       "<Figure size 432x288 with 1 Axes>"
      ]
     },
     "metadata": {
      "needs_background": "light",
      "tags": []
     },
     "output_type": "display_data"
    }
   ],
   "source": [
    "import matplotlib.pyplot as plt\n",
    "plt.plot(range(len(lambda_grid)),error)"
   ]
  },
  {
   "cell_type": "code",
   "execution_count": 71,
   "metadata": {
    "colab": {
     "base_uri": "https://localhost:8080/",
     "height": 34
    },
    "colab_type": "code",
    "executionInfo": {
     "elapsed": 661,
     "status": "ok",
     "timestamp": 1588631333918,
     "user": {
      "displayName": "Adam Zhang",
      "photoUrl": "",
      "userId": "15014079408385344051"
     },
     "user_tz": 300
    },
    "id": "LDyd9_z-XI-H",
    "outputId": "01faa2f9-1ad9-44dd-bcf6-73e38dd7ff52"
   },
   "outputs": [
    {
     "data": {
      "text/plain": [
       "10.0"
      ]
     },
     "execution_count": 71,
     "metadata": {
      "tags": []
     },
     "output_type": "execute_result"
    }
   ],
   "source": [
    "1/lambda_grid[6]"
   ]
  },
  {
   "cell_type": "code",
   "execution_count": 72,
   "metadata": {
    "colab": {
     "base_uri": "https://localhost:8080/",
     "height": 34
    },
    "colab_type": "code",
    "executionInfo": {
     "elapsed": 740,
     "status": "ok",
     "timestamp": 1588631335380,
     "user": {
      "displayName": "Adam Zhang",
      "photoUrl": "",
      "userId": "15014079408385344051"
     },
     "user_tz": 300
    },
    "id": "K4H0Pa5lXI-O",
    "outputId": "db088f3e-29df-410f-c1ff-c46904f1b016"
   },
   "outputs": [
    {
     "data": {
      "text/plain": [
       "0.22553333333333334"
      ]
     },
     "execution_count": 72,
     "metadata": {
      "tags": []
     },
     "output_type": "execute_result"
    }
   ],
   "source": [
    "error[6]"
   ]
  },
  {
   "cell_type": "code",
   "execution_count": 83,
   "metadata": {
    "colab": {
     "base_uri": "https://localhost:8080/",
     "height": 34
    },
    "colab_type": "code",
    "executionInfo": {
     "elapsed": 7193,
     "status": "ok",
     "timestamp": 1588633130991,
     "user": {
      "displayName": "Adam Zhang",
      "photoUrl": "",
      "userId": "15014079408385344051"
     },
     "user_tz": 300
    },
    "id": "-_R9mVYuznmo",
    "outputId": "31e3517b-8490-431c-afa4-925173e0ff77"
   },
   "outputs": [
    {
     "data": {
      "text/plain": [
       "0.2298"
      ]
     },
     "execution_count": 83,
     "metadata": {
      "tags": []
     },
     "output_type": "execute_result"
    }
   ],
   "source": [
    "# Retrain the model on union of training and validation data, and get the test error\n",
    "full_train = sp.vstack([data_matrix_sp,data_matrix_val_sp])\n",
    "full_train_labels = np.concatenate([train_labels,validation_labels])\n",
    "lg = LogisticRegression(fit_intercept=True,C=lambda_grid[6],penalty='l2',solver='saga')\n",
    "model = lg.fit(full_train,full_train_labels)\n",
    "predicted = model.predict(data_matrix_test_sp)\n",
    "test_error = ((predicted != test_labels).sum()) / nn\n",
    "test_error"
   ]
  },
  {
   "cell_type": "markdown",
   "metadata": {
    "colab_type": "text",
    "id": "w66vc3LKXI-Q"
   },
   "source": [
    "#### Hinge Loss:"
   ]
  },
  {
   "cell_type": "code",
   "execution_count": 0,
   "metadata": {
    "colab": {},
    "colab_type": "code",
    "id": "3jCq_xKqXI-R"
   },
   "outputs": [],
   "source": [
    "from sklearn.svm import LinearSVC\n",
    "error_SVC = []\n",
    "for lamb in lambda_grid:\n",
    "    svc = LinearSVC(penalty='l2',loss='hinge', C=lamb, fit_intercept=True, max_iter=1000)\n",
    "    model = svc.fit(data_matrix_sp,train_labels)\n",
    "    predicted = model.predict(data_matrix_val_sp)\n",
    "    error_curr = ((predicted != validation_labels).sum()) / nn\n",
    "    error_SVC.append(error_curr)"
   ]
  },
  {
   "cell_type": "code",
   "execution_count": 86,
   "metadata": {
    "colab": {
     "base_uri": "https://localhost:8080/",
     "height": 282
    },
    "colab_type": "code",
    "executionInfo": {
     "elapsed": 483,
     "status": "ok",
     "timestamp": 1588633859153,
     "user": {
      "displayName": "Adam Zhang",
      "photoUrl": "",
      "userId": "15014079408385344051"
     },
     "user_tz": 300
    },
    "id": "tKILLM_FXI-X",
    "outputId": "c1dec091-6f07-44e0-e256-3248a2806b6d"
   },
   "outputs": [
    {
     "data": {
      "text/plain": [
       "[<matplotlib.lines.Line2D at 0x7f7254791710>]"
      ]
     },
     "execution_count": 86,
     "metadata": {
      "tags": []
     },
     "output_type": "execute_result"
    },
    {
     "data": {
      "image/png": "[encoded data removed]",
      "text/plain": [
       "<Figure size 432x288 with 1 Axes>"
      ]
     },
     "metadata": {
      "needs_background": "light",
      "tags": []
     },
     "output_type": "display_data"
    }
   ],
   "source": [
    "plt.plot(range(len(lambda_grid)),error_SVC)"
   ]
  },
  {
   "cell_type": "code",
   "execution_count": 87,
   "metadata": {
    "colab": {
     "base_uri": "https://localhost:8080/",
     "height": 34
    },
    "colab_type": "code",
    "executionInfo": {
     "elapsed": 764,
     "status": "ok",
     "timestamp": 1588633859514,
     "user": {
      "displayName": "Adam Zhang",
      "photoUrl": "",
      "userId": "15014079408385344051"
     },
     "user_tz": 300
    },
    "id": "jqLBELE-XI-c",
    "outputId": "ca549b6f-c9f2-4bbb-d998-acf5b80701ff"
   },
   "outputs": [
    {
     "data": {
      "text/plain": [
       "10.0"
      ]
     },
     "execution_count": 87,
     "metadata": {
      "tags": []
     },
     "output_type": "execute_result"
    }
   ],
   "source": [
    "1/lambda_grid[6]"
   ]
  },
  {
   "cell_type": "code",
   "execution_count": 88,
   "metadata": {
    "colab": {
     "base_uri": "https://localhost:8080/",
     "height": 34
    },
    "colab_type": "code",
    "executionInfo": {
     "elapsed": 719,
     "status": "ok",
     "timestamp": 1588633859516,
     "user": {
      "displayName": "Adam Zhang",
      "photoUrl": "",
      "userId": "15014079408385344051"
     },
     "user_tz": 300
    },
    "id": "1y_gPg4tXI-j",
    "outputId": "e9b95ec7-2727-46c8-a952-dfe1d5e16bf0"
   },
   "outputs": [
    {
     "data": {
      "text/plain": [
       "0.22853333333333334"
      ]
     },
     "execution_count": 88,
     "metadata": {
      "tags": []
     },
     "output_type": "execute_result"
    }
   ],
   "source": [
    "error_SVC[6]"
   ]
  },
  {
   "cell_type": "code",
   "execution_count": 90,
   "metadata": {
    "colab": {
     "base_uri": "https://localhost:8080/",
     "height": 34
    },
    "colab_type": "code",
    "executionInfo": {
     "elapsed": 3193,
     "status": "ok",
     "timestamp": 1588633942140,
     "user": {
      "displayName": "Adam Zhang",
      "photoUrl": "",
      "userId": "15014079408385344051"
     },
     "user_tz": 300
    },
    "id": "B5MjvQMx8_6M",
    "outputId": "907a64a7-bdc2-4e15-c5ef-7eb7aacf4cd8"
   },
   "outputs": [
    {
     "data": {
      "text/plain": [
       "0.2318"
      ]
     },
     "execution_count": 90,
     "metadata": {
      "tags": []
     },
     "output_type": "execute_result"
    }
   ],
   "source": [
    "svc = LinearSVC(penalty='l2',loss='hinge', C=lambda_grid[6], fit_intercept=True, max_iter=1000)\n",
    "model = svc.fit(full_train,full_train_labels)\n",
    "predicted = model.predict(data_matrix_test_sp)\n",
    "test_error = ((predicted != test_labels).sum()) / nn\n",
    "test_error"
   ]
  },
  {
   "cell_type": "markdown",
   "metadata": {
    "colab_type": "text",
    "id": "isIMpuTDXI-o"
   },
   "source": [
    "#### Discussion"
   ]
  },
  {
   "cell_type": "markdown",
   "metadata": {
    "colab_type": "text",
    "id": "au8nn54sXI-r"
   },
   "source": [
    "For both logistic regression classifier and SVC classifier, the optimal regularization parameter was 10, which is quite big but reasonable considering the large number of parameters and the sparsity of data. The error rates of the two methods are very close, although for the optimal case, logistic regression gives a slightly better error rate. Logistic regression takes very long to train, and if we reduce the number of iteration to hasten it, the algorithm does not converge. Nevertheless, the error rate for logistic regression is fine even without convergence of MLE algorithms. SVC on the other hand converges pretty fast. "
   ]
  },
  {
   "cell_type": "markdown",
   "metadata": {
    "colab_type": "text",
    "id": "1eZWao4IXI-s"
   },
   "source": [
    "### (c). Stochastic gradient descenet"
   ]
  },
  {
   "cell_type": "code",
   "execution_count": 0,
   "metadata": {
    "colab": {},
    "colab_type": "code",
    "id": "vJj_dldaXI-t"
   },
   "outputs": [],
   "source": [
    "# Preprocess data to add intercept column. \n",
    "intercept_train = sp.csr_matrix(np.ones(len(train_labels)).reshape(len(train_labels),1))\n",
    "intercept_val = sp.csr_matrix(np.ones(len(test_labels)).reshape(len(test_labels),1))\n",
    "aug_data_train = sp.hstack([intercept_train,data_matrix_sp]).tocsr()\n",
    "aug_data_val = sp.hstack([intercept_val,data_matrix_val_sp]).tocsr()\n",
    "aug_data_test = sp.hstack([intercept_val,data_matrix_test_sp]).tocsr()"
   ]
  },
  {
   "cell_type": "code",
   "execution_count": 0,
   "metadata": {
    "colab": {},
    "colab_type": "code",
    "id": "EiPPjCJKAizn"
   },
   "outputs": [],
   "source": [
    "train_labels[train_labels==0] = -1\n",
    "validation_labels[validation_labels==0] = -1\n",
    "test_labels[test_labels==0] = -1"
   ]
  },
  {
   "cell_type": "markdown",
   "metadata": {
    "colab_type": "text",
    "id": "ZtDDnHt_XI-2"
   },
   "source": [
    "The update rules of stochastic gradient descent are as follow:\n",
    "\\begin{align}\n",
    "\\theta_{0}^{new} = \\theta_{0}^{t} + \\delta \\sum_{i=1}^{n}\\frac{y_{i}}{1+e^{2y_{i}\\eta_{i}}} \\\\\n",
    "\\theta_{j}^{new} = \\theta_{j}^{t} + \\delta \\left(\\sum_{i=1}^{n} \\frac{y_{i}x_{ij}}{1+e^{2y_{i}\\eta_{i}}} - \\lambda \\theta_{j} \\right)\n",
    "\\end{align}"
   ]
  },
  {
   "cell_type": "markdown",
   "metadata": {
    "colab_type": "text",
    "id": "xCFE44hjw839"
   },
   "source": [
    "The loss function is just the negative loglikelihood, which is:\n",
    "\n",
    "\\begin{equation}\n",
    "C(\\theta) = \\sum_{i=1}^{n} log(1+e^{-2Y_{i}\\eta_{i}}) + \\lambda \\|\\theta\\|^{2}\n",
    "\\end{equation}"
   ]
  },
  {
   "cell_type": "markdown",
   "metadata": {
    "colab_type": "text",
    "id": "aGPWLvq8yVIM"
   },
   "source": [
    "The predicted probabilities from the model is:\n",
    "\n",
    "\\begin{align}\n",
    "P(Y=1|X=x) &= \\frac{1}{1+e^{-2\\eta}} \\\\\n",
    "P(Y=-1|X=x) &= \\frac{1}{1+e^{2\\eta}}\n",
    "\\end{align}"
   ]
  },
  {
   "cell_type": "code",
   "execution_count": 0,
   "metadata": {
    "colab": {},
    "colab_type": "code",
    "id": "_LwQkf4BXI-3"
   },
   "outputs": [],
   "source": [
    "def neg_loglik(x,y,theta,lamb):\n",
    "    eta = x.dot(theta)\n",
    "    yeta = -2*np.multiply(y,eta)\n",
    "    out = np.log(np.add(1,np.exp(yeta))).sum() + lamb* (np.power(theta,2).sum())\n",
    "    return out\n",
    "\n",
    "def predict_error(theta,x,labels):\n",
    "    eta = x.dot(theta)\n",
    "    probs = np.divide(1,np.add(1,np.exp(-2*eta)))\n",
    "    probs[probs>=0.5] = 1\n",
    "    probs[probs<0.5] = -1\n",
    "    nn = len(labels)\n",
    "    error = ((probs != labels).sum()) / nn\n",
    "    return error \n",
    "\n",
    "def sgd_fixed(delta,lamb,x,y,epochs,batch_size,thresh=0.000001):\n",
    "    # sgd for fixed learning rate \n",
    "    n,p = x.shape\n",
    "    theta = np.zeros(p)\n",
    "    lambmat = lamb*np.ones(p)\n",
    "    lambmat[0] = 0\n",
    "    errors = [predict_error(theta,aug_data_val,validation_labels)]\n",
    "    # store errors \n",
    "    losses = [neg_loglik(x,y,theta,lamb)]\n",
    "    # store losses\n",
    "    indexes = np.arange(n)\n",
    "    for epoch in range(epochs):\n",
    "      np.random.shuffle(indexes)\n",
    "      batch_index = np.r_[0:indexes.shape[0]:batch_size]\n",
    "      batches = np.split(indexes,batch_index[1:])\n",
    "      for batch in batches:\n",
    "        k = batch.shape[0]\n",
    "        xb = x[batch,:]\n",
    "        yb = y[batch].reshape(k,1)\n",
    "        eta = 2*xb.dot(theta)\n",
    "        num = xb.multiply(yb)\n",
    "        denom = np.add(1,np.exp(np.multiply(yb.flatten(),eta))).reshape(k,1)\n",
    "        terms = ((num/denom).sum(axis=0) - np.multiply(lambmat,theta)).flatten()\n",
    "        theta = np.asarray(theta + delta*terms).flatten()\n",
    "        loss_curr = neg_loglik(x,y,theta,lamb)\n",
    "        error_curr = predict_error(theta,aug_data_val,validation_labels)\n",
    "        losses.append(loss_curr)\n",
    "        errors.append(error_curr)\n",
    "        if abs(losses[-1]-losses[-2]) < thresh:\n",
    "          break\n",
    "    res = [theta,errors,losses]\n",
    "    return res"
   ]
  },
  {
   "cell_type": "markdown",
   "metadata": {
    "colab_type": "text",
    "id": "qJHWm6dUXJD1"
   },
   "source": [
    "#### Step 1- Tuning for regularization parameter:"
   ]
  },
  {
   "cell_type": "markdown",
   "metadata": {
    "colab_type": "text",
    "id": "fFDMGHJPXJD1"
   },
   "source": [
    "I will tentatively set the learning rate to be 0.001 as I observed that any higher rate seem to \n",
    "overshoot a bit with each steps (loss not decreasing). With that learning rate I will tune for the regularization parameter first. To make my life easier, I observe that in logistic regression and SVM part, losses tend to be smaller for large regularization parameters due to the high dimension of the data. So I will limit the range of my lambda to higher values. \n",
    "\n",
    "Also, I will perform this process on a subset of my full training data set. "
   ]
  },
  {
   "cell_type": "code",
   "execution_count": 0,
   "metadata": {
    "colab": {},
    "colab_type": "code",
    "id": "ZualuN-Vpeh8"
   },
   "outputs": [],
   "source": [
    "lambda_grid = [0.01,0.1,1,10,100]\n",
    "sgd_res2 = []\n",
    "for lamb in lambda_grid:\n",
    "  res = sgd_fixed(0.001,lamb,aug_data_train[0:50000,:],train_labels[0:50000],25,1250)\n",
    "  sgd_res2.append(res)"
   ]
  },
  {
   "cell_type": "code",
   "execution_count": 42,
   "metadata": {
    "colab": {
     "base_uri": "https://localhost:8080/",
     "height": 282
    },
    "colab_type": "code",
    "executionInfo": {
     "elapsed": 470,
     "status": "ok",
     "timestamp": 1588630060998,
     "user": {
      "displayName": "Adam Zhang",
      "photoUrl": "",
      "userId": "15014079408385344051"
     },
     "user_tz": 300
    },
    "id": "FCW5WfouuGPh",
    "outputId": "17c6a020-d0cc-45b6-aaa2-aa9d85fcd14d"
   },
   "outputs": [
    {
     "data": {
      "text/plain": [
       "[<matplotlib.lines.Line2D at 0x7f726697beb8>]"
      ]
     },
     "execution_count": 42,
     "metadata": {
      "tags": []
     },
     "output_type": "execute_result"
    },
    {
     "data": {
      "image/png": "[encoded data removed]",
      "text/plain": [
       "<Figure size 432x288 with 1 Axes>"
      ]
     },
     "metadata": {
      "needs_background": "light",
      "tags": []
     },
     "output_type": "display_data"
    }
   ],
   "source": [
    "import matplotlib.pyplot as plt\n",
    "min_error_sgd = []\n",
    "for i in range(len(lambda_grid)):\n",
    "  min_error = sgd_res2[i][1][-1]\n",
    "  min_error_sgd.append(min_error)\n",
    "plt.plot(range(len(lambda_grid)),min_error_sgd)"
   ]
  },
  {
   "cell_type": "code",
   "execution_count": 44,
   "metadata": {
    "colab": {
     "base_uri": "https://localhost:8080/",
     "height": 34
    },
    "colab_type": "code",
    "executionInfo": {
     "elapsed": 334,
     "status": "ok",
     "timestamp": 1588630107849,
     "user": {
      "displayName": "Adam Zhang",
      "photoUrl": "",
      "userId": "15014079408385344051"
     },
     "user_tz": 300
    },
    "id": "fpnPkmGauwxi",
    "outputId": "e2053bdf-2768-490b-ee44-b7fbbf0ade86"
   },
   "outputs": [
    {
     "data": {
      "text/plain": [
       "0.1"
      ]
     },
     "execution_count": 44,
     "metadata": {
      "tags": []
     },
     "output_type": "execute_result"
    }
   ],
   "source": [
    "lambda_grid[1] # the lambda that produced the smallest error: "
   ]
  },
  {
   "cell_type": "markdown",
   "metadata": {
    "colab_type": "text",
    "id": "meXqzG2-u_Bq"
   },
   "source": [
    "Cross validation gives that $\\lambda=0.1$ gives the smallest validation error, so I will use this $\\lambda$ for subsequent analysis. Also note that the validation error is very close to the validation error of logistic regression and LinearSVC classifier. "
   ]
  },
  {
   "cell_type": "markdown",
   "metadata": {
    "colab_type": "text",
    "id": "T61QR21TXJEG"
   },
   "source": [
    "#### Step 2 - Trying out decreasing learning rates"
   ]
  },
  {
   "cell_type": "markdown",
   "metadata": {
    "colab_type": "text",
    "id": "QEplgxe1GD31"
   },
   "source": [
    "I will try a decreasing learning rate with \n",
    "\\begin{align}\n",
    "\\delta^{t+1} = \\frac{\\delta^{t}}{t^{1/50}}\n",
    "\\end{align}\n",
    "\n",
    "and start with a higher learning rate of 0.01"
   ]
  },
  {
   "cell_type": "code",
   "execution_count": 0,
   "metadata": {
    "colab": {},
    "colab_type": "code",
    "id": "1diKwWKcXJEG"
   },
   "outputs": [],
   "source": [
    "def sgd_changing(delta,lamb,x,y,epochs,batch_size,thresh=0.000001):\n",
    "    # sgd for fixed learning rate \n",
    "    n,p = x.shape\n",
    "    theta = np.zeros(p)\n",
    "    lambmat = lamb*np.ones(p)\n",
    "    lambmat[0] = 0\n",
    "    errors = [predict_error(theta,aug_data_val,validation_labels)]\n",
    "    # store errors \n",
    "    losses = [neg_loglik(x,y,theta,lamb)]\n",
    "    # store losses\n",
    "    indexes = np.arange(n)\n",
    "    t = 0\n",
    "    for epoch in range(epochs):\n",
    "      np.random.shuffle(indexes)\n",
    "      batch_index = np.r_[0:indexes.shape[0]:batch_size]\n",
    "      batches = np.split(indexes,batch_index[1:])\n",
    "      for batch in batches:\n",
    "        t = t+1\n",
    "        delta = delta / (t**(1/10))\n",
    "        k = batch.shape[0]\n",
    "        xb = x[batch,:]\n",
    "        yb = y[batch].reshape(k,1)\n",
    "        eta = 2*xb.dot(theta)\n",
    "        num = xb.multiply(yb)\n",
    "        denom = np.add(1,np.exp(np.multiply(yb.flatten(),eta))).reshape(k,1)\n",
    "        terms = ((num/denom).sum(axis=0) - np.multiply(lambmat,theta)).flatten()\n",
    "        theta = np.asarray(theta + delta*terms).flatten()\n",
    "        loss_curr = neg_loglik(x,y,theta,lamb)\n",
    "        error_curr = predict_error(theta,aug_data_val,validation_labels)\n",
    "        losses.append(loss_curr)\n",
    "        errors.append(error_curr)\n",
    "        if abs(losses[-1]-losses[-2]) < thresh:\n",
    "          break\n",
    "    res = [theta,errors,losses]\n",
    "    return res"
   ]
  },
  {
   "cell_type": "code",
   "execution_count": 127,
   "metadata": {
    "colab": {
     "base_uri": "https://localhost:8080/",
     "height": 282
    },
    "colab_type": "code",
    "executionInfo": {
     "elapsed": 102719,
     "status": "ok",
     "timestamp": 1588636407518,
     "user": {
      "displayName": "Adam Zhang",
      "photoUrl": "",
      "userId": "15014079408385344051"
     },
     "user_tz": 300
    },
    "id": "FwGpGLojDA5F",
    "outputId": "d94b2e2b-8008-4082-8466-4d3e6e440069"
   },
   "outputs": [
    {
     "data": {
      "text/plain": [
       "[<matplotlib.lines.Line2D at 0x7f7250fd7470>]"
      ]
     },
     "execution_count": 127,
     "metadata": {
      "tags": []
     },
     "output_type": "execute_result"
    },
    {
     "data": {
      "image/png": "[encoded data removed]",
      "text/plain": [
       "<Figure size 432x288 with 1 Axes>"
      ]
     },
     "metadata": {
      "needs_background": "light",
      "tags": []
     },
     "output_type": "display_data"
    }
   ],
   "source": [
    "lambda_grid = [0.01,0.1,1,10,100]\n",
    "sgd_res3 = []\n",
    "for lamb in lambda_grid:\n",
    "  res = sgd_changing(0.05,lamb,aug_data_train[0:50000,:],train_labels[0:50000],25,1250)\n",
    "  sgd_res3.append(res)\n",
    "\n",
    "min_error_sgd = []\n",
    "for i in range(len(lambda_grid)):\n",
    "  min_error = sgd_res3[i][1][-1]\n",
    "  min_error_sgd.append(min_error)\n",
    "plt.plot(range(len(lambda_grid)),min_error_sgd)\n"
   ]
  },
  {
   "cell_type": "code",
   "execution_count": 129,
   "metadata": {
    "colab": {
     "base_uri": "https://localhost:8080/",
     "height": 102
    },
    "colab_type": "code",
    "executionInfo": {
     "elapsed": 474,
     "status": "ok",
     "timestamp": 1588636477751,
     "user": {
      "displayName": "Adam Zhang",
      "photoUrl": "",
      "userId": "15014079408385344051"
     },
     "user_tz": 300
    },
    "id": "2EbaIRmjHMJJ",
    "outputId": "e2d3965d-dc6c-4a11-cf29-b7f2fe504af5"
   },
   "outputs": [
    {
     "data": {
      "text/plain": [
       "[0.271,\n",
       " 0.27113333333333334,\n",
       " 0.27066666666666667,\n",
       " 0.27266666666666667,\n",
       " 0.37793333333333334]"
      ]
     },
     "execution_count": 129,
     "metadata": {
      "tags": []
     },
     "output_type": "execute_result"
    }
   ],
   "source": [
    "min_error_sgd"
   ]
  },
  {
   "cell_type": "markdown",
   "metadata": {
    "colab_type": "text",
    "id": "k_zilIp5Ikea"
   },
   "source": [
    "While implementing SGD with changing learning rate makes the convergence faster, it is very difficult to tune for the rate of decrease, and we see that the validation error for models trained from SGD with changing learning rate underperforms relative to models trained with fixed learning rate. Therefore, in subsequent analysis I will use SGD with fixed learning rate."
   ]
  },
  {
   "cell_type": "markdown",
   "metadata": {
    "colab_type": "text",
    "id": "_t5rS0kYXJEK"
   },
   "source": [
    "#### Step 3 - Training on the whole training set with optimal parameter, plot the error rate and negegative log-likelihood for both training and validation set as a function of iterations "
   ]
  },
  {
   "cell_type": "markdown",
   "metadata": {
    "colab_type": "text",
    "id": "3Dql9_4LGoAY"
   },
   "source": [
    "Based on the results from previous steps, I will SGD with fixed learning rate of 0.001, regularization parameter of $\\lambda=0.1$,and maximum epoch of 25. I did not tune for batch size, but the validation error is in line with that of logistic regression, so I will keep using batch size of 1,250."
   ]
  },
  {
   "cell_type": "code",
   "execution_count": 0,
   "metadata": {
    "colab": {},
    "colab_type": "code",
    "id": "r0sRXvleqrqA"
   },
   "outputs": [],
   "source": [
    "# add a component to sgd so that it keeps track of errors and losses \n",
    "# for both validation and training set.\n",
    "\n",
    "def sgd_fixed(delta,lamb,x,y,epochs,batch_size,thresh=0.000001):\n",
    "    # sgd for fixed learning rate \n",
    "\n",
    "    n,p = x.shape\n",
    "    theta = np.zeros(p)\n",
    "    lambmat = lamb*np.ones(p)\n",
    "    lambmat[0] = 0\n",
    "\n",
    "    # store errors\n",
    "    errors = [predict_error(theta,aug_data_val,validation_labels)]\n",
    "    errors_train = [predict_error(theta,x,y)]\n",
    "\n",
    "    # store losses\n",
    "    losses = [neg_loglik(x,y,theta,lamb)]\n",
    "    losses_val = [neg_loglik(aug_data_val,validation_labels,theta,lamb)]\n",
    "\n",
    "    indexes = np.arange(n)\n",
    "\n",
    "    for epoch in range(epochs):\n",
    "      # separate into random batches\n",
    "      np.random.shuffle(indexes)\n",
    "      batch_index = np.r_[0:indexes.shape[0]:batch_size]\n",
    "      batches = np.split(indexes,batch_index[1:])\n",
    "\n",
    "      for batch in batches:\n",
    "        k = batch.shape[0]\n",
    "        xb = x[batch,:]\n",
    "        yb = y[batch].reshape(k,1)\n",
    "        eta = 2*xb.dot(theta)\n",
    "        num = xb.multiply(yb)\n",
    "        denom = np.add(1,np.exp(np.multiply(yb.flatten(),eta))).reshape(k,1)\n",
    "        terms = ((num/denom).sum(axis=0) - np.multiply(lambmat,theta)).flatten()\n",
    "        theta = np.asarray(theta + delta*terms).flatten()\n",
    "        loss_curr = neg_loglik(x,y,theta,lamb)\n",
    "        loss_val_curr = neg_loglik(aug_data_val,validation_labels,theta,lamb)\n",
    "        error_curr = predict_error(theta,aug_data_val,validation_labels)\n",
    "        error_train_curr = predict_error(theta,x,y)\n",
    "        losses.append(loss_curr)\n",
    "        losses_val.append(loss_val_curr)\n",
    "        errors.append(error_curr)\n",
    "        errors_train.append(error_train_curr)\n",
    "        if abs(losses[-1]-losses[-2]) < thresh:\n",
    "          break\n",
    "\n",
    "    res = [theta,errors_train,losses,errors,losses_val]\n",
    "    return res"
   ]
  },
  {
   "cell_type": "code",
   "execution_count": 0,
   "metadata": {
    "colab": {},
    "colab_type": "code",
    "id": "OETEzJ3-KQHy"
   },
   "outputs": [],
   "source": [
    "res = sgd_fixed(0.001,0.1,aug_data_train,train_labels,25,1250)"
   ]
  },
  {
   "cell_type": "code",
   "execution_count": 0,
   "metadata": {
    "colab": {},
    "colab_type": "code",
    "id": "zU_D7L_GKgag"
   },
   "outputs": [],
   "source": [
    "errors_train = res[1]\n",
    "losses_train = res[2]\n",
    "errors_val = res[3]\n",
    "losses_val = res[4]"
   ]
  },
  {
   "cell_type": "code",
   "execution_count": 141,
   "metadata": {
    "colab": {
     "base_uri": "https://localhost:8080/",
     "height": 624
    },
    "colab_type": "code",
    "executionInfo": {
     "elapsed": 1028,
     "status": "ok",
     "timestamp": 1588638494154,
     "user": {
      "displayName": "Adam Zhang",
      "photoUrl": "",
      "userId": "15014079408385344051"
     },
     "user_tz": 300
    },
    "id": "emeSD7oWKgTz",
    "outputId": "c1058623-dc0d-4db4-d547-2492d02377aa"
   },
   "outputs": [
    {
     "data": {
      "text/plain": [
       "Text(0.5, 1.0, 'negative log likelihood of validation data')"
      ]
     },
     "execution_count": 141,
     "metadata": {
      "tags": []
     },
     "output_type": "execute_result"
    },
    {
     "data": {
      "image/png": "[encoded data removed]",
      "text/plain": [
       "<Figure size 720x720 with 4 Axes>"
      ]
     },
     "metadata": {
      "needs_background": "light",
      "tags": []
     },
     "output_type": "display_data"
    }
   ],
   "source": [
    "numiter = len(errors_train)\n",
    "\n",
    "plt.figure(figsize=(10,10))\n",
    "\n",
    "plt.subplot(2,2,1)\n",
    "plt.plot(range(numiter),errors_train)\n",
    "plt.title(\"errors on training data\")\n",
    "\n",
    "plt.subplot(2,2,2)\n",
    "plt.plot(range(numiter),losses_train)\n",
    "plt.title(\"negative log likelihood of training data\")\n",
    "\n",
    "plt.subplot(2,2,3)\n",
    "plt.plot(range(numiter),errors_val)\n",
    "plt.title(\"errors on validation data\")\n",
    "\n",
    "plt.subplot(2,2,4)\n",
    "plt.plot(range(numiter),losses_val)\n",
    "plt.title(\"negative log likelihood of validation data\")"
   ]
  },
  {
   "cell_type": "markdown",
   "metadata": {
    "colab_type": "text",
    "id": "qcg9pqJGPNJo"
   },
   "source": [
    "We see that stochastic gradient actually converges quite fast, with decrease in error and loss rapidly plateuaing at around 200 iterations. "
   ]
  },
  {
   "cell_type": "markdown",
   "metadata": {
    "colab_type": "text",
    "id": "0P9MRPcnXJEP"
   },
   "source": [
    "#### Step 4 - Train on union of training and validation set, report the error on the test set"
   ]
  },
  {
   "cell_type": "markdown",
   "metadata": {
    "colab_type": "text",
    "id": "f9R1stNpHA2u"
   },
   "source": [
    "I use the same parameters for SGD that I used in step 3 and train the model on the full training + validation data to get the prediction error on test data. "
   ]
  },
  {
   "cell_type": "code",
   "execution_count": 146,
   "metadata": {
    "colab": {
     "base_uri": "https://localhost:8080/",
     "height": 34
    },
    "colab_type": "code",
    "executionInfo": {
     "elapsed": 444758,
     "status": "ok",
     "timestamp": 1588639182515,
     "user": {
      "displayName": "Adam Zhang",
      "photoUrl": "",
      "userId": "15014079408385344051"
     },
     "user_tz": 300
    },
    "id": "dE1ZwOAmXJFA",
    "outputId": "607e7899-3921-4207-d839-4fc1e738e0d6"
   },
   "outputs": [
    {
     "data": {
      "text/plain": [
       "0.23393333333333333"
      ]
     },
     "execution_count": 146,
     "metadata": {
      "tags": []
     },
     "output_type": "execute_result"
    }
   ],
   "source": [
    "full_train = sp.vstack([aug_data_train,aug_data_val])\n",
    "full_train_labels = np.concatenate([train_labels,validation_labels])\n",
    "res = sgd_fixed(0.001,0.1,full_train,full_train_labels,30,1250)\n",
    "theta_hat = res[0]\n",
    "test_error = predict_error(theta_hat,aug_data_test,test_labels)\n",
    "test_error"
   ]
  },
  {
   "cell_type": "markdown",
   "metadata": {
    "colab_type": "text",
    "id": "UWScluNZRkp7"
   },
   "source": [
    "The prediction error on test data is 23%, which is close to the error rate on logistic regression and SVC classifier. "
   ]
  },
  {
   "cell_type": "markdown",
   "metadata": {
    "colab_type": "text",
    "id": "8o6g0ffMXJFH"
   },
   "source": [
    "## Part 3. Score versus text."
   ]
  },
  {
   "cell_type": "code",
   "execution_count": 0,
   "metadata": {
    "colab": {},
    "colab_type": "code",
    "id": "TW0-z6uzXJFH"
   },
   "outputs": [],
   "source": [
    "# Constructing the data matrix for training, validation, and testing set\n",
    "from sklearn import preprocessing\n",
    "\n",
    "scores = df[['appearance','aroma','palate','style','taste']].to_numpy()\n",
    "train_scores = np.hstack([np.ones((len(train),1)),preprocessing.scale(scores[train])])\n",
    "val_scores = np.hstack([np.ones((len(validation),1)),preprocessing.scale(scores[validation])])\n",
    "test_scores = np.hstack([np.ones((len(test),1)),preprocessing.scale(scores[test])])"
   ]
  },
  {
   "cell_type": "code",
   "execution_count": 0,
   "metadata": {
    "colab": {},
    "colab_type": "code",
    "id": "pMGq02Y9VHuy"
   },
   "outputs": [],
   "source": [
    "# Modify SGD code \n",
    "def sgd_fixed(delta,lamb,x,y,epochs,batch_size,thresh=0.000001):\n",
    "    # sgd for fixed learning rate \n",
    "    n,p = x.shape\n",
    "    theta = np.zeros(p)\n",
    "    lambmat = lamb*np.ones(p)\n",
    "    lambmat[0] = 0\n",
    "    errors = [predict_error(theta,val_scores,validation_labels)]\n",
    "    # store errors \n",
    "    losses = [neg_loglik(x,y,theta,lamb)]\n",
    "    # store losses\n",
    "    indexes = np.arange(n)\n",
    "    for epoch in range(epochs):\n",
    "      np.random.shuffle(indexes)\n",
    "      batch_index = np.r_[0:indexes.shape[0]:batch_size]\n",
    "      batches = np.split(indexes,batch_index[1:])\n",
    "      for batch in batches:\n",
    "        k = batch.shape[0]\n",
    "        xb = x[batch,:]\n",
    "        yb = y[batch].reshape(k,1)\n",
    "        eta = 2*xb.dot(theta)\n",
    "        num = np.multiply(xb,yb)\n",
    "        denom = np.add(1,np.exp(np.multiply(yb.flatten(),eta))).reshape(k,1)\n",
    "        terms = ((num/denom).sum(axis=0) - np.multiply(lambmat,theta)).flatten()\n",
    "        theta = np.asarray(theta + delta*terms).flatten()\n",
    "        loss_curr = neg_loglik(x,y,theta,lamb)\n",
    "        error_curr = predict_error(theta,val_scores,validation_labels)\n",
    "        losses.append(loss_curr)\n",
    "        errors.append(error_curr)\n",
    "        if abs(losses[-1]-losses[-2]) < thresh:\n",
    "          break\n",
    "    res = [theta,errors,losses]\n",
    "    return res"
   ]
  },
  {
   "cell_type": "code",
   "execution_count": 195,
   "metadata": {
    "colab": {
     "base_uri": "https://localhost:8080/",
     "height": 282
    },
    "colab_type": "code",
    "executionInfo": {
     "elapsed": 55559,
     "status": "ok",
     "timestamp": 1588640970767,
     "user": {
      "displayName": "Adam Zhang",
      "photoUrl": "",
      "userId": "15014079408385344051"
     },
     "user_tz": 300
    },
    "id": "Efp8Y0w6tx-E",
    "outputId": "065e6498-87cf-4430-e3f3-e825f3325604"
   },
   "outputs": [
    {
     "data": {
      "text/plain": [
       "[<matplotlib.lines.Line2D at 0x7f72506f5898>]"
      ]
     },
     "execution_count": 195,
     "metadata": {
      "tags": []
     },
     "output_type": "execute_result"
    },
    {
     "data": {
      "image/png": "[encoded data removed]",
      "text/plain": [
       "<Figure size 432x288 with 1 Axes>"
      ]
     },
     "metadata": {
      "needs_background": "light",
      "tags": []
     },
     "output_type": "display_data"
    }
   ],
   "source": [
    "# Tuning for regularization parameters\n",
    "\n",
    "lambda_grid = [0.01,0.1,1,10,100]\n",
    "sgd_res_score = []\n",
    "for lamb in lambda_grid:\n",
    "  res = sgd_fixed(0.001,lamb,train_scores,train_labels,25,1250)\n",
    "  sgd_res_score.append(res)\n",
    "\n",
    "min_error_sgd = []\n",
    "for i in range(len(lambda_grid)):\n",
    "  min_error = sgd_res_score[i][1][-1]\n",
    "  min_error_sgd.append(min_error)\n",
    "plt.plot(range(len(lambda_grid)),min_error_sgd)"
   ]
  },
  {
   "cell_type": "code",
   "execution_count": 196,
   "metadata": {
    "colab": {
     "base_uri": "https://localhost:8080/",
     "height": 34
    },
    "colab_type": "code",
    "executionInfo": {
     "elapsed": 417,
     "status": "ok",
     "timestamp": 1588641146731,
     "user": {
      "displayName": "Adam Zhang",
      "photoUrl": "",
      "userId": "15014079408385344051"
     },
     "user_tz": 300
    },
    "id": "lOHpdZ_GZA7T",
    "outputId": "4d0753db-9f6f-4cb5-8523-09438e1aa0ae"
   },
   "outputs": [
    {
     "data": {
      "text/plain": [
       "[0.16166666666666665, 0.161, 0.16206666666666666, 0.1622, 0.16446666666666668]"
      ]
     },
     "execution_count": 196,
     "metadata": {
      "tags": []
     },
     "output_type": "execute_result"
    }
   ],
   "source": [
    "min_error_sgd"
   ]
  },
  {
   "cell_type": "code",
   "execution_count": 197,
   "metadata": {
    "colab": {
     "base_uri": "https://localhost:8080/",
     "height": 34
    },
    "colab_type": "code",
    "executionInfo": {
     "elapsed": 328,
     "status": "ok",
     "timestamp": 1588641159681,
     "user": {
      "displayName": "Adam Zhang",
      "photoUrl": "",
      "userId": "15014079408385344051"
     },
     "user_tz": 300
    },
    "id": "jrwSQFVHZEFH",
    "outputId": "074d4cac-6ab7-4654-9e18-bc3ab1e855f6"
   },
   "outputs": [
    {
     "data": {
      "text/plain": [
       "0.1"
      ]
     },
     "execution_count": 197,
     "metadata": {
      "tags": []
     },
     "output_type": "execute_result"
    }
   ],
   "source": [
    "lambda_grid[1]"
   ]
  },
  {
   "cell_type": "markdown",
   "metadata": {
    "colab_type": "text",
    "id": "xCInrb1PZNy2"
   },
   "source": [
    "The optimal regularization parameter is the same as model using text data, which is 0.1. "
   ]
  },
  {
   "cell_type": "code",
   "execution_count": 199,
   "metadata": {
    "colab": {
     "base_uri": "https://localhost:8080/",
     "height": 34
    },
    "colab_type": "code",
    "executionInfo": {
     "elapsed": 15679,
     "status": "ok",
     "timestamp": 1588641319697,
     "user": {
      "displayName": "Adam Zhang",
      "photoUrl": "",
      "userId": "15014079408385344051"
     },
     "user_tz": 300
    },
    "id": "O8axfqSXt1l6",
    "outputId": "967aeafb-b28f-4b5e-bd29-e2f5c8bb1d39"
   },
   "outputs": [
    {
     "data": {
      "text/plain": [
       "0.16206666666666666"
      ]
     },
     "execution_count": 199,
     "metadata": {
      "tags": []
     },
     "output_type": "execute_result"
    }
   ],
   "source": [
    "# Retraining the model on the union of training and validation set,\n",
    "# Compute the prediction error on the testing set\n",
    "full_train_score = np.vstack([train_scores,val_scores])\n",
    "res = sgd_fixed(0.001,0.1,full_train_score,full_train_labels,25,1250)\n",
    "res[1][-1]"
   ]
  },
  {
   "cell_type": "markdown",
   "metadata": {
    "colab_type": "text",
    "id": "JxHodGEMZwwG"
   },
   "source": [
    "#### Discussion:\n",
    "\n",
    "The model using scores has lower prediction error on test data. The precise error rate can be influenced by various factors which I did not tune for, including batch size and learning rate I used for each type of models.\n",
    "\n",
    "However, in general, it could be said that the model using scores is more straightforward, and intuitively, scores has a more direct relationship to overall scores, as both are numerical variables.\n",
    "\n",
    "Model using text could be very noisy if the vocabularies are not picked with care. Even when vocabularies are picked with care, the same word can mean many different things depending on context, and sometimes words are used sarcastically. We might need to even consider representing words in n-pules to capture more of the sentimental context of a text. \n",
    "\n",
    "Someone who thinks that a beer is bad could leave a straightforward criticism or a very sarcastic comment. However, if they are being honest, they will definitely leave a low score, which is far easier to detect and model into our prediction. "
   ]
  }
 ],
 "metadata": {
  "colab": {
   "name": "HW3 Q4.ipynb",
   "provenance": []
  },
  "kernelspec": {
   "display_name": "Python 3",
   "language": "python",
   "name": "python3"
  },
  "language_info": {
   "codemirror_mode": {
    "name": "ipython",
    "version": 3
   },
   "file_extension": ".py",
   "mimetype": "text/x-python",
   "name": "python",
   "nbconvert_exporter": "python",
   "pygments_lexer": "ipython3",
   "version": "3.7.5"
  }
 },
 "nbformat": 4,
 "nbformat_minor": 1
}
