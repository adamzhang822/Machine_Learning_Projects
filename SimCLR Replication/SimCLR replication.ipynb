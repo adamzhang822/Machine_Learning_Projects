{
 "cells": [
  {
   "cell_type": "markdown",
   "metadata": {
    "colab_type": "text",
    "id": "zEq7o-qQavKZ"
   },
   "source": [
    "# Prep: "
   ]
  },
  {
   "cell_type": "code",
   "execution_count": 0,
   "metadata": {
    "colab": {
     "base_uri": "https://localhost:8080/",
     "height": 34
    },
    "colab_type": "code",
    "executionInfo": {
     "elapsed": 1328,
     "status": "ok",
     "timestamp": 1591252535683,
     "user": {
      "displayName": "Adam Zhang",
      "photoUrl": "",
      "userId": "15014079408385344051"
     },
     "user_tz": 300
    },
    "id": "vdeJghGE1Ijw",
    "outputId": "177e7582-8751-44a2-bda4-172a6d6e7e54"
   },
   "outputs": [
    {
     "name": "stdout",
     "output_type": "stream",
     "text": [
      "Drive already mounted at /ME; to attempt to forcibly remount, call drive.mount(\"/ME\", force_remount=True).\n"
     ]
    }
   ],
   "source": [
    "from google.colab import drive\n",
    "drive.mount('/ME')"
   ]
  },
  {
   "cell_type": "code",
   "execution_count": 0,
   "metadata": {
    "colab": {
     "base_uri": "https://localhost:8080/",
     "height": 51
    },
    "colab_type": "code",
    "executionInfo": {
     "elapsed": 1212,
     "status": "ok",
     "timestamp": 1591252539118,
     "user": {
      "displayName": "Adam Zhang",
      "photoUrl": "",
      "userId": "15014079408385344051"
     },
     "user_tz": 300
    },
    "id": "gv4FEXeI09H1",
    "outputId": "fbc3101f-7cf2-42fa-c49f-f7ebe003a0d2"
   },
   "outputs": [
    {
     "name": "stdout",
     "output_type": "stream",
     "text": [
      "1.5.0+cu101\n"
     ]
    },
    {
     "data": {
      "text/plain": [
       "True"
      ]
     },
     "execution_count": 2,
     "metadata": {
      "tags": []
     },
     "output_type": "execute_result"
    }
   ],
   "source": [
    "import torch\n",
    "import numpy as np\n",
    "import torch.nn as nn\n",
    "import torch.nn.functional as F\n",
    "import torch.optim as optim\n",
    "from tqdm import tqdm\n",
    "datadir='/ME/My Drive/LSDA_data/'\n",
    "print(torch.__version__)\n",
    "torch.cuda.is_available()"
   ]
  },
  {
   "cell_type": "code",
   "execution_count": 0,
   "metadata": {
    "colab": {},
    "colab_type": "code",
    "id": "h2BR-kjK09IB"
   },
   "outputs": [],
   "source": [
    "def get_mnist():\n",
    "    data=np.float64(np.load(datadir+'mnist/MNIST.npy'))\n",
    "    labels=np.float32(np.load(datadir+'mnist/MNIST_labels.npy'))\n",
    "    print(data.shape)\n",
    "    data=np.float32(data)/255.\n",
    "    train_dat=data[0:50000].reshape((-1,1,28,28))\n",
    "    train_labels=np.int32(labels[0:50000])\n",
    "    val_dat=data[50000:60000].reshape((-1,1,28,28))\n",
    "    val_labels=np.int32(labels[50000:60000])\n",
    "    test_dat=data[60000:70000].reshape((-1,1,28,28))\n",
    "    test_labels=np.int32(labels[60000:70000])\n",
    "    return (train_dat, train_labels), (val_dat, val_labels), (test_dat, test_labels)\n",
    "\n",
    "def get_mnist_transformed():\n",
    "    data=np.float64(np.load(datadir+'mnist/MNIST_TR.npy')) \n",
    "    labels=np.float32(np.load(datadir+'mnist/MNIST_labels.npy'))\n",
    "    print(data.shape)\n",
    "    data=np.float32(data)/255.\n",
    "    train_dat=data[0:50000].reshape((-1,1,28,28)) \n",
    "    train_labels=np.int32(labels[0:50000]) \n",
    "    val_dat=data[50000:60000].reshape((-1,1,28,28)) \n",
    "    val_labels=np.int32(labels[50000:60000]) \n",
    "    test_dat=data[60000:70000].reshape((-1,1,28,28)) \n",
    "    test_labels=np.int32(labels[60000:70000])\n",
    "    return (train_dat, train_labels), (val_dat, val_labels), (test_dat, test_labels)\n",
    "\n",
    "\n",
    "def get_letters():\n",
    "    data=np.float64(np.load(datadir+'letters_data.npy'))\n",
    "    data=np.float32(data)/255.\n",
    "    data = data.reshape((-1,1,28,28))\n",
    "    return (data)\n",
    "\n",
    "def get_data(data_set):\n",
    "    if (data_set==\"mnist\"):\n",
    "        return(get_mnist())\n",
    "    if (data_set=='letters'):\n",
    "      return (get_letters())\n",
    "    if (data_set=='trans'):\n",
    "      return(get_mnist_transformed())"
   ]
  },
  {
   "cell_type": "code",
   "execution_count": 0,
   "metadata": {
    "colab": {},
    "colab_type": "code",
    "id": "cXEukJ05opQF"
   },
   "outputs": [],
   "source": [
    "class N0_Net(nn.Module):\n",
    "    def __init__(self,p=0.5,minimizer='Adam'):\n",
    "        super(N0_Net, self).__init__()\n",
    "        # 32 output features using 5x5 kernel applied to input image\n",
    "        self.conv1 = nn.Conv2d(1, 32, kernel_size=5)\n",
    "        # 64 output features using 5x5 kernel applied to 32 features of previous layer.\n",
    "        self.conv2 = nn.Conv2d(32, 64, kernel_size=5)\n",
    "        # Dropout - zero out some output features so weights aren't updated.\n",
    "        self.conv2_drop = nn.Dropout2d(p)\n",
    "        # 64 x 4 x 4 = 1024 units total in final spartial layer fully connected to 256 unit later\n",
    "        self.fc1 = nn.Linear(1024, 256)\n",
    "        # Last layer has 10 units for 10 classes\n",
    "        self.fc2 = nn.Linear(256, 10)\n",
    "        if minimizer == 'Adam':\n",
    "            self.optimizer = torch.optim.Adam(self.parameters(), lr = step_size)\n",
    "        else:\n",
    "            self.optimizer = torch.optim.SGD(self.parameters(), lr = step_size, momentum=0.9)\n",
    "        self.first=True\n",
    "        # negative log-likelihood loss \n",
    "        self.criterion=nn.CrossEntropyLoss()\n",
    "            \n",
    "    def forward(self, x):\n",
    "\n",
    "        # Apply first conv then maxpool by factor of 2 then non-linearity relu\n",
    "        x = F.relu(F.max_pool2d(self.conv1(x), 2))\n",
    "        # Apply second conv then drop, then maxpool by factor of 2 then non-linearity relu\n",
    "        x = F.relu(F.max_pool2d(self.conv2_drop(self.conv2(x)), 2))\n",
    "        # Reshape 64 x 4 x 4 to 1024 units\n",
    "        x = x.view(-1, 1024)\n",
    "        # Apply fully connected layer with non-linearity relu\n",
    "        x = F.relu(self.fc1(x))\n",
    "        # Another dropout\n",
    "        x = F.dropout(x, training=self.training)\n",
    "        # Final 10 unit logits layer\n",
    "        x = self.fc2(x)\n",
    "        return x\n",
    "    \n",
    "    def get_acc_and_loss(self, data, targ):\n",
    "        # Apply network to batch input\n",
    "        output = self.forward(data)\n",
    "        # Comput loss between logit output and targ (correct class labels)\n",
    "        loss = self.criterion(output, targ)\n",
    "        # Also compute correct classification rate\n",
    "        pred = torch.max(output,1)[1]\n",
    "        correct = torch.eq(pred,targ).sum()\n",
    "        \n",
    "        return loss,correct\n",
    "        \n",
    "    def run_grad(self,data,targ):\n",
    "\n",
    "        # Compute loss and accuracy\n",
    "        loss, correct=self.get_acc_and_loss(data,targ)\n",
    "        # Zero out gradients\n",
    "        self.optimizer.zero_grad()\n",
    "        # Compute gradients\n",
    "        loss.backward()\n",
    "        # Update parameters based on gradients\n",
    "        self.optimizer.step()\n",
    "        \n",
    "        return loss, correct\n",
    "    \n",
    "        "
   ]
  },
  {
   "cell_type": "markdown",
   "metadata": {
    "colab_type": "text",
    "id": "dIlj8c0ezAMK"
   },
   "source": [
    "# Problem 3"
   ]
  },
  {
   "cell_type": "markdown",
   "metadata": {
    "colab_type": "text",
    "id": "5MUvXeqdzCBE"
   },
   "source": [
    "## (a): Make change to the original network"
   ]
  },
  {
   "cell_type": "markdown",
   "metadata": {
    "colab_type": "text",
    "id": "BiYW8euDeoSH"
   },
   "source": [
    "I remove the fc1 and fc2 fully connected layers and replace them with fc64 layer and name the network class N1_Net. To avoid repeating codes, I also changed the loss functions and gradient descent here. The detailed code for loss function is on part (c). "
   ]
  },
  {
   "cell_type": "code",
   "execution_count": 0,
   "metadata": {
    "colab": {},
    "colab_type": "code",
    "id": "qB3p8Y0Z09Ia"
   },
   "outputs": [],
   "source": [
    "class N1_Net(nn.Module):\n",
    "    def __init__(self,p=0.5,minimizer='Adam'):\n",
    "        super(N1_Net, self).__init__()\n",
    "        # 32 output features using 5x5 kernel applied to input image\n",
    "        self.conv1 = nn.Conv2d(1, 32, kernel_size=5)\n",
    "        # 64 output features using 5x5 kernel applied to 32 features of previous layer.\n",
    "        self.conv2 = nn.Conv2d(32, 64, kernel_size=5)\n",
    "        # Dropout - zero out some output features so weights aren't updated.\n",
    "        self.conv2_drop = nn.Dropout2d(p)\n",
    "        # 64 x 4 x 4 = 1024 units total in final spartial layer fully connected to 64 unit later\n",
    "        self.fc64 = nn.Linear(1024, 64)\n",
    "        if minimizer == 'Adam':\n",
    "            self.optimizer = torch.optim.Adam(self.parameters(), lr = step_size)\n",
    "        else:\n",
    "            self.optimizer = torch.optim.SGD(self.parameters(), lr = step_size, momentum=0.9)\n",
    "        self.first=True\n",
    "        # negative log-likelihood loss \n",
    "        self.criterion=nn.CrossEntropyLoss()\n",
    "            \n",
    "    def forward(self, x):\n",
    "\n",
    "        # Apply first conv then maxpool by factor of 2 then non-linearity relu\n",
    "        x = F.relu(F.max_pool2d(self.conv1(x), 2))\n",
    "        # Apply second conv then drop, then maxpool by factor of 2 then non-linearity relu\n",
    "        x = F.relu(F.max_pool2d(self.conv2_drop(self.conv2(x)), 2))\n",
    "        # Reshape 64 x 4 x 4 to 1024 units\n",
    "        x = x.view(-1, 1024)\n",
    "        # Apply fully connected layer with non-linearity relu, final 64 units \n",
    "        x = self.fc64(x)\n",
    "        return x\n",
    "    \n",
    "    def get_acc_and_loss(self, data):\n",
    "        # Apply network to batch input\n",
    "        o = self.forward(data)\n",
    "        affined = affine(data)\n",
    "        o_tilde = self.forward(affined)\n",
    "        # Comput loss between logit output and targ (correct class labels)\n",
    "        loss = NT_Xent()(o,o_tilde)\n",
    "        # Also compute correct classification rate        \n",
    "        return loss\n",
    "        \n",
    "    def run_grad(self,data):\n",
    "\n",
    "        # Compute loss and accuracy\n",
    "        loss =self.get_acc_and_loss(data)\n",
    "        # Zero out gradients\n",
    "        self.optimizer.zero_grad()\n",
    "        # Compute gradients\n",
    "        loss.backward()\n",
    "        # Update parameters based on gradients\n",
    "        self.optimizer.step()\n",
    "        \n",
    "        return loss"
   ]
  },
  {
   "cell_type": "markdown",
   "metadata": {
    "colab_type": "text",
    "id": "sArFtWnd1cff"
   },
   "source": [
    "## (b): Write function to augment data at each batch"
   ]
  },
  {
   "cell_type": "markdown",
   "metadata": {
    "colab_type": "text",
    "id": "AaDIWv7mccvV"
   },
   "source": [
    "To limit the transformation to scaling and shifting, I set the parameters related to shearing to 0, and restricts the parameters relatted to scaling to positive numbers to prevent reflection. Any flipping or rotation is not appropriate here because some letters such as \"p\" and \"q\" are reflections of each other, and if we feed them into the algorithm for contrastive learning the model will learn to not distinguish between \"p\" and \"q\". "
   ]
  },
  {
   "cell_type": "code",
   "execution_count": 0,
   "metadata": {
    "colab": {},
    "colab_type": "code",
    "id": "obmILGfX1hp4"
   },
   "outputs": [],
   "source": [
    "def affine(x_in, factor=3):\n",
    "  nn = x_in.shape[0]\n",
    "  h = x_in.shape[2]\n",
    "  w = x_in.shape[3]\n",
    "  # for each batch element sample 6 random parameters \n",
    "  # for an affine transformation of the grid: \n",
    "  # factor controls the deviation from identity.\n",
    "  u = ((torch.rand(nn,6)-0.5) * factor).to(device)\n",
    "  u[:,0] = abs(u[:,0])\n",
    "  u[:,4] = abs(u[:,4])\n",
    "  u[:,1] = 0\n",
    "  u[:,3] = 0\n",
    "  # Add this random vector to this identity affine map:\n",
    "  ID = torch.zeros(nn,6).to(device)\n",
    "  ID[:,0] = 1\n",
    "  ID[:,4] = 1\n",
    "  theta = (u+ID).reshape(-1,2,3)\n",
    "  # Creates the mapping of the deformed grid\n",
    "  grid = F.affine_grid(theta, [nn,1,h,w] ,align_corners=True)\n",
    "  # Applies this mapping to the image\n",
    "  x_out = F.grid_sample(x_in, grid, padding_mode = 'border',align_corners=True)\n",
    "  return x_out"
   ]
  },
  {
   "cell_type": "markdown",
   "metadata": {
    "colab_type": "text",
    "id": "LRhpX2IFcfhV"
   },
   "source": [
    "## (c) Implement the loss function from the paper"
   ]
  },
  {
   "cell_type": "code",
   "execution_count": 0,
   "metadata": {
    "colab": {},
    "colab_type": "code",
    "id": "Y9dO2pODUadM"
   },
   "outputs": [],
   "source": [
    "class NT_Xent(nn.Module):\n",
    "  def __init__(self):\n",
    "    super(NT_Xent,self).__init__()\n",
    "  \n",
    "  def forward(self,o,o_tilde):\n",
    "    # normalize feature vectors\n",
    "    o = F.normalize(o,dim=1)\n",
    "    o_tilde = F.normalize(o_tilde,dim=1)\n",
    "    # Compute similarity matrix\n",
    "    uv = torch.cat([o,o_tilde],dim=0)\n",
    "    uv_t = torch.t(uv)\n",
    "    vu = torch.cat([o,o_tilde],dim=0)\n",
    "    sim_mat = torch.exp(torch.div(torch.mm(uv,uv_t),tau))\n",
    "    # Compute softmax \n",
    "    sim_sums = torch.sum(sim_mat,dim=1)\n",
    "    self_sim = torch.diag(sim_mat)\n",
    "    denoms = sim_sums - self_sim\n",
    "    nums= torch.exp(torch.div(torch.nn.CosineSimilarity()(uv,vu),tau))\n",
    "    softmaxes = torch.div(nums,denoms)\n",
    "    # Compute negative loss \n",
    "    neglog_losses = -torch.log(softmaxes)\n",
    "    loss = torch.mean(neglog_losses)\n",
    "    return loss"
   ]
  },
  {
   "cell_type": "markdown",
   "metadata": {
    "colab_type": "text",
    "id": "ZDznj7SycjDz"
   },
   "source": [
    "# (d) Implement stochastic gradient descent on this data and save the resulting network N1"
   ]
  },
  {
   "cell_type": "markdown",
   "metadata": {
    "colab_type": "text",
    "id": "DV2rxsLM83Zv"
   },
   "source": [
    "I implement the stochastic gradient descent on this data by making changes to the class methods of the neural net, specifically get_acc_and_loss. The changes are reflected in question part (a), where I defined the class N1_Net. I also changed some settings for the function run_epoch. \n"
   ]
  },
  {
   "cell_type": "code",
   "execution_count": 0,
   "metadata": {
    "colab": {},
    "colab_type": "code",
    "id": "WRFLrI_b09Ih"
   },
   "outputs": [],
   "source": [
    "def run_epoch_simCLR(net,epoch,train,batch_size, num=None, ttype=\"train\"):\n",
    "    # Model is being trained dropout is applied\n",
    "    net.train()\n",
    "    if ttype=='train':\n",
    "        t1=time.time()\n",
    "        n=train.shape[0]\n",
    "        if (num is not None):\n",
    "            n=np.minimum(n,num)\n",
    "        ii = np.array(np.arange(0,n,1))\n",
    "        tr=train[ii]\n",
    "        train_loss=0 \n",
    "        with tqdm(total=n) as progress_bar:\n",
    "            for j in np.arange(0,n,batch_size):\n",
    "              # Transfer batch data to device (cpu or gpu)\n",
    "                data=torch.from_numpy(tr[j:j+batch_size]).to(device)\n",
    "              # Compute gradients, update params and report loss and correct\n",
    "                loss  = net.run_grad(data) \n",
    "                train_loss += loss.item()                \n",
    "                progress_bar.set_postfix(loss=loss.item())\n",
    "                progress_bar.update(data.size(0))\n",
    "        train_loss /= 2*n\n",
    "        print('\\nTraining set epoch {}: Avg. loss: {:.4f}'.format(epoch,train_loss))\n",
    "        return (train_loss)"
   ]
  },
  {
   "cell_type": "code",
   "execution_count": 0,
   "metadata": {
    "colab": {
     "base_uri": "https://localhost:8080/",
     "height": 34
    },
    "colab_type": "code",
    "executionInfo": {
     "elapsed": 1631,
     "status": "ok",
     "timestamp": 1591252573562,
     "user": {
      "displayName": "Adam Zhang",
      "photoUrl": "",
      "userId": "15014079408385344051"
     },
     "user_tz": 300
    },
    "id": "PUNXrfxd27uI",
    "outputId": "cfe98762-1a46-4317-8c53-331d56ef36d2"
   },
   "outputs": [
    {
     "name": "stdout",
     "output_type": "stream",
     "text": [
      "cuda:0\n"
     ]
    }
   ],
   "source": [
    "import time\n",
    "\n",
    "# Some parameters>\n",
    "batch_size=500\n",
    "step_size=.001\n",
    "num_epochs=20\n",
    "numtrain=124800\n",
    "minimizer=\"Adam\"\n",
    "data_set=\"letters\"\n",
    "model_name=\"N1\"\n",
    "dropout_p=0.5\n",
    "dim=28\n",
    "nchannels=1\n",
    "use_gpu=True\n",
    "tau = 0.1\n",
    "\n",
    "# use GPU when possible\n",
    "device = 'cuda:0' if torch.cuda.is_available() and use_gpu else 'cpu'\n",
    "print(device)\n",
    "# get data\n",
    "train = get_data(data_set=data_set)"
   ]
  },
  {
   "cell_type": "code",
   "execution_count": 0,
   "metadata": {
    "colab": {
     "base_uri": "https://localhost:8080/",
     "height": 1000
    },
    "colab_type": "code",
    "executionInfo": {
     "elapsed": 95829,
     "status": "ok",
     "timestamp": 1591252670691,
     "user": {
      "displayName": "Adam Zhang",
      "photoUrl": "",
      "userId": "15014079408385344051"
     },
     "user_tz": 300
    },
    "id": "JMZT6N-4ctNl",
    "outputId": "e24a0466-1bcd-4130-bc15-8c5ed0e990e1"
   },
   "outputs": [
    {
     "name": "stderr",
     "output_type": "stream",
     "text": [
      "100%|██████████| 124800/124800 [00:04<00:00, 28130.77it/s, loss=-2.76]\n"
     ]
    },
    {
     "name": "stdout",
     "output_type": "stream",
     "text": [
      "\n",
      "Training set epoch 0: Avg. loss: -0.0021\n"
     ]
    },
    {
     "name": "stderr",
     "output_type": "stream",
     "text": [
      "100%|██████████| 124800/124800 [00:04<00:00, 28870.65it/s, loss=-2.79]\n",
      "  0%|          | 500/124800 [00:00<00:08, 15084.17it/s, loss=-2.27]"
     ]
    },
    {
     "name": "stdout",
     "output_type": "stream",
     "text": [
      "\n",
      "Training set epoch 1: Avg. loss: -0.0023\n"
     ]
    },
    {
     "name": "stderr",
     "output_type": "stream",
     "text": [
      "100%|██████████| 124800/124800 [00:04<00:00, 28970.26it/s, loss=-2.79]\n",
      "  0%|          | 500/124800 [00:00<00:08, 15235.95it/s, loss=-2.27]"
     ]
    },
    {
     "name": "stdout",
     "output_type": "stream",
     "text": [
      "\n",
      "Training set epoch 2: Avg. loss: -0.0023\n"
     ]
    },
    {
     "name": "stderr",
     "output_type": "stream",
     "text": [
      "100%|██████████| 124800/124800 [00:04<00:00, 28899.39it/s, loss=-2.8]\n",
      "  0%|          | 500/124800 [00:00<00:08, 15333.08it/s, loss=-2.26]"
     ]
    },
    {
     "name": "stdout",
     "output_type": "stream",
     "text": [
      "\n",
      "Training set epoch 3: Avg. loss: -0.0023\n"
     ]
    },
    {
     "name": "stderr",
     "output_type": "stream",
     "text": [
      "100%|██████████| 124800/124800 [00:04<00:00, 28834.89it/s, loss=-2.8]\n",
      "  0%|          | 500/124800 [00:00<00:08, 14797.96it/s, loss=-2.28]"
     ]
    },
    {
     "name": "stdout",
     "output_type": "stream",
     "text": [
      "\n",
      "Training set epoch 4: Avg. loss: -0.0023\n"
     ]
    },
    {
     "name": "stderr",
     "output_type": "stream",
     "text": [
      "100%|██████████| 124800/124800 [00:04<00:00, 28995.70it/s, loss=-2.8]\n",
      "  0%|          | 500/124800 [00:00<00:07, 15705.36it/s, loss=-2.29]"
     ]
    },
    {
     "name": "stdout",
     "output_type": "stream",
     "text": [
      "\n",
      "Training set epoch 5: Avg. loss: -0.0023\n"
     ]
    },
    {
     "name": "stderr",
     "output_type": "stream",
     "text": [
      "100%|██████████| 124800/124800 [00:04<00:00, 28711.45it/s, loss=-2.81]\n",
      "  0%|          | 500/124800 [00:00<00:08, 15091.77it/s, loss=-2.28]"
     ]
    },
    {
     "name": "stdout",
     "output_type": "stream",
     "text": [
      "\n",
      "Training set epoch 6: Avg. loss: -0.0023\n"
     ]
    },
    {
     "name": "stderr",
     "output_type": "stream",
     "text": [
      "100%|██████████| 124800/124800 [00:04<00:00, 28609.68it/s, loss=-2.79]\n",
      "  0%|          | 500/124800 [00:00<00:08, 14802.03it/s, loss=-2.29]"
     ]
    },
    {
     "name": "stdout",
     "output_type": "stream",
     "text": [
      "\n",
      "Training set epoch 7: Avg. loss: -0.0023\n"
     ]
    },
    {
     "name": "stderr",
     "output_type": "stream",
     "text": [
      "100%|██████████| 124800/124800 [00:04<00:00, 28494.88it/s, loss=-2.8]\n",
      "  0%|          | 500/124800 [00:00<00:08, 15209.87it/s, loss=-2.28]"
     ]
    },
    {
     "name": "stdout",
     "output_type": "stream",
     "text": [
      "\n",
      "Training set epoch 8: Avg. loss: -0.0023\n"
     ]
    },
    {
     "name": "stderr",
     "output_type": "stream",
     "text": [
      "100%|██████████| 124800/124800 [00:04<00:00, 28439.96it/s, loss=-2.81]\n",
      "  0%|          | 500/124800 [00:00<00:08, 15228.31it/s, loss=-2.29]"
     ]
    },
    {
     "name": "stdout",
     "output_type": "stream",
     "text": [
      "\n",
      "Training set epoch 9: Avg. loss: -0.0023\n"
     ]
    },
    {
     "name": "stderr",
     "output_type": "stream",
     "text": [
      "100%|██████████| 124800/124800 [00:04<00:00, 28415.38it/s, loss=-2.8]\n",
      "  0%|          | 500/124800 [00:00<00:07, 15840.95it/s, loss=-2.29]"
     ]
    },
    {
     "name": "stdout",
     "output_type": "stream",
     "text": [
      "\n",
      "Training set epoch 10: Avg. loss: -0.0023\n"
     ]
    },
    {
     "name": "stderr",
     "output_type": "stream",
     "text": [
      "100%|██████████| 124800/124800 [00:04<00:00, 28298.09it/s, loss=-2.81]\n",
      "  0%|          | 500/124800 [00:00<00:07, 15556.35it/s, loss=-2.29]"
     ]
    },
    {
     "name": "stdout",
     "output_type": "stream",
     "text": [
      "\n",
      "Training set epoch 11: Avg. loss: -0.0023\n"
     ]
    },
    {
     "name": "stderr",
     "output_type": "stream",
     "text": [
      "100%|██████████| 124800/124800 [00:04<00:00, 28234.95it/s, loss=-2.8]\n",
      "  0%|          | 500/124800 [00:00<00:07, 15616.47it/s, loss=-2.3]"
     ]
    },
    {
     "name": "stdout",
     "output_type": "stream",
     "text": [
      "\n",
      "Training set epoch 12: Avg. loss: -0.0023\n"
     ]
    },
    {
     "name": "stderr",
     "output_type": "stream",
     "text": [
      "100%|██████████| 124800/124800 [00:04<00:00, 28325.97it/s, loss=-2.82]\n",
      "  0%|          | 500/124800 [00:00<00:08, 15355.20it/s, loss=-2.3]"
     ]
    },
    {
     "name": "stdout",
     "output_type": "stream",
     "text": [
      "\n",
      "Training set epoch 13: Avg. loss: -0.0023\n"
     ]
    },
    {
     "name": "stderr",
     "output_type": "stream",
     "text": [
      "100%|██████████| 124800/124800 [00:04<00:00, 28357.41it/s, loss=-2.81]\n",
      "  0%|          | 500/124800 [00:00<00:07, 15689.14it/s, loss=-2.29]"
     ]
    },
    {
     "name": "stdout",
     "output_type": "stream",
     "text": [
      "\n",
      "Training set epoch 14: Avg. loss: -0.0023\n"
     ]
    },
    {
     "name": "stderr",
     "output_type": "stream",
     "text": [
      "100%|██████████| 124800/124800 [00:04<00:00, 28534.57it/s, loss=-2.8]\n",
      "  0%|          | 500/124800 [00:00<00:08, 15056.77it/s, loss=-2.3]"
     ]
    },
    {
     "name": "stdout",
     "output_type": "stream",
     "text": [
      "\n",
      "Training set epoch 15: Avg. loss: -0.0023\n"
     ]
    },
    {
     "name": "stderr",
     "output_type": "stream",
     "text": [
      "100%|██████████| 124800/124800 [00:04<00:00, 28693.47it/s, loss=-2.8]\n",
      "  0%|          | 500/124800 [00:00<00:08, 15127.04it/s, loss=-2.3]"
     ]
    },
    {
     "name": "stdout",
     "output_type": "stream",
     "text": [
      "\n",
      "Training set epoch 16: Avg. loss: -0.0023\n"
     ]
    },
    {
     "name": "stderr",
     "output_type": "stream",
     "text": [
      "100%|██████████| 124800/124800 [00:04<00:00, 28522.71it/s, loss=-2.82]\n",
      "  0%|          | 500/124800 [00:00<00:08, 15089.49it/s, loss=-2.3]"
     ]
    },
    {
     "name": "stdout",
     "output_type": "stream",
     "text": [
      "\n",
      "Training set epoch 17: Avg. loss: -0.0023\n"
     ]
    },
    {
     "name": "stderr",
     "output_type": "stream",
     "text": [
      "100%|██████████| 124800/124800 [00:04<00:00, 28685.11it/s, loss=-2.81]\n",
      "  0%|          | 500/124800 [00:00<00:08, 15172.35it/s, loss=-2.3]"
     ]
    },
    {
     "name": "stdout",
     "output_type": "stream",
     "text": [
      "\n",
      "Training set epoch 18: Avg. loss: -0.0023\n"
     ]
    },
    {
     "name": "stderr",
     "output_type": "stream",
     "text": [
      "100%|██████████| 124800/124800 [00:04<00:00, 28751.68it/s, loss=-2.81]\n"
     ]
    },
    {
     "name": "stdout",
     "output_type": "stream",
     "text": [
      "\n",
      "Training set epoch 19: Avg. loss: -0.0023\n"
     ]
    }
   ],
   "source": [
    "# Initialize the model\n",
    "net = N1_Net(p = dropout_p, minimizer=minimizer)\n",
    "net.to(device)\n",
    "#define optimizer\n",
    "\n",
    "# Run epochs\n",
    "train_err = []\n",
    "for i in range(num_epochs):\n",
    "    train_err.append(run_epoch_simCLR(net,i,train,batch_size, num=numtrain, ttype=\"train\"))\n",
    "# Save model\n",
    "torch.save(net.state_dict(), datadir+model_name)"
   ]
  },
  {
   "cell_type": "markdown",
   "metadata": {
    "colab_type": "text",
    "id": "WsSBlQVYhhZU"
   },
   "source": [
    "## (e) Define new network N2"
   ]
  },
  {
   "cell_type": "markdown",
   "metadata": {
    "colab_type": "text",
    "id": "lQS2mtkzZFTp"
   },
   "source": [
    "Because now we need to train the network on handwritten digits with supervised algorithm using softmax loss, I will make alterations to the run_one_epoch function as well."
   ]
  },
  {
   "cell_type": "code",
   "execution_count": 0,
   "metadata": {
    "colab": {},
    "colab_type": "code",
    "id": "qfnwi8cyV-QX"
   },
   "outputs": [],
   "source": [
    "class N2_Net(nn.Module):\n",
    "    def __init__(self,p=0.5,minimizer='Adam'):\n",
    "        super(N2_Net, self).__init__()\n",
    "        # 32 output features using 5x5 kernel applied to input image\n",
    "        self.conv1 = nn.Conv2d(1, 32, kernel_size=5)\n",
    "        # 64 output features using 5x5 kernel applied to 32 features of previous layer.\n",
    "        self.conv2 = nn.Conv2d(32, 64, kernel_size=5)\n",
    "        # Dropout - zero out some output features so weights aren't updated.\n",
    "        self.conv2_drop = nn.Dropout2d(p)\n",
    "        # 64 x 4 x 4 = 1024 units total in final spartial layer fully connected to 10 unit later\n",
    "        self.fc10 = nn.Linear(1024, 10)\n",
    "        if minimizer == 'Adam':\n",
    "            self.optimizer = torch.optim.Adam(self.parameters(), lr = step_size)\n",
    "        else:\n",
    "            self.optimizer = torch.optim.SGD(self.parameters(), lr = step_size, momentum=0.9)\n",
    "        self.first=True\n",
    "        # negative log-likelihood loss \n",
    "        self.criterion=nn.CrossEntropyLoss()\n",
    "            \n",
    "    def forward(self, x):\n",
    "\n",
    "        # Apply first conv then maxpool by factor of 2 then non-linearity relu\n",
    "        x = F.relu(F.max_pool2d(self.conv1(x), 2))\n",
    "        # Apply second conv then drop, then maxpool by factor of 2 then non-linearity relu\n",
    "        x = F.relu(F.max_pool2d(self.conv2_drop(self.conv2(x)), 2))\n",
    "        # Reshape 64 x 4 x 4 to 1024 units\n",
    "        x = x.view(-1, 1024)\n",
    "        # Apply fully connected layer with non-linearity relu\n",
    "        x = self.fc10(x)\n",
    "        return x\n",
    "    \n",
    "    def get_acc_and_loss(self, data, targ):\n",
    "        # Apply network to batch input\n",
    "        output = self.forward(data)\n",
    "        # Comput loss between logit output and targ (correct class labels)\n",
    "        loss = self.criterion(output, targ)\n",
    "        # Also compute correct classification rate\n",
    "        pred = torch.max(output,1)[1]\n",
    "        correct = torch.eq(pred,targ).sum()\n",
    "        \n",
    "        return loss,correct\n",
    "        \n",
    "    def run_grad(self,data,targ):\n",
    "\n",
    "        # Compute loss and accuracy\n",
    "        loss, correct=self.get_acc_and_loss(data,targ)\n",
    "        # Zero out gradients\n",
    "        self.optimizer.zero_grad()\n",
    "        # Compute gradients\n",
    "        loss.backward()\n",
    "        # Update parameters based on gradients\n",
    "        self.optimizer.step()\n",
    "        \n",
    "        return loss, correct\n",
    "    "
   ]
  },
  {
   "cell_type": "code",
   "execution_count": 0,
   "metadata": {
    "colab": {
     "base_uri": "https://localhost:8080/",
     "height": 34
    },
    "colab_type": "code",
    "executionInfo": {
     "elapsed": 1526,
     "status": "ok",
     "timestamp": 1591252672278,
     "user": {
      "displayName": "Adam Zhang",
      "photoUrl": "",
      "userId": "15014079408385344051"
     },
     "user_tz": 300
    },
    "id": "7Rht-cyYYAc3",
    "outputId": "9dc7ecb4-43f8-458c-b7c2-75f534aceaf3"
   },
   "outputs": [
    {
     "data": {
      "text/plain": [
       "<All keys matched successfully>"
      ]
     },
     "execution_count": 12,
     "metadata": {
      "tags": []
     },
     "output_type": "execute_result"
    }
   ],
   "source": [
    "model_name = \"N1\"\n",
    "N1 = N1_Net(p = dropout_p, minimizer=minimizer)\n",
    "N1.to(device)\n",
    "state_dict = torch.load(datadir+model_name, map_location = device)\n",
    "N1.load_state_dict(state_dict)"
   ]
  },
  {
   "cell_type": "code",
   "execution_count": 0,
   "metadata": {
    "colab": {
     "base_uri": "https://localhost:8080/",
     "height": 34
    },
    "colab_type": "code",
    "executionInfo": {
     "elapsed": 1456,
     "status": "ok",
     "timestamp": 1591252672281,
     "user": {
      "displayName": "Adam Zhang",
      "photoUrl": "",
      "userId": "15014079408385344051"
     },
     "user_tz": 300
    },
    "id": "IZetCrLpYiZ3",
    "outputId": "43ef18d7-acbe-40f3-c5cc-0bf512a158a3"
   },
   "outputs": [
    {
     "data": {
      "text/plain": [
       "<All keys matched successfully>"
      ]
     },
     "execution_count": 13,
     "metadata": {
      "tags": []
     },
     "output_type": "execute_result"
    }
   ],
   "source": [
    "N2 = N2_Net(p=dropout_p,minimizer = minimizer)\n",
    "N2.to(device)\n",
    "# Get parameter sets of both networks\n",
    "params = N1.named_parameters()\n",
    "params2 = N2.named_parameters()\n",
    "# Make a dictionary of the new one\n",
    "dict_params2 = dict(params2)\n",
    "# Loop over parameters of N1\n",
    "for name, param in params:\n",
    "  if name in dict_params2:\n",
    "    dict_params2[name].data.copy_(param.data)\n",
    "    \n",
    "N2.load_state_dict(dict_params2)"
   ]
  },
  {
   "cell_type": "code",
   "execution_count": 0,
   "metadata": {
    "colab": {
     "base_uri": "https://localhost:8080/",
     "height": 119
    },
    "colab_type": "code",
    "executionInfo": {
     "elapsed": 1419,
     "status": "ok",
     "timestamp": 1591252672282,
     "user": {
      "displayName": "Adam Zhang",
      "photoUrl": "",
      "userId": "15014079408385344051"
     },
     "user_tz": 300
    },
    "id": "94nN_EJ9h30G",
    "outputId": "3d91cb14-9a93-42e4-99a6-0256bcb70142"
   },
   "outputs": [
    {
     "name": "stdout",
     "output_type": "stream",
     "text": [
      "conv1.weight torch.Size([32, 1, 5, 5])\n",
      "conv1.bias torch.Size([32])\n",
      "conv2.weight torch.Size([64, 32, 5, 5])\n",
      "conv2.bias torch.Size([64])\n",
      "fc10.weight torch.Size([10, 1024])\n",
      "fc10.bias torch.Size([10])\n"
     ]
    }
   ],
   "source": [
    "PP = []\n",
    "for name, param in N2.named_parameters():\n",
    "  print(name,param.shape)\n",
    "  if 'fc10' in name:\n",
    "    PP.append(param)\n",
    "N2.optimizer = torch.optim.Adam(PP,lr=step_size)"
   ]
  },
  {
   "cell_type": "code",
   "execution_count": 0,
   "metadata": {
    "colab": {},
    "colab_type": "code",
    "id": "GU4R1_hiacdY"
   },
   "outputs": [],
   "source": [
    "def run_epoch(net,epoch,train,batch_size, num=None, ttype=\"train\"):\n",
    "    \n",
    "    # Model is being trained dropout is applied\n",
    "    net.train()\n",
    "    if ttype=='train':\n",
    "        t1=time.time()\n",
    "        n=train[0].shape[0]\n",
    "        if (num is not None):\n",
    "            n=np.minimum(n,num)\n",
    "        ii=np.array(np.arange(0,n,1))\n",
    "        tr=train[0][ii]\n",
    "        y=train[1][ii]\n",
    "        train_loss=0; train_correct=0\n",
    "        with tqdm(total=len(y)) as progress_bar:\n",
    "            for j in np.arange(0,len(y),batch_size):\n",
    "              # Transfer batch data to device (cpu or gpu)\n",
    "                data=torch.from_numpy(tr[j:j+batch_size]).to(device)\n",
    "                targ=torch.from_numpy(y[j:j+batch_size]).type(torch.long).to(device)\n",
    "              # Compute gradients, update params and report loss and correct\n",
    "                loss, correct = net.run_grad(data,targ) \n",
    "                \n",
    "                train_loss += loss.item()\n",
    "                train_correct += correct.item()\n",
    "                \n",
    "                progress_bar.set_postfix(loss=loss.item())\n",
    "                progress_bar.update(data.size(0))\n",
    "        train_loss /= len(y)\n",
    "        print('\\nTraining set epoch {}: Avg. loss: {:.4f}, Accuracy: {}/{} ({:.0f}%)\\n'.format(epoch,\n",
    "            train_loss, train_correct, len(y),\n",
    "            100. * train_correct / len(y)))"
   ]
  },
  {
   "cell_type": "code",
   "execution_count": 0,
   "metadata": {
    "colab": {},
    "colab_type": "code",
    "id": "2hwrx_LUa76o"
   },
   "outputs": [],
   "source": [
    "def net_test(net,val,batch_size,ttype='val'):\n",
    "\n",
    "    # Do not apply dropout or gradients.\n",
    "    net.eval()\n",
    "    with torch.no_grad():\n",
    "                test_loss = 0\n",
    "                test_correct = 0\n",
    "                vald=val[0]\n",
    "                yval=val[1]\n",
    "                for j in np.arange(0,len(yval),batch_size):\n",
    "                    data=torch.torch.from_numpy(vald[j:j+batch_size]).to(device)\n",
    "                    targ = torch.torch.from_numpy(yval[j:j+batch_size]).type(torch.long).to(device)\n",
    "                    loss,correct=net.get_acc_and_loss(data,targ)\n",
    "\n",
    "                    test_loss += loss.item()\n",
    "                    test_correct += correct.item()\n",
    "\n",
    "                test_loss /= len(yval)\n",
    "                SSS='Validation'\n",
    "                if (ttype=='test'):\n",
    "                    SSS='Test'\n",
    "                print('\\n{} set: Avg. loss: {:.4f}, Accuracy: {}/{} ({:.0f}%)\\n'.format(SSS,\n",
    "                    test_loss, test_correct, len(yval),\n",
    "                    100. * test_correct / len(yval)))"
   ]
  },
  {
   "cell_type": "code",
   "execution_count": 0,
   "metadata": {
    "colab": {
     "base_uri": "https://localhost:8080/",
     "height": 1000
    },
    "colab_type": "code",
    "executionInfo": {
     "elapsed": 21513,
     "status": "ok",
     "timestamp": 1591252692392,
     "user": {
      "displayName": "Adam Zhang",
      "photoUrl": "",
      "userId": "15014079408385344051"
     },
     "user_tz": 300
    },
    "id": "zbojJhJ0a-W_",
    "outputId": "60e37956-0283-4e57-e2f3-d4755d1abfcb"
   },
   "outputs": [
    {
     "name": "stderr",
     "output_type": "stream",
     "text": [
      "  6%|▌         | 3000/50000 [00:00<00:01, 36227.85it/s, loss=2.14]"
     ]
    },
    {
     "name": "stdout",
     "output_type": "stream",
     "text": [
      "(70000, 784)\n"
     ]
    },
    {
     "name": "stderr",
     "output_type": "stream",
     "text": [
      "100%|██████████| 50000/50000 [00:00<00:00, 54179.94it/s, loss=1.03]\n",
      " 12%|█▏        | 6000/50000 [00:00<00:00, 56379.35it/s, loss=0.807]"
     ]
    },
    {
     "name": "stdout",
     "output_type": "stream",
     "text": [
      "\n",
      "Training set epoch 0: Avg. loss: 0.0028, Accuracy: 37809/50000 (76%)\n",
      "\n",
      "\n",
      "Validation set: Avg. loss: 0.0016, Accuracy: 8988/10000 (90%)\n",
      "\n"
     ]
    },
    {
     "name": "stderr",
     "output_type": "stream",
     "text": [
      "100%|██████████| 50000/50000 [00:00<00:00, 57921.94it/s, loss=0.738]\n",
      " 12%|█▏        | 6000/50000 [00:00<00:00, 56934.97it/s, loss=0.535]"
     ]
    },
    {
     "name": "stdout",
     "output_type": "stream",
     "text": [
      "\n",
      "Training set epoch 1: Avg. loss: 0.0014, Accuracy: 43467/50000 (87%)\n",
      "\n",
      "\n",
      "Validation set: Avg. loss: 0.0010, Accuracy: 9204/10000 (92%)\n",
      "\n"
     ]
    },
    {
     "name": "stderr",
     "output_type": "stream",
     "text": [
      "100%|██████████| 50000/50000 [00:00<00:00, 57474.72it/s, loss=0.601]\n",
      " 12%|█▏        | 6000/50000 [00:00<00:00, 57257.26it/s, loss=0.444]"
     ]
    },
    {
     "name": "stdout",
     "output_type": "stream",
     "text": [
      "\n",
      "Training set epoch 2: Avg. loss: 0.0011, Accuracy: 44360/50000 (89%)\n",
      "\n",
      "\n",
      "Validation set: Avg. loss: 0.0008, Accuracy: 9289/10000 (93%)\n",
      "\n"
     ]
    },
    {
     "name": "stderr",
     "output_type": "stream",
     "text": [
      "100%|██████████| 50000/50000 [00:00<00:00, 56396.55it/s, loss=0.538]\n",
      " 12%|█▏        | 6000/50000 [00:00<00:00, 57273.28it/s, loss=0.376]"
     ]
    },
    {
     "name": "stdout",
     "output_type": "stream",
     "text": [
      "\n",
      "Training set epoch 3: Avg. loss: 0.0009, Accuracy: 44852/50000 (90%)\n",
      "\n",
      "\n",
      "Validation set: Avg. loss: 0.0006, Accuracy: 9362/10000 (94%)\n",
      "\n"
     ]
    },
    {
     "name": "stderr",
     "output_type": "stream",
     "text": [
      "100%|██████████| 50000/50000 [00:00<00:00, 58622.32it/s, loss=0.533]\n",
      " 12%|█▏        | 6000/50000 [00:00<00:00, 59303.15it/s, loss=0.332]"
     ]
    },
    {
     "name": "stdout",
     "output_type": "stream",
     "text": [
      "\n",
      "Training set epoch 4: Avg. loss: 0.0008, Accuracy: 45273/50000 (91%)\n",
      "\n",
      "\n",
      "Validation set: Avg. loss: 0.0006, Accuracy: 9416/10000 (94%)\n",
      "\n"
     ]
    },
    {
     "name": "stderr",
     "output_type": "stream",
     "text": [
      "100%|██████████| 50000/50000 [00:00<00:00, 57019.79it/s, loss=0.459]\n",
      " 12%|█▏        | 6000/50000 [00:00<00:00, 57697.28it/s, loss=0.311]"
     ]
    },
    {
     "name": "stdout",
     "output_type": "stream",
     "text": [
      "\n",
      "Training set epoch 5: Avg. loss: 0.0007, Accuracy: 45396/50000 (91%)\n",
      "\n",
      "\n",
      "Validation set: Avg. loss: 0.0005, Accuracy: 9456/10000 (95%)\n",
      "\n"
     ]
    },
    {
     "name": "stderr",
     "output_type": "stream",
     "text": [
      "100%|██████████| 50000/50000 [00:00<00:00, 56889.97it/s, loss=0.459]\n",
      " 13%|█▎        | 6500/50000 [00:00<00:00, 60435.18it/s, loss=0.298]"
     ]
    },
    {
     "name": "stdout",
     "output_type": "stream",
     "text": [
      "\n",
      "Training set epoch 6: Avg. loss: 0.0007, Accuracy: 45736/50000 (91%)\n",
      "\n",
      "\n",
      "Validation set: Avg. loss: 0.0005, Accuracy: 9484/10000 (95%)\n",
      "\n"
     ]
    },
    {
     "name": "stderr",
     "output_type": "stream",
     "text": [
      "100%|██████████| 50000/50000 [00:00<00:00, 57849.12it/s, loss=0.428]\n",
      " 12%|█▏        | 6000/50000 [00:00<00:00, 58950.58it/s, loss=0.264]"
     ]
    },
    {
     "name": "stdout",
     "output_type": "stream",
     "text": [
      "\n",
      "Training set epoch 7: Avg. loss: 0.0006, Accuracy: 45894/50000 (92%)\n",
      "\n",
      "\n",
      "Validation set: Avg. loss: 0.0004, Accuracy: 9505/10000 (95%)\n",
      "\n"
     ]
    },
    {
     "name": "stderr",
     "output_type": "stream",
     "text": [
      "100%|██████████| 50000/50000 [00:00<00:00, 60550.95it/s, loss=0.403]\n",
      " 12%|█▏        | 6000/50000 [00:00<00:00, 56962.03it/s, loss=0.258]"
     ]
    },
    {
     "name": "stdout",
     "output_type": "stream",
     "text": [
      "\n",
      "Training set epoch 8: Avg. loss: 0.0006, Accuracy: 45873/50000 (92%)\n",
      "\n",
      "\n",
      "Validation set: Avg. loss: 0.0004, Accuracy: 9521/10000 (95%)\n",
      "\n"
     ]
    },
    {
     "name": "stderr",
     "output_type": "stream",
     "text": [
      "100%|██████████| 50000/50000 [00:00<00:00, 56317.18it/s, loss=0.377]\n",
      " 12%|█▏        | 6000/50000 [00:00<00:00, 55604.02it/s, loss=0.28]"
     ]
    },
    {
     "name": "stdout",
     "output_type": "stream",
     "text": [
      "\n",
      "Training set epoch 9: Avg. loss: 0.0006, Accuracy: 46035/50000 (92%)\n",
      "\n",
      "\n",
      "Validation set: Avg. loss: 0.0004, Accuracy: 9541/10000 (95%)\n",
      "\n"
     ]
    },
    {
     "name": "stderr",
     "output_type": "stream",
     "text": [
      "100%|██████████| 50000/50000 [00:00<00:00, 57367.34it/s, loss=0.368]\n",
      " 12%|█▏        | 6000/50000 [00:00<00:00, 56690.76it/s, loss=0.239]"
     ]
    },
    {
     "name": "stdout",
     "output_type": "stream",
     "text": [
      "\n",
      "Training set epoch 10: Avg. loss: 0.0006, Accuracy: 46095/50000 (92%)\n",
      "\n",
      "\n",
      "Validation set: Avg. loss: 0.0004, Accuracy: 9558/10000 (96%)\n",
      "\n"
     ]
    },
    {
     "name": "stderr",
     "output_type": "stream",
     "text": [
      "100%|██████████| 50000/50000 [00:00<00:00, 59173.82it/s, loss=0.385]\n",
      " 12%|█▏        | 6000/50000 [00:00<00:00, 56305.93it/s, loss=0.234]"
     ]
    },
    {
     "name": "stdout",
     "output_type": "stream",
     "text": [
      "\n",
      "Training set epoch 11: Avg. loss: 0.0005, Accuracy: 46236/50000 (92%)\n",
      "\n",
      "\n",
      "Validation set: Avg. loss: 0.0003, Accuracy: 9566/10000 (96%)\n",
      "\n"
     ]
    },
    {
     "name": "stderr",
     "output_type": "stream",
     "text": [
      "100%|██████████| 50000/50000 [00:00<00:00, 57972.38it/s, loss=0.345]\n",
      " 12%|█▏        | 6000/50000 [00:00<00:00, 56298.25it/s, loss=0.227]"
     ]
    },
    {
     "name": "stdout",
     "output_type": "stream",
     "text": [
      "\n",
      "Training set epoch 12: Avg. loss: 0.0005, Accuracy: 46333/50000 (93%)\n",
      "\n",
      "\n",
      "Validation set: Avg. loss: 0.0003, Accuracy: 9582/10000 (96%)\n",
      "\n"
     ]
    },
    {
     "name": "stderr",
     "output_type": "stream",
     "text": [
      "100%|██████████| 50000/50000 [00:00<00:00, 58728.72it/s, loss=0.346]\n",
      " 14%|█▍        | 7000/50000 [00:00<00:00, 62989.32it/s, loss=0.281]"
     ]
    },
    {
     "name": "stdout",
     "output_type": "stream",
     "text": [
      "\n",
      "Training set epoch 13: Avg. loss: 0.0005, Accuracy: 46361/50000 (93%)\n",
      "\n",
      "\n",
      "Validation set: Avg. loss: 0.0003, Accuracy: 9584/10000 (96%)\n",
      "\n"
     ]
    },
    {
     "name": "stderr",
     "output_type": "stream",
     "text": [
      "100%|██████████| 50000/50000 [00:00<00:00, 59245.05it/s, loss=0.353]\n",
      " 13%|█▎        | 6500/50000 [00:00<00:00, 62676.82it/s, loss=0.215]"
     ]
    },
    {
     "name": "stdout",
     "output_type": "stream",
     "text": [
      "\n",
      "Training set epoch 14: Avg. loss: 0.0005, Accuracy: 46468/50000 (93%)\n",
      "\n",
      "\n",
      "Validation set: Avg. loss: 0.0003, Accuracy: 9600/10000 (96%)\n",
      "\n"
     ]
    },
    {
     "name": "stderr",
     "output_type": "stream",
     "text": [
      "100%|██████████| 50000/50000 [00:00<00:00, 57378.56it/s, loss=0.336]\n",
      " 12%|█▏        | 6000/50000 [00:00<00:00, 57290.76it/s, loss=0.213]"
     ]
    },
    {
     "name": "stdout",
     "output_type": "stream",
     "text": [
      "\n",
      "Training set epoch 15: Avg. loss: 0.0005, Accuracy: 46468/50000 (93%)\n",
      "\n",
      "\n",
      "Validation set: Avg. loss: 0.0003, Accuracy: 9607/10000 (96%)\n",
      "\n"
     ]
    },
    {
     "name": "stderr",
     "output_type": "stream",
     "text": [
      "100%|██████████| 50000/50000 [00:00<00:00, 57189.64it/s, loss=0.328]\n",
      " 12%|█▏        | 6000/50000 [00:00<00:00, 54938.49it/s, loss=0.203]"
     ]
    },
    {
     "name": "stdout",
     "output_type": "stream",
     "text": [
      "\n",
      "Training set epoch 16: Avg. loss: 0.0005, Accuracy: 46605/50000 (93%)\n",
      "\n",
      "\n",
      "Validation set: Avg. loss: 0.0003, Accuracy: 9613/10000 (96%)\n",
      "\n"
     ]
    },
    {
     "name": "stderr",
     "output_type": "stream",
     "text": [
      "100%|██████████| 50000/50000 [00:00<00:00, 57387.29it/s, loss=0.337]\n",
      " 13%|█▎        | 6500/50000 [00:00<00:00, 61579.93it/s, loss=0.239]"
     ]
    },
    {
     "name": "stdout",
     "output_type": "stream",
     "text": [
      "\n",
      "Training set epoch 17: Avg. loss: 0.0005, Accuracy: 46451/50000 (93%)\n",
      "\n",
      "\n",
      "Validation set: Avg. loss: 0.0003, Accuracy: 9622/10000 (96%)\n",
      "\n"
     ]
    },
    {
     "name": "stderr",
     "output_type": "stream",
     "text": [
      "100%|██████████| 50000/50000 [00:00<00:00, 58590.09it/s, loss=0.304]\n",
      " 13%|█▎        | 6500/50000 [00:00<00:00, 60286.44it/s, loss=0.203]"
     ]
    },
    {
     "name": "stdout",
     "output_type": "stream",
     "text": [
      "\n",
      "Training set epoch 18: Avg. loss: 0.0005, Accuracy: 46519/50000 (93%)\n",
      "\n",
      "\n",
      "Validation set: Avg. loss: 0.0003, Accuracy: 9630/10000 (96%)\n",
      "\n"
     ]
    },
    {
     "name": "stderr",
     "output_type": "stream",
     "text": [
      "100%|██████████| 50000/50000 [00:00<00:00, 58650.09it/s, loss=0.318]\n"
     ]
    },
    {
     "name": "stdout",
     "output_type": "stream",
     "text": [
      "\n",
      "Training set epoch 19: Avg. loss: 0.0005, Accuracy: 46606/50000 (93%)\n",
      "\n",
      "\n",
      "Validation set: Avg. loss: 0.0003, Accuracy: 9628/10000 (96%)\n",
      "\n",
      "\n",
      "Test set: Avg. loss: 0.0003, Accuracy: 9633/10000 (96%)\n",
      "\n"
     ]
    }
   ],
   "source": [
    "numtrain=50000\n",
    "data_set=\"mnist\"\n",
    "model_name=\"N2\"\n",
    "# get data\n",
    "train,val,test=get_data(data_set=data_set)\n",
    "\n",
    "# Run epochs\n",
    "for i in range(num_epochs):\n",
    "    run_epoch(N2,i,train,batch_size, num=numtrain, ttype=\"train\")\n",
    "    # Test on validation set.\n",
    "    net_test(N2,val,batch_size)\n",
    "# Test on test set.\n",
    "net_test(N2,test,batch_size,ttype='test')\n",
    "# Save model\n",
    "torch.save(N2.state_dict(), datadir+model_name)"
   ]
  },
  {
   "cell_type": "markdown",
   "metadata": {
    "colab_type": "text",
    "id": "WNnrKpWmlLeK"
   },
   "source": [
    "I get about 96% testing accuracy, which is pretty good considering that N2 only trains parameters in fc10 layer without fine-tuning the convolutional layer parameters on handwritten digits. "
   ]
  },
  {
   "cell_type": "markdown",
   "metadata": {
    "colab_type": "text",
    "id": "Cpxz9AymZubb"
   },
   "source": [
    "# Problem 4: Verify that N2 generalizes better"
   ]
  },
  {
   "cell_type": "markdown",
   "metadata": {
    "colab_type": "text",
    "id": "5K5pmmI4rEmo"
   },
   "source": [
    "First, I run N2 on a small training set of 1000 digits total. "
   ]
  },
  {
   "cell_type": "code",
   "execution_count": 0,
   "metadata": {
    "colab": {
     "base_uri": "https://localhost:8080/",
     "height": 1000
    },
    "colab_type": "code",
    "executionInfo": {
     "elapsed": 4698,
     "status": "ok",
     "timestamp": 1591252706465,
     "user": {
      "displayName": "Adam Zhang",
      "photoUrl": "",
      "userId": "15014079408385344051"
     },
     "user_tz": 300
    },
    "id": "6s9eq4KaZ0K4",
    "outputId": "2d34f712-c9c4-46c5-eef8-2958f0aecc44"
   },
   "outputs": [
    {
     "name": "stderr",
     "output_type": "stream",
     "text": [
      "100%|██████████| 1000/1000 [00:00<00:00, 40096.59it/s, loss=0.253]\n",
      "100%|██████████| 1000/1000 [00:00<00:00, 37143.37it/s, loss=0.226]\n",
      "100%|██████████| 1000/1000 [00:00<00:00, 37680.27it/s, loss=0.261]\n"
     ]
    },
    {
     "name": "stdout",
     "output_type": "stream",
     "text": [
      "\n",
      "Training set epoch 0: Avg. loss: 0.0005, Accuracy: 937/1000 (94%)\n",
      "\n",
      "\n",
      "Validation set: Avg. loss: 0.0003, Accuracy: 9628/10000 (96%)\n",
      "\n",
      "\n",
      "Training set epoch 1: Avg. loss: 0.0004, Accuracy: 941/1000 (94%)\n",
      "\n",
      "\n",
      "Validation set: Avg. loss: 0.0003, Accuracy: 9628/10000 (96%)\n",
      "\n",
      "\n",
      "Training set epoch 2: Avg. loss: 0.0005, Accuracy: 933/1000 (93%)\n",
      "\n"
     ]
    },
    {
     "name": "stderr",
     "output_type": "stream",
     "text": [
      "100%|██████████| 1000/1000 [00:00<00:00, 46828.68it/s, loss=0.249]\n",
      "100%|██████████| 1000/1000 [00:00<00:00, 59927.19it/s, loss=0.247]\n",
      "100%|██████████| 1000/1000 [00:00<00:00, 54239.03it/s, loss=0.237]"
     ]
    },
    {
     "name": "stdout",
     "output_type": "stream",
     "text": [
      "\n",
      "Validation set: Avg. loss: 0.0003, Accuracy: 9628/10000 (96%)\n",
      "\n",
      "\n",
      "Training set epoch 3: Avg. loss: 0.0004, Accuracy: 938/1000 (94%)\n",
      "\n",
      "\n",
      "Validation set: Avg. loss: 0.0003, Accuracy: 9630/10000 (96%)\n",
      "\n",
      "\n",
      "Training set epoch 4: Avg. loss: 0.0005, Accuracy: 942/1000 (94%)\n",
      "\n",
      "\n",
      "Validation set: Avg. loss: 0.0003, Accuracy: 9627/10000 (96%)\n",
      "\n",
      "\n",
      "Training set epoch 5: Avg. loss: 0.0005, Accuracy: 939/1000 (94%)\n",
      "\n"
     ]
    },
    {
     "name": "stderr",
     "output_type": "stream",
     "text": [
      "\n",
      "100%|██████████| 1000/1000 [00:00<00:00, 51312.12it/s, loss=0.254]\n",
      "100%|██████████| 1000/1000 [00:00<00:00, 57172.71it/s, loss=0.255]\n",
      "100%|██████████| 1000/1000 [00:00<00:00, 55172.24it/s, loss=0.241]"
     ]
    },
    {
     "name": "stdout",
     "output_type": "stream",
     "text": [
      "\n",
      "Validation set: Avg. loss: 0.0003, Accuracy: 9628/10000 (96%)\n",
      "\n",
      "\n",
      "Training set epoch 6: Avg. loss: 0.0004, Accuracy: 946/1000 (95%)\n",
      "\n",
      "\n",
      "Validation set: Avg. loss: 0.0003, Accuracy: 9627/10000 (96%)\n",
      "\n",
      "\n",
      "Training set epoch 7: Avg. loss: 0.0005, Accuracy: 929/1000 (93%)\n",
      "\n",
      "\n",
      "Validation set: Avg. loss: 0.0003, Accuracy: 9627/10000 (96%)\n",
      "\n",
      "\n",
      "Training set epoch 8: Avg. loss: 0.0004, Accuracy: 940/1000 (94%)\n",
      "\n"
     ]
    },
    {
     "name": "stderr",
     "output_type": "stream",
     "text": [
      "\n",
      "100%|██████████| 1000/1000 [00:00<00:00, 53841.47it/s, loss=0.246]\n",
      "100%|██████████| 1000/1000 [00:00<00:00, 57032.77it/s, loss=0.243]\n",
      "100%|██████████| 1000/1000 [00:00<00:00, 53755.21it/s, loss=0.248]"
     ]
    },
    {
     "name": "stdout",
     "output_type": "stream",
     "text": [
      "\n",
      "Validation set: Avg. loss: 0.0003, Accuracy: 9625/10000 (96%)\n",
      "\n",
      "\n",
      "Training set epoch 9: Avg. loss: 0.0004, Accuracy: 932/1000 (93%)\n",
      "\n",
      "\n",
      "Validation set: Avg. loss: 0.0003, Accuracy: 9626/10000 (96%)\n",
      "\n",
      "\n",
      "Training set epoch 10: Avg. loss: 0.0004, Accuracy: 947/1000 (95%)\n",
      "\n",
      "\n",
      "Validation set: Avg. loss: 0.0003, Accuracy: 9627/10000 (96%)\n",
      "\n",
      "\n",
      "Training set epoch 11: Avg. loss: 0.0004, Accuracy: 941/1000 (94%)\n",
      "\n"
     ]
    },
    {
     "name": "stderr",
     "output_type": "stream",
     "text": [
      "\n",
      "100%|██████████| 1000/1000 [00:00<00:00, 57209.36it/s, loss=0.237]\n",
      "100%|██████████| 1000/1000 [00:00<00:00, 57538.19it/s, loss=0.223]\n",
      "100%|██████████| 1000/1000 [00:00<00:00, 58842.65it/s, loss=0.236]"
     ]
    },
    {
     "name": "stdout",
     "output_type": "stream",
     "text": [
      "\n",
      "Validation set: Avg. loss: 0.0003, Accuracy: 9629/10000 (96%)\n",
      "\n",
      "\n",
      "Training set epoch 12: Avg. loss: 0.0004, Accuracy: 949/1000 (95%)\n",
      "\n",
      "\n",
      "Validation set: Avg. loss: 0.0003, Accuracy: 9625/10000 (96%)\n",
      "\n",
      "\n",
      "Training set epoch 13: Avg. loss: 0.0004, Accuracy: 947/1000 (95%)\n",
      "\n",
      "\n",
      "Validation set: Avg. loss: 0.0003, Accuracy: 9621/10000 (96%)\n",
      "\n",
      "\n",
      "Training set epoch 14: Avg. loss: 0.0004, Accuracy: 938/1000 (94%)\n",
      "\n"
     ]
    },
    {
     "name": "stderr",
     "output_type": "stream",
     "text": [
      "\n",
      "100%|██████████| 1000/1000 [00:00<00:00, 56498.07it/s, loss=0.218]\n",
      "100%|██████████| 1000/1000 [00:00<00:00, 46302.41it/s, loss=0.255]\n",
      "100%|██████████| 1000/1000 [00:00<00:00, 49640.26it/s, loss=0.256]"
     ]
    },
    {
     "name": "stdout",
     "output_type": "stream",
     "text": [
      "\n",
      "Validation set: Avg. loss: 0.0003, Accuracy: 9618/10000 (96%)\n",
      "\n",
      "\n",
      "Training set epoch 15: Avg. loss: 0.0004, Accuracy: 954/1000 (95%)\n",
      "\n",
      "\n",
      "Validation set: Avg. loss: 0.0003, Accuracy: 9616/10000 (96%)\n",
      "\n",
      "\n",
      "Training set epoch 16: Avg. loss: 0.0004, Accuracy: 940/1000 (94%)\n",
      "\n",
      "\n",
      "Validation set: Avg. loss: 0.0003, Accuracy: 9614/10000 (96%)\n",
      "\n",
      "\n",
      "Training set epoch 17: Avg. loss: 0.0004, Accuracy: 936/1000 (94%)\n",
      "\n"
     ]
    },
    {
     "name": "stderr",
     "output_type": "stream",
     "text": [
      "\n",
      "100%|██████████| 1000/1000 [00:00<00:00, 55784.22it/s, loss=0.211]\n",
      "100%|██████████| 1000/1000 [00:00<00:00, 48971.99it/s, loss=0.215]\n"
     ]
    },
    {
     "name": "stdout",
     "output_type": "stream",
     "text": [
      "\n",
      "Validation set: Avg. loss: 0.0003, Accuracy: 9616/10000 (96%)\n",
      "\n",
      "\n",
      "Training set epoch 18: Avg. loss: 0.0004, Accuracy: 951/1000 (95%)\n",
      "\n",
      "\n",
      "Validation set: Avg. loss: 0.0003, Accuracy: 9615/10000 (96%)\n",
      "\n",
      "\n",
      "Training set epoch 19: Avg. loss: 0.0004, Accuracy: 943/1000 (94%)\n",
      "\n",
      "\n",
      "Validation set: Avg. loss: 0.0003, Accuracy: 9615/10000 (96%)\n",
      "\n",
      "\n",
      "Test set: Avg. loss: 0.0003, Accuracy: 9635/10000 (96%)\n",
      "\n"
     ]
    }
   ],
   "source": [
    "# Some parameters>\n",
    "numtrain=1000\n",
    "model_name=\"N2_small\"\n",
    "# Run epochs\n",
    "for i in range(num_epochs):\n",
    "    run_epoch(N2,i,train,batch_size, num=numtrain, ttype=\"train\")\n",
    "    # Test on validation set.\n",
    "    net_test(N2,val,batch_size)\n",
    "# Test on test set.\n",
    "net_test(N2,test,batch_size,ttype='test')\n",
    "# Save model\n",
    "torch.save(N2.state_dict(), datadir+model_name)"
   ]
  },
  {
   "cell_type": "markdown",
   "metadata": {
    "colab_type": "text",
    "id": "2zETFyDYrJm-"
   },
   "source": [
    "The test set accuracy does not change and stays at 96% which is very high. "
   ]
  },
  {
   "cell_type": "markdown",
   "metadata": {
    "colab_type": "text",
    "id": "SguHQySZrL-g"
   },
   "source": [
    "Next, I run N0 on the same 1000 digits"
   ]
  },
  {
   "cell_type": "code",
   "execution_count": 0,
   "metadata": {
    "colab": {
     "base_uri": "https://localhost:8080/",
     "height": 1000
    },
    "colab_type": "code",
    "executionInfo": {
     "elapsed": 2422,
     "status": "ok",
     "timestamp": 1591252710459,
     "user": {
      "displayName": "Adam Zhang",
      "photoUrl": "",
      "userId": "15014079408385344051"
     },
     "user_tz": 300
    },
    "id": "JFVUUPZSrOzF",
    "outputId": "bed1a641-1921-4f77-b5f8-02e77b04bbe3"
   },
   "outputs": [
    {
     "name": "stderr",
     "output_type": "stream",
     "text": [
      "100%|██████████| 1000/1000 [00:00<00:00, 35427.86it/s, loss=2.28]\n",
      "100%|██████████| 1000/1000 [00:00<00:00, 38242.33it/s, loss=2.19]\n",
      "100%|██████████| 1000/1000 [00:00<00:00, 37945.14it/s, loss=2.05]\n"
     ]
    },
    {
     "name": "stdout",
     "output_type": "stream",
     "text": [
      "\n",
      "Training set epoch 0: Avg. loss: 0.0046, Accuracy: 132/1000 (13%)\n",
      "\n",
      "\n",
      "Validation set: Avg. loss: 0.0045, Accuracy: 5233/10000 (52%)\n",
      "\n",
      "\n",
      "Training set epoch 1: Avg. loss: 0.0044, Accuracy: 310/1000 (31%)\n",
      "\n",
      "\n",
      "Validation set: Avg. loss: 0.0042, Accuracy: 4757/10000 (48%)\n",
      "\n",
      "\n",
      "Training set epoch 2: Avg. loss: 0.0042, Accuracy: 377/1000 (38%)\n",
      "\n"
     ]
    },
    {
     "name": "stderr",
     "output_type": "stream",
     "text": [
      "100%|██████████| 1000/1000 [00:00<00:00, 46819.79it/s, loss=1.84]\n",
      "100%|██████████| 1000/1000 [00:00<00:00, 50330.64it/s, loss=1.55]\n",
      "100%|██████████| 1000/1000 [00:00<00:00, 49738.57it/s, loss=1.27]"
     ]
    },
    {
     "name": "stdout",
     "output_type": "stream",
     "text": [
      "\n",
      "Validation set: Avg. loss: 0.0038, Accuracy: 6031/10000 (60%)\n",
      "\n",
      "\n",
      "Training set epoch 3: Avg. loss: 0.0037, Accuracy: 522/1000 (52%)\n",
      "\n",
      "\n",
      "Validation set: Avg. loss: 0.0032, Accuracy: 7287/10000 (73%)\n",
      "\n",
      "\n",
      "Training set epoch 4: Avg. loss: 0.0032, Accuracy: 597/1000 (60%)\n",
      "\n",
      "\n",
      "Validation set: Avg. loss: 0.0026, Accuracy: 7740/10000 (77%)\n",
      "\n",
      "\n",
      "Training set epoch 5: Avg. loss: 0.0026, Accuracy: 662/1000 (66%)\n",
      "\n"
     ]
    },
    {
     "name": "stderr",
     "output_type": "stream",
     "text": [
      "\n",
      "100%|██████████| 1000/1000 [00:00<00:00, 53387.78it/s, loss=1.06]\n",
      "100%|██████████| 1000/1000 [00:00<00:00, 50552.05it/s, loss=0.856]\n",
      "100%|██████████| 1000/1000 [00:00<00:00, 53951.58it/s, loss=0.791]"
     ]
    },
    {
     "name": "stdout",
     "output_type": "stream",
     "text": [
      "\n",
      "Validation set: Avg. loss: 0.0020, Accuracy: 7801/10000 (78%)\n",
      "\n",
      "\n",
      "Training set epoch 6: Avg. loss: 0.0021, Accuracy: 715/1000 (72%)\n",
      "\n",
      "\n",
      "Validation set: Avg. loss: 0.0015, Accuracy: 8056/10000 (81%)\n",
      "\n",
      "\n",
      "Training set epoch 7: Avg. loss: 0.0017, Accuracy: 741/1000 (74%)\n",
      "\n",
      "\n",
      "Validation set: Avg. loss: 0.0012, Accuracy: 8299/10000 (83%)\n",
      "\n",
      "\n",
      "Training set epoch 8: Avg. loss: 0.0015, Accuracy: 761/1000 (76%)\n",
      "\n"
     ]
    },
    {
     "name": "stderr",
     "output_type": "stream",
     "text": [
      "\n",
      "100%|██████████| 1000/1000 [00:00<00:00, 54724.49it/s, loss=0.687]\n",
      "100%|██████████| 1000/1000 [00:00<00:00, 51938.63it/s, loss=0.603]\n",
      "100%|██████████| 1000/1000 [00:00<00:00, 51161.90it/s, loss=0.509]"
     ]
    },
    {
     "name": "stdout",
     "output_type": "stream",
     "text": [
      "\n",
      "Validation set: Avg. loss: 0.0011, Accuracy: 8365/10000 (84%)\n",
      "\n",
      "\n",
      "Training set epoch 9: Avg. loss: 0.0013, Accuracy: 788/1000 (79%)\n",
      "\n",
      "\n",
      "Validation set: Avg. loss: 0.0010, Accuracy: 8424/10000 (84%)\n",
      "\n",
      "\n",
      "Training set epoch 10: Avg. loss: 0.0012, Accuracy: 812/1000 (81%)\n",
      "\n",
      "\n",
      "Validation set: Avg. loss: 0.0009, Accuracy: 8576/10000 (86%)\n",
      "\n",
      "\n",
      "Training set epoch 11: Avg. loss: 0.0010, Accuracy: 841/1000 (84%)\n",
      "\n"
     ]
    },
    {
     "name": "stderr",
     "output_type": "stream",
     "text": [
      "\n",
      "100%|██████████| 1000/1000 [00:00<00:00, 51503.03it/s, loss=0.451]\n",
      "100%|██████████| 1000/1000 [00:00<00:00, 50444.44it/s, loss=0.459]\n",
      "100%|██████████| 1000/1000 [00:00<00:00, 53276.56it/s, loss=0.451]"
     ]
    },
    {
     "name": "stdout",
     "output_type": "stream",
     "text": [
      "\n",
      "Validation set: Avg. loss: 0.0009, Accuracy: 8691/10000 (87%)\n",
      "\n",
      "\n",
      "Training set epoch 12: Avg. loss: 0.0009, Accuracy: 856/1000 (86%)\n",
      "\n",
      "\n",
      "Validation set: Avg. loss: 0.0008, Accuracy: 8808/10000 (88%)\n",
      "\n",
      "\n",
      "Training set epoch 13: Avg. loss: 0.0009, Accuracy: 874/1000 (87%)\n",
      "\n",
      "\n",
      "Validation set: Avg. loss: 0.0007, Accuracy: 8898/10000 (89%)\n",
      "\n",
      "\n",
      "Training set epoch 14: Avg. loss: 0.0008, Accuracy: 870/1000 (87%)\n",
      "\n"
     ]
    },
    {
     "name": "stderr",
     "output_type": "stream",
     "text": [
      "\n",
      "100%|██████████| 1000/1000 [00:00<00:00, 52356.16it/s, loss=0.392]\n",
      "100%|██████████| 1000/1000 [00:00<00:00, 51213.13it/s, loss=0.373]\n",
      "100%|██████████| 1000/1000 [00:00<00:00, 50751.46it/s, loss=0.343]"
     ]
    },
    {
     "name": "stdout",
     "output_type": "stream",
     "text": [
      "\n",
      "Validation set: Avg. loss: 0.0007, Accuracy: 8962/10000 (90%)\n",
      "\n",
      "\n",
      "Training set epoch 15: Avg. loss: 0.0008, Accuracy: 883/1000 (88%)\n",
      "\n",
      "\n",
      "Validation set: Avg. loss: 0.0007, Accuracy: 8984/10000 (90%)\n",
      "\n",
      "\n",
      "Training set epoch 16: Avg. loss: 0.0007, Accuracy: 895/1000 (90%)\n",
      "\n",
      "\n",
      "Validation set: Avg. loss: 0.0006, Accuracy: 9079/10000 (91%)\n",
      "\n",
      "\n",
      "Training set epoch 17: Avg. loss: 0.0007, Accuracy: 899/1000 (90%)\n",
      "\n"
     ]
    },
    {
     "name": "stderr",
     "output_type": "stream",
     "text": [
      "\n",
      "100%|██████████| 1000/1000 [00:00<00:00, 50246.23it/s, loss=0.324]\n",
      "100%|██████████| 1000/1000 [00:00<00:00, 58231.58it/s, loss=0.311]\n"
     ]
    },
    {
     "name": "stdout",
     "output_type": "stream",
     "text": [
      "\n",
      "Validation set: Avg. loss: 0.0006, Accuracy: 9137/10000 (91%)\n",
      "\n",
      "\n",
      "Training set epoch 18: Avg. loss: 0.0006, Accuracy: 915/1000 (92%)\n",
      "\n",
      "\n",
      "Validation set: Avg. loss: 0.0006, Accuracy: 9157/10000 (92%)\n",
      "\n",
      "\n",
      "Training set epoch 19: Avg. loss: 0.0006, Accuracy: 919/1000 (92%)\n",
      "\n",
      "\n",
      "Validation set: Avg. loss: 0.0005, Accuracy: 9164/10000 (92%)\n",
      "\n",
      "\n",
      "Test set: Avg. loss: 0.0005, Accuracy: 9215/10000 (92%)\n",
      "\n"
     ]
    }
   ],
   "source": [
    "model_name=\"N0_small\"\n",
    "# Initialize the model\n",
    "N0 = N0_Net(p = dropout_p, minimizer=minimizer)\n",
    "N0.to(device)\n",
    "# Run epochs\n",
    "for i in range(num_epochs):\n",
    "    run_epoch(N0,i,train,batch_size, num=numtrain, ttype=\"train\")\n",
    "    # Test on validation set.\n",
    "    net_test(N0,val,batch_size)\n",
    "# Test on test set.\n",
    "net_test(N0,test,batch_size,ttype='test')\n",
    "# Save model\n",
    "torch.save(N0.state_dict(), datadir+'models/'+model_name)"
   ]
  },
  {
   "cell_type": "markdown",
   "metadata": {
    "colab_type": "text",
    "id": "szIY9XrHsmZq"
   },
   "source": [
    "The test accuracy of N0 is not horrible, but still lower at 92% in comparison to N2's 96%. N2 generalizes better because it has parameters transferred from N1, which is trained on handwritte letters instead of digits, but still trained to recognize certain features of images that distinguish different objects. "
   ]
  },
  {
   "cell_type": "markdown",
   "metadata": {
    "colab_type": "text",
    "id": "1j71RXEaZ0m5"
   },
   "source": [
    "# Problem 5: Compare results to N2Rand"
   ]
  },
  {
   "cell_type": "markdown",
   "metadata": {
    "colab_type": "text",
    "id": "VeQdGgFJsz3I"
   },
   "source": [
    "The results from training N2 on 1000 data is already shown in problem 4, so for N2 I will only show the result from training on the full 50K data set "
   ]
  },
  {
   "cell_type": "code",
   "execution_count": 0,
   "metadata": {
    "colab": {
     "base_uri": "https://localhost:8080/",
     "height": 1000
    },
    "colab_type": "code",
    "executionInfo": {
     "elapsed": 22508,
     "status": "ok",
     "timestamp": 1591252743340,
     "user": {
      "displayName": "Adam Zhang",
      "photoUrl": "",
      "userId": "15014079408385344051"
     },
     "user_tz": 300
    },
    "id": "_M3UikU6Z_Ms",
    "outputId": "461846d9-973b-466f-8d28-2b816c8a508a"
   },
   "outputs": [
    {
     "name": "stderr",
     "output_type": "stream",
     "text": [
      "100%|██████████| 50000/50000 [00:00<00:00, 54686.06it/s, loss=0.363]\n",
      " 12%|█▏        | 6000/50000 [00:00<00:00, 56478.17it/s, loss=0.211]"
     ]
    },
    {
     "name": "stdout",
     "output_type": "stream",
     "text": [
      "\n",
      "Training set epoch 0: Avg. loss: 0.0005, Accuracy: 46586/50000 (93%)\n",
      "\n",
      "\n",
      "Validation set: Avg. loss: 0.0003, Accuracy: 9633/10000 (96%)\n",
      "\n"
     ]
    },
    {
     "name": "stderr",
     "output_type": "stream",
     "text": [
      "100%|██████████| 50000/50000 [00:00<00:00, 56044.18it/s, loss=0.337]\n",
      " 13%|█▎        | 6500/50000 [00:00<00:00, 60876.46it/s, loss=0.213]"
     ]
    },
    {
     "name": "stdout",
     "output_type": "stream",
     "text": [
      "\n",
      "Training set epoch 1: Avg. loss: 0.0005, Accuracy: 46636/50000 (93%)\n",
      "\n",
      "\n",
      "Validation set: Avg. loss: 0.0003, Accuracy: 9636/10000 (96%)\n",
      "\n"
     ]
    },
    {
     "name": "stderr",
     "output_type": "stream",
     "text": [
      "100%|██████████| 50000/50000 [00:00<00:00, 60182.66it/s, loss=0.321]\n",
      " 12%|█▏        | 6000/50000 [00:00<00:00, 58293.49it/s, loss=0.174]"
     ]
    },
    {
     "name": "stdout",
     "output_type": "stream",
     "text": [
      "\n",
      "Training set epoch 2: Avg. loss: 0.0005, Accuracy: 46679/50000 (93%)\n",
      "\n",
      "\n",
      "Validation set: Avg. loss: 0.0003, Accuracy: 9641/10000 (96%)\n",
      "\n"
     ]
    },
    {
     "name": "stderr",
     "output_type": "stream",
     "text": [
      "100%|██████████| 50000/50000 [00:00<00:00, 56797.63it/s, loss=0.28]\n",
      " 12%|█▏        | 6000/50000 [00:00<00:00, 56049.73it/s, loss=0.209]"
     ]
    },
    {
     "name": "stdout",
     "output_type": "stream",
     "text": [
      "\n",
      "Training set epoch 3: Avg. loss: 0.0004, Accuracy: 46796/50000 (94%)\n",
      "\n",
      "\n",
      "Validation set: Avg. loss: 0.0003, Accuracy: 9641/10000 (96%)\n",
      "\n"
     ]
    },
    {
     "name": "stderr",
     "output_type": "stream",
     "text": [
      "100%|██████████| 50000/50000 [00:00<00:00, 56638.96it/s, loss=0.322]\n",
      " 12%|█▏        | 6000/50000 [00:00<00:00, 59079.14it/s, loss=0.153]"
     ]
    },
    {
     "name": "stdout",
     "output_type": "stream",
     "text": [
      "\n",
      "Training set epoch 4: Avg. loss: 0.0004, Accuracy: 46765/50000 (94%)\n",
      "\n",
      "\n",
      "Validation set: Avg. loss: 0.0003, Accuracy: 9646/10000 (96%)\n",
      "\n"
     ]
    },
    {
     "name": "stderr",
     "output_type": "stream",
     "text": [
      "100%|██████████| 50000/50000 [00:00<00:00, 58488.39it/s, loss=0.289]\n",
      " 12%|█▏        | 6000/50000 [00:00<00:00, 58670.35it/s, loss=0.199]"
     ]
    },
    {
     "name": "stdout",
     "output_type": "stream",
     "text": [
      "\n",
      "Training set epoch 5: Avg. loss: 0.0004, Accuracy: 46742/50000 (93%)\n",
      "\n",
      "\n",
      "Validation set: Avg. loss: 0.0003, Accuracy: 9653/10000 (97%)\n",
      "\n"
     ]
    },
    {
     "name": "stderr",
     "output_type": "stream",
     "text": [
      "100%|██████████| 50000/50000 [00:00<00:00, 57217.30it/s, loss=0.313]\n",
      " 12%|█▏        | 6000/50000 [00:00<00:00, 58670.76it/s, loss=0.189]"
     ]
    },
    {
     "name": "stdout",
     "output_type": "stream",
     "text": [
      "\n",
      "Training set epoch 6: Avg. loss: 0.0004, Accuracy: 46750/50000 (94%)\n",
      "\n",
      "\n",
      "Validation set: Avg. loss: 0.0002, Accuracy: 9654/10000 (97%)\n",
      "\n"
     ]
    },
    {
     "name": "stderr",
     "output_type": "stream",
     "text": [
      "100%|██████████| 50000/50000 [00:00<00:00, 59329.69it/s, loss=0.33]\n",
      " 12%|█▏        | 6000/50000 [00:00<00:00, 58596.85it/s, loss=0.178]"
     ]
    },
    {
     "name": "stdout",
     "output_type": "stream",
     "text": [
      "\n",
      "Training set epoch 7: Avg. loss: 0.0004, Accuracy: 46755/50000 (94%)\n",
      "\n",
      "\n",
      "Validation set: Avg. loss: 0.0002, Accuracy: 9655/10000 (97%)\n",
      "\n"
     ]
    },
    {
     "name": "stderr",
     "output_type": "stream",
     "text": [
      "100%|██████████| 50000/50000 [00:00<00:00, 57810.73it/s, loss=0.308]\n",
      " 12%|█▏        | 6000/50000 [00:00<00:00, 57022.04it/s, loss=0.185]"
     ]
    },
    {
     "name": "stdout",
     "output_type": "stream",
     "text": [
      "\n",
      "Training set epoch 8: Avg. loss: 0.0004, Accuracy: 46776/50000 (94%)\n",
      "\n",
      "\n",
      "Validation set: Avg. loss: 0.0002, Accuracy: 9657/10000 (97%)\n",
      "\n"
     ]
    },
    {
     "name": "stderr",
     "output_type": "stream",
     "text": [
      "100%|██████████| 50000/50000 [00:00<00:00, 58426.01it/s, loss=0.334]\n",
      " 12%|█▏        | 6000/50000 [00:00<00:00, 56887.47it/s, loss=0.186]"
     ]
    },
    {
     "name": "stdout",
     "output_type": "stream",
     "text": [
      "\n",
      "Training set epoch 9: Avg. loss: 0.0004, Accuracy: 46880/50000 (94%)\n",
      "\n",
      "\n",
      "Validation set: Avg. loss: 0.0002, Accuracy: 9657/10000 (97%)\n",
      "\n"
     ]
    },
    {
     "name": "stderr",
     "output_type": "stream",
     "text": [
      "100%|██████████| 50000/50000 [00:00<00:00, 56561.01it/s, loss=0.29]\n",
      " 12%|█▏        | 6000/50000 [00:00<00:00, 56520.91it/s, loss=0.254]"
     ]
    },
    {
     "name": "stdout",
     "output_type": "stream",
     "text": [
      "\n",
      "Training set epoch 10: Avg. loss: 0.0004, Accuracy: 46774/50000 (94%)\n",
      "\n",
      "\n",
      "Validation set: Avg. loss: 0.0002, Accuracy: 9660/10000 (97%)\n",
      "\n"
     ]
    },
    {
     "name": "stderr",
     "output_type": "stream",
     "text": [
      "100%|██████████| 50000/50000 [00:00<00:00, 57027.48it/s, loss=0.295]\n",
      " 13%|█▎        | 6500/50000 [00:00<00:00, 62415.52it/s, loss=0.21] "
     ]
    },
    {
     "name": "stdout",
     "output_type": "stream",
     "text": [
      "\n",
      "Training set epoch 11: Avg. loss: 0.0004, Accuracy: 46799/50000 (94%)\n",
      "\n",
      "\n",
      "Validation set: Avg. loss: 0.0002, Accuracy: 9661/10000 (97%)\n",
      "\n"
     ]
    },
    {
     "name": "stderr",
     "output_type": "stream",
     "text": [
      "100%|██████████| 50000/50000 [00:00<00:00, 58079.40it/s, loss=0.275]\n",
      " 12%|█▏        | 6000/50000 [00:00<00:00, 56227.68it/s, loss=0.169]"
     ]
    },
    {
     "name": "stdout",
     "output_type": "stream",
     "text": [
      "\n",
      "Training set epoch 12: Avg. loss: 0.0004, Accuracy: 46919/50000 (94%)\n",
      "\n",
      "\n",
      "Validation set: Avg. loss: 0.0002, Accuracy: 9664/10000 (97%)\n",
      "\n"
     ]
    },
    {
     "name": "stderr",
     "output_type": "stream",
     "text": [
      "100%|██████████| 50000/50000 [00:00<00:00, 58638.81it/s, loss=0.291]\n",
      " 12%|█▏        | 6000/50000 [00:00<00:00, 59841.40it/s, loss=0.179]"
     ]
    },
    {
     "name": "stdout",
     "output_type": "stream",
     "text": [
      "\n",
      "Training set epoch 13: Avg. loss: 0.0004, Accuracy: 46918/50000 (94%)\n",
      "\n",
      "\n",
      "Validation set: Avg. loss: 0.0002, Accuracy: 9670/10000 (97%)\n",
      "\n"
     ]
    },
    {
     "name": "stderr",
     "output_type": "stream",
     "text": [
      "100%|██████████| 50000/50000 [00:00<00:00, 56226.54it/s, loss=0.28]\n",
      " 13%|█▎        | 6500/50000 [00:00<00:00, 60427.55it/s, loss=0.163]"
     ]
    },
    {
     "name": "stdout",
     "output_type": "stream",
     "text": [
      "\n",
      "Training set epoch 14: Avg. loss: 0.0004, Accuracy: 46854/50000 (94%)\n",
      "\n",
      "\n",
      "Validation set: Avg. loss: 0.0002, Accuracy: 9667/10000 (97%)\n",
      "\n"
     ]
    },
    {
     "name": "stderr",
     "output_type": "stream",
     "text": [
      "100%|██████████| 50000/50000 [00:00<00:00, 57280.27it/s, loss=0.264]\n",
      " 12%|█▏        | 6000/50000 [00:00<00:00, 59410.95it/s, loss=0.154]"
     ]
    },
    {
     "name": "stdout",
     "output_type": "stream",
     "text": [
      "\n",
      "Training set epoch 15: Avg. loss: 0.0004, Accuracy: 46901/50000 (94%)\n",
      "\n",
      "\n",
      "Validation set: Avg. loss: 0.0002, Accuracy: 9666/10000 (97%)\n",
      "\n"
     ]
    },
    {
     "name": "stderr",
     "output_type": "stream",
     "text": [
      "100%|██████████| 50000/50000 [00:00<00:00, 56283.94it/s, loss=0.312]\n",
      " 12%|█▏        | 6000/50000 [00:00<00:00, 57437.60it/s, loss=0.154]"
     ]
    },
    {
     "name": "stdout",
     "output_type": "stream",
     "text": [
      "\n",
      "Training set epoch 16: Avg. loss: 0.0004, Accuracy: 46964/50000 (94%)\n",
      "\n",
      "\n",
      "Validation set: Avg. loss: 0.0002, Accuracy: 9671/10000 (97%)\n",
      "\n"
     ]
    },
    {
     "name": "stderr",
     "output_type": "stream",
     "text": [
      "100%|██████████| 50000/50000 [00:00<00:00, 58515.28it/s, loss=0.286]\n",
      " 11%|█         | 5500/50000 [00:00<00:00, 52958.99it/s, loss=0.216]"
     ]
    },
    {
     "name": "stdout",
     "output_type": "stream",
     "text": [
      "\n",
      "Training set epoch 17: Avg. loss: 0.0004, Accuracy: 46906/50000 (94%)\n",
      "\n",
      "\n",
      "Validation set: Avg. loss: 0.0002, Accuracy: 9666/10000 (97%)\n",
      "\n"
     ]
    },
    {
     "name": "stderr",
     "output_type": "stream",
     "text": [
      "100%|██████████| 50000/50000 [00:00<00:00, 56011.13it/s, loss=0.297]\n",
      " 12%|█▏        | 6000/50000 [00:00<00:00, 57148.04it/s, loss=0.175]"
     ]
    },
    {
     "name": "stdout",
     "output_type": "stream",
     "text": [
      "\n",
      "Training set epoch 18: Avg. loss: 0.0004, Accuracy: 46913/50000 (94%)\n",
      "\n",
      "\n",
      "Validation set: Avg. loss: 0.0002, Accuracy: 9671/10000 (97%)\n",
      "\n"
     ]
    },
    {
     "name": "stderr",
     "output_type": "stream",
     "text": [
      "100%|██████████| 50000/50000 [00:00<00:00, 57118.06it/s, loss=0.289]\n"
     ]
    },
    {
     "name": "stdout",
     "output_type": "stream",
     "text": [
      "\n",
      "Training set epoch 19: Avg. loss: 0.0004, Accuracy: 46949/50000 (94%)\n",
      "\n",
      "\n",
      "Validation set: Avg. loss: 0.0002, Accuracy: 9672/10000 (97%)\n",
      "\n",
      "\n",
      "Test set: Avg. loss: 0.0002, Accuracy: 9672/10000 (97%)\n",
      "\n"
     ]
    }
   ],
   "source": [
    "# Some parameters>\n",
    "numtrain=50000\n",
    "model_name=\"N2_full\"\n",
    "# Run epochs\n",
    "for i in range(num_epochs):\n",
    "    run_epoch(N2,i,train,batch_size, num=numtrain, ttype=\"train\")\n",
    "    # Test on validation set.\n",
    "    net_test(N2,val,batch_size)\n",
    "# Test on test set.\n",
    "net_test(N2,test,batch_size,ttype='test')\n",
    "# Save model\n",
    "torch.save(N2.state_dict(), datadir+model_name)"
   ]
  },
  {
   "cell_type": "markdown",
   "metadata": {
    "colab_type": "text",
    "id": "V7DMsPjew18q"
   },
   "source": [
    "As expected, with more data, the test accuracy is slightly better at 97% compared to 96% with just 1000 digits. It seems that there isn't much benefit to increase training data for this model."
   ]
  },
  {
   "cell_type": "markdown",
   "metadata": {
    "colab_type": "text",
    "id": "PTkCX6g6xETM"
   },
   "source": [
    "Next I compare the results to N2rand"
   ]
  },
  {
   "cell_type": "code",
   "execution_count": 0,
   "metadata": {
    "colab": {
     "base_uri": "https://localhost:8080/",
     "height": 119
    },
    "colab_type": "code",
    "executionInfo": {
     "elapsed": 3662,
     "status": "ok",
     "timestamp": 1591252754251,
     "user": {
      "displayName": "Adam Zhang",
      "photoUrl": "",
      "userId": "15014079408385344051"
     },
     "user_tz": 300
    },
    "id": "GF-AQ5__xDMO",
    "outputId": "cbd73b26-7e6f-459c-ef29-b698276d7b1d"
   },
   "outputs": [
    {
     "name": "stdout",
     "output_type": "stream",
     "text": [
      "conv1.weight torch.Size([32, 1, 5, 5])\n",
      "conv1.bias torch.Size([32])\n",
      "conv2.weight torch.Size([64, 32, 5, 5])\n",
      "conv2.bias torch.Size([64])\n",
      "fc10.weight torch.Size([10, 1024])\n",
      "fc10.bias torch.Size([10])\n"
     ]
    }
   ],
   "source": [
    "N2rand = N2_Net(p=dropout_p,minimizer = minimizer)\n",
    "N2rand.to(device)\n",
    "PP = []\n",
    "for name, param in N2rand.named_parameters():\n",
    "  print(name,param.shape)\n",
    "  if 'fc10' in name:\n",
    "    PP.append(param)\n",
    "N2rand.optimizer = torch.optim.Adam(PP,lr=step_size)"
   ]
  },
  {
   "cell_type": "code",
   "execution_count": 0,
   "metadata": {
    "colab": {
     "base_uri": "https://localhost:8080/",
     "height": 1000
    },
    "colab_type": "code",
    "executionInfo": {
     "elapsed": 7889,
     "status": "ok",
     "timestamp": 1591252764822,
     "user": {
      "displayName": "Adam Zhang",
      "photoUrl": "",
      "userId": "15014079408385344051"
     },
     "user_tz": 300
    },
    "id": "RoYUbp_hx6v3",
    "outputId": "af334306-9822-48b8-caa6-cead36080ce2"
   },
   "outputs": [
    {
     "name": "stderr",
     "output_type": "stream",
     "text": [
      "100%|██████████| 1000/1000 [00:00<00:00, 39897.50it/s, loss=2.31]\n",
      "100%|██████████| 1000/1000 [00:00<00:00, 42477.41it/s, loss=2.28]\n",
      "100%|██████████| 1000/1000 [00:00<00:00, 48457.13it/s, loss=2.25]\n"
     ]
    },
    {
     "name": "stdout",
     "output_type": "stream",
     "text": [
      "\n",
      "Training set epoch 0: Avg. loss: 0.0046, Accuracy: 98/1000 (10%)\n",
      "\n",
      "\n",
      "Validation set: Avg. loss: 0.0046, Accuracy: 2323/10000 (23%)\n",
      "\n",
      "\n",
      "Training set epoch 1: Avg. loss: 0.0046, Accuracy: 158/1000 (16%)\n",
      "\n",
      "\n",
      "Validation set: Avg. loss: 0.0045, Accuracy: 4750/10000 (48%)\n",
      "\n",
      "\n",
      "Training set epoch 2: Avg. loss: 0.0045, Accuracy: 249/1000 (25%)\n",
      "\n"
     ]
    },
    {
     "name": "stderr",
     "output_type": "stream",
     "text": [
      "100%|██████████| 1000/1000 [00:00<00:00, 54665.29it/s, loss=2.22]\n",
      "100%|██████████| 1000/1000 [00:00<00:00, 51542.91it/s, loss=2.18]\n",
      "100%|██████████| 1000/1000 [00:00<00:00, 56609.40it/s, loss=2.16]"
     ]
    },
    {
     "name": "stdout",
     "output_type": "stream",
     "text": [
      "\n",
      "Validation set: Avg. loss: 0.0044, Accuracy: 4461/10000 (45%)\n",
      "\n",
      "\n",
      "Training set epoch 3: Avg. loss: 0.0044, Accuracy: 318/1000 (32%)\n",
      "\n",
      "\n",
      "Validation set: Avg. loss: 0.0044, Accuracy: 4340/10000 (43%)\n",
      "\n",
      "\n",
      "Training set epoch 4: Avg. loss: 0.0044, Accuracy: 393/1000 (39%)\n",
      "\n",
      "\n",
      "Validation set: Avg. loss: 0.0043, Accuracy: 5081/10000 (51%)\n",
      "\n",
      "\n",
      "Training set epoch 5: Avg. loss: 0.0043, Accuracy: 435/1000 (44%)\n",
      "\n"
     ]
    },
    {
     "name": "stderr",
     "output_type": "stream",
     "text": [
      "\n",
      "100%|██████████| 1000/1000 [00:00<00:00, 56951.46it/s, loss=2.12]\n",
      "100%|██████████| 1000/1000 [00:00<00:00, 61958.84it/s, loss=2.08]\n",
      "100%|██████████| 1000/1000 [00:00<00:00, 50084.23it/s, loss=2.06]"
     ]
    },
    {
     "name": "stdout",
     "output_type": "stream",
     "text": [
      "\n",
      "Validation set: Avg. loss: 0.0043, Accuracy: 5964/10000 (60%)\n",
      "\n",
      "\n",
      "Training set epoch 6: Avg. loss: 0.0042, Accuracy: 542/1000 (54%)\n",
      "\n",
      "\n",
      "Validation set: Avg. loss: 0.0042, Accuracy: 6654/10000 (67%)\n",
      "\n",
      "\n",
      "Training set epoch 7: Avg. loss: 0.0042, Accuracy: 606/1000 (61%)\n",
      "\n",
      "\n",
      "Validation set: Avg. loss: 0.0041, Accuracy: 7148/10000 (71%)\n",
      "\n",
      "\n",
      "Training set epoch 8: Avg. loss: 0.0041, Accuracy: 662/1000 (66%)\n",
      "\n"
     ]
    },
    {
     "name": "stderr",
     "output_type": "stream",
     "text": [
      "\n",
      "100%|██████████| 1000/1000 [00:00<00:00, 55507.38it/s, loss=2.04]\n",
      "100%|██████████| 1000/1000 [00:00<00:00, 61265.60it/s, loss=2.01]\n",
      "100%|██████████| 1000/1000 [00:00<00:00, 46632.39it/s, loss=1.97]"
     ]
    },
    {
     "name": "stdout",
     "output_type": "stream",
     "text": [
      "\n",
      "Validation set: Avg. loss: 0.0041, Accuracy: 7488/10000 (75%)\n",
      "\n",
      "\n",
      "Training set epoch 9: Avg. loss: 0.0041, Accuracy: 685/1000 (68%)\n",
      "\n",
      "\n",
      "Validation set: Avg. loss: 0.0040, Accuracy: 7674/10000 (77%)\n",
      "\n",
      "\n",
      "Training set epoch 10: Avg. loss: 0.0040, Accuracy: 727/1000 (73%)\n",
      "\n",
      "\n",
      "Validation set: Avg. loss: 0.0040, Accuracy: 7782/10000 (78%)\n",
      "\n",
      "\n",
      "Training set epoch 11: Avg. loss: 0.0039, Accuracy: 755/1000 (76%)\n",
      "\n"
     ]
    },
    {
     "name": "stderr",
     "output_type": "stream",
     "text": [
      "\n",
      "100%|██████████| 1000/1000 [00:00<00:00, 50379.61it/s, loss=1.95]\n",
      "100%|██████████| 1000/1000 [00:00<00:00, 45324.72it/s, loss=1.92]\n",
      "100%|██████████| 1000/1000 [00:00<00:00, 53908.59it/s, loss=1.9]"
     ]
    },
    {
     "name": "stdout",
     "output_type": "stream",
     "text": [
      "\n",
      "Validation set: Avg. loss: 0.0039, Accuracy: 7860/10000 (79%)\n",
      "\n",
      "\n",
      "Training set epoch 12: Avg. loss: 0.0039, Accuracy: 755/1000 (76%)\n",
      "\n",
      "\n",
      "Validation set: Avg. loss: 0.0039, Accuracy: 7928/10000 (79%)\n",
      "\n",
      "\n",
      "Training set epoch 13: Avg. loss: 0.0038, Accuracy: 768/1000 (77%)\n",
      "\n",
      "\n",
      "Validation set: Avg. loss: 0.0038, Accuracy: 7974/10000 (80%)\n",
      "\n",
      "\n",
      "Training set epoch 14: Avg. loss: 0.0038, Accuracy: 773/1000 (77%)\n",
      "\n"
     ]
    },
    {
     "name": "stderr",
     "output_type": "stream",
     "text": [
      "\n",
      "100%|██████████| 1000/1000 [00:00<00:00, 55525.75it/s, loss=1.86]\n",
      "100%|██████████| 1000/1000 [00:00<00:00, 49587.44it/s, loss=1.85]\n",
      "100%|██████████| 1000/1000 [00:00<00:00, 52652.57it/s, loss=1.81]"
     ]
    },
    {
     "name": "stdout",
     "output_type": "stream",
     "text": [
      "\n",
      "Validation set: Avg. loss: 0.0038, Accuracy: 7996/10000 (80%)\n",
      "\n",
      "\n",
      "Training set epoch 15: Avg. loss: 0.0037, Accuracy: 791/1000 (79%)\n",
      "\n",
      "\n",
      "Validation set: Avg. loss: 0.0037, Accuracy: 8007/10000 (80%)\n",
      "\n",
      "\n",
      "Training set epoch 16: Avg. loss: 0.0037, Accuracy: 806/1000 (81%)\n",
      "\n",
      "\n",
      "Validation set: Avg. loss: 0.0037, Accuracy: 8003/10000 (80%)\n",
      "\n",
      "\n",
      "Training set epoch 17: Avg. loss: 0.0036, Accuracy: 790/1000 (79%)\n",
      "\n"
     ]
    },
    {
     "name": "stderr",
     "output_type": "stream",
     "text": [
      "\n",
      "100%|██████████| 1000/1000 [00:00<00:00, 52508.22it/s, loss=1.8]\n",
      "100%|██████████| 1000/1000 [00:00<00:00, 51161.90it/s, loss=1.77]\n"
     ]
    },
    {
     "name": "stdout",
     "output_type": "stream",
     "text": [
      "\n",
      "Validation set: Avg. loss: 0.0036, Accuracy: 7999/10000 (80%)\n",
      "\n",
      "\n",
      "Training set epoch 18: Avg. loss: 0.0036, Accuracy: 792/1000 (79%)\n",
      "\n",
      "\n",
      "Validation set: Avg. loss: 0.0036, Accuracy: 7999/10000 (80%)\n",
      "\n",
      "\n",
      "Training set epoch 19: Avg. loss: 0.0035, Accuracy: 798/1000 (80%)\n",
      "\n",
      "\n",
      "Validation set: Avg. loss: 0.0035, Accuracy: 8014/10000 (80%)\n",
      "\n",
      "\n",
      "Test set: Avg. loss: 0.0035, Accuracy: 8207/10000 (82%)\n",
      "\n"
     ]
    }
   ],
   "source": [
    "# Some parameters>\n",
    "numtrain=1000\n",
    "model_name=\"N2rand_small\"\n",
    "\n",
    "# Run epochs\n",
    "for i in range(num_epochs):\n",
    "    run_epoch(N2rand,i,train,batch_size, num=numtrain, ttype=\"train\")\n",
    "    # Test on validation set.\n",
    "    net_test(N2rand,val,batch_size)\n",
    "# Test on test set.\n",
    "net_test(N2rand,test,batch_size,ttype='test')\n",
    "# Save model\n",
    "torch.save(N2rand.state_dict(), datadir+model_name)"
   ]
  },
  {
   "cell_type": "code",
   "execution_count": 0,
   "metadata": {
    "colab": {
     "base_uri": "https://localhost:8080/",
     "height": 1000
    },
    "colab_type": "code",
    "executionInfo": {
     "elapsed": 22279,
     "status": "ok",
     "timestamp": 1591252787228,
     "user": {
      "displayName": "Adam Zhang",
      "photoUrl": "",
      "userId": "15014079408385344051"
     },
     "user_tz": 300
    },
    "id": "ss5neMIGyDEA",
    "outputId": "40195364-c6e6-4c2c-fec5-9455b5c36de5"
   },
   "outputs": [
    {
     "name": "stderr",
     "output_type": "stream",
     "text": [
      "100%|██████████| 50000/50000 [00:00<00:00, 53126.99it/s, loss=1.14]\n",
      " 13%|█▎        | 6500/50000 [00:00<00:00, 59676.90it/s, loss=0.953]"
     ]
    },
    {
     "name": "stdout",
     "output_type": "stream",
     "text": [
      "\n",
      "Training set epoch 0: Avg. loss: 0.0027, Accuracy: 40511/50000 (81%)\n",
      "\n",
      "\n",
      "Validation set: Avg. loss: 0.0020, Accuracy: 8715/10000 (87%)\n",
      "\n"
     ]
    },
    {
     "name": "stderr",
     "output_type": "stream",
     "text": [
      "100%|██████████| 50000/50000 [00:00<00:00, 58412.72it/s, loss=0.872]\n",
      " 13%|█▎        | 6500/50000 [00:00<00:00, 58978.22it/s, loss=0.653]"
     ]
    },
    {
     "name": "stdout",
     "output_type": "stream",
     "text": [
      "\n",
      "Training set epoch 1: Avg. loss: 0.0018, Accuracy: 42633/50000 (85%)\n",
      "\n",
      "\n",
      "Validation set: Avg. loss: 0.0014, Accuracy: 8942/10000 (89%)\n",
      "\n"
     ]
    },
    {
     "name": "stderr",
     "output_type": "stream",
     "text": [
      "100%|██████████| 50000/50000 [00:00<00:00, 58739.62it/s, loss=0.731]\n",
      " 13%|█▎        | 6500/50000 [00:00<00:00, 61748.70it/s, loss=0.563]"
     ]
    },
    {
     "name": "stdout",
     "output_type": "stream",
     "text": [
      "\n",
      "Training set epoch 2: Avg. loss: 0.0014, Accuracy: 43621/50000 (87%)\n",
      "\n",
      "\n",
      "Validation set: Avg. loss: 0.0011, Accuracy: 9066/10000 (91%)\n",
      "\n"
     ]
    },
    {
     "name": "stderr",
     "output_type": "stream",
     "text": [
      "100%|██████████| 50000/50000 [00:00<00:00, 59536.71it/s, loss=0.657]\n",
      " 12%|█▏        | 6000/50000 [00:00<00:00, 56413.22it/s, loss=0.447]"
     ]
    },
    {
     "name": "stdout",
     "output_type": "stream",
     "text": [
      "\n",
      "Training set epoch 3: Avg. loss: 0.0012, Accuracy: 44314/50000 (89%)\n",
      "\n",
      "\n",
      "Validation set: Avg. loss: 0.0009, Accuracy: 9144/10000 (91%)\n",
      "\n"
     ]
    },
    {
     "name": "stderr",
     "output_type": "stream",
     "text": [
      "100%|██████████| 50000/50000 [00:00<00:00, 58312.84it/s, loss=0.576]\n",
      " 13%|█▎        | 6500/50000 [00:00<00:00, 59107.45it/s, loss=0.438]"
     ]
    },
    {
     "name": "stdout",
     "output_type": "stream",
     "text": [
      "\n",
      "Training set epoch 4: Avg. loss: 0.0010, Accuracy: 44711/50000 (89%)\n",
      "\n",
      "\n",
      "Validation set: Avg. loss: 0.0008, Accuracy: 9197/10000 (92%)\n",
      "\n"
     ]
    },
    {
     "name": "stderr",
     "output_type": "stream",
     "text": [
      "100%|██████████| 50000/50000 [00:00<00:00, 57537.72it/s, loss=0.532]\n",
      " 12%|█▏        | 6000/50000 [00:00<00:00, 56559.15it/s, loss=0.35] "
     ]
    },
    {
     "name": "stdout",
     "output_type": "stream",
     "text": [
      "\n",
      "Training set epoch 5: Avg. loss: 0.0009, Accuracy: 44962/50000 (90%)\n",
      "\n",
      "\n",
      "Validation set: Avg. loss: 0.0008, Accuracy: 9259/10000 (93%)\n",
      "\n"
     ]
    },
    {
     "name": "stderr",
     "output_type": "stream",
     "text": [
      "100%|██████████| 50000/50000 [00:00<00:00, 59534.12it/s, loss=0.509]\n",
      " 12%|█▏        | 6000/50000 [00:00<00:00, 58909.45it/s, loss=0.333]"
     ]
    },
    {
     "name": "stdout",
     "output_type": "stream",
     "text": [
      "\n",
      "Training set epoch 6: Avg. loss: 0.0008, Accuracy: 45250/50000 (90%)\n",
      "\n",
      "\n",
      "Validation set: Avg. loss: 0.0007, Accuracy: 9288/10000 (93%)\n",
      "\n"
     ]
    },
    {
     "name": "stderr",
     "output_type": "stream",
     "text": [
      "100%|██████████| 50000/50000 [00:00<00:00, 59174.35it/s, loss=0.495]\n",
      " 13%|█▎        | 6500/50000 [00:00<00:00, 59117.72it/s, loss=0.346]"
     ]
    },
    {
     "name": "stdout",
     "output_type": "stream",
     "text": [
      "\n",
      "Training set epoch 7: Avg. loss: 0.0008, Accuracy: 45473/50000 (91%)\n",
      "\n",
      "\n",
      "Validation set: Avg. loss: 0.0006, Accuracy: 9322/10000 (93%)\n",
      "\n"
     ]
    },
    {
     "name": "stderr",
     "output_type": "stream",
     "text": [
      "100%|██████████| 50000/50000 [00:00<00:00, 56914.44it/s, loss=0.435]\n",
      " 12%|█▏        | 6000/50000 [00:00<00:00, 55758.88it/s, loss=0.297]"
     ]
    },
    {
     "name": "stdout",
     "output_type": "stream",
     "text": [
      "\n",
      "Training set epoch 8: Avg. loss: 0.0007, Accuracy: 45636/50000 (91%)\n",
      "\n",
      "\n",
      "Validation set: Avg. loss: 0.0006, Accuracy: 9349/10000 (93%)\n",
      "\n"
     ]
    },
    {
     "name": "stderr",
     "output_type": "stream",
     "text": [
      "100%|██████████| 50000/50000 [00:00<00:00, 55622.64it/s, loss=0.452]\n",
      " 12%|█▏        | 6000/50000 [00:00<00:00, 56821.58it/s, loss=0.283]"
     ]
    },
    {
     "name": "stdout",
     "output_type": "stream",
     "text": [
      "\n",
      "Training set epoch 9: Avg. loss: 0.0007, Accuracy: 45814/50000 (92%)\n",
      "\n",
      "\n",
      "Validation set: Avg. loss: 0.0006, Accuracy: 9368/10000 (94%)\n",
      "\n"
     ]
    },
    {
     "name": "stderr",
     "output_type": "stream",
     "text": [
      "100%|██████████| 50000/50000 [00:00<00:00, 55216.37it/s, loss=0.406]\n",
      " 13%|█▎        | 6500/50000 [00:00<00:00, 62322.07it/s, loss=0.288]"
     ]
    },
    {
     "name": "stdout",
     "output_type": "stream",
     "text": [
      "\n",
      "Training set epoch 10: Avg. loss: 0.0007, Accuracy: 45932/50000 (92%)\n",
      "\n",
      "\n",
      "Validation set: Avg. loss: 0.0005, Accuracy: 9387/10000 (94%)\n",
      "\n"
     ]
    },
    {
     "name": "stderr",
     "output_type": "stream",
     "text": [
      "100%|██████████| 50000/50000 [00:00<00:00, 59143.29it/s, loss=0.397]\n",
      " 12%|█▏        | 6000/50000 [00:00<00:00, 57360.23it/s, loss=0.251]"
     ]
    },
    {
     "name": "stdout",
     "output_type": "stream",
     "text": [
      "\n",
      "Training set epoch 11: Avg. loss: 0.0007, Accuracy: 45997/50000 (92%)\n",
      "\n",
      "\n",
      "Validation set: Avg. loss: 0.0005, Accuracy: 9411/10000 (94%)\n",
      "\n"
     ]
    },
    {
     "name": "stderr",
     "output_type": "stream",
     "text": [
      "100%|██████████| 50000/50000 [00:00<00:00, 56879.89it/s, loss=0.39]\n",
      " 12%|█▏        | 6000/50000 [00:00<00:00, 57189.60it/s, loss=0.256]"
     ]
    },
    {
     "name": "stdout",
     "output_type": "stream",
     "text": [
      "\n",
      "Training set epoch 12: Avg. loss: 0.0006, Accuracy: 46147/50000 (92%)\n",
      "\n",
      "\n",
      "Validation set: Avg. loss: 0.0005, Accuracy: 9427/10000 (94%)\n",
      "\n"
     ]
    },
    {
     "name": "stderr",
     "output_type": "stream",
     "text": [
      "100%|██████████| 50000/50000 [00:00<00:00, 59479.04it/s, loss=0.371]\n",
      " 12%|█▏        | 6000/50000 [00:00<00:00, 57803.97it/s, loss=0.248]"
     ]
    },
    {
     "name": "stdout",
     "output_type": "stream",
     "text": [
      "\n",
      "Training set epoch 13: Avg. loss: 0.0006, Accuracy: 46231/50000 (92%)\n",
      "\n",
      "\n",
      "Validation set: Avg. loss: 0.0005, Accuracy: 9450/10000 (94%)\n",
      "\n"
     ]
    },
    {
     "name": "stderr",
     "output_type": "stream",
     "text": [
      "100%|██████████| 50000/50000 [00:00<00:00, 57904.53it/s, loss=0.382]\n",
      " 12%|█▏        | 6000/50000 [00:00<00:00, 59205.62it/s, loss=0.227]"
     ]
    },
    {
     "name": "stdout",
     "output_type": "stream",
     "text": [
      "\n",
      "Training set epoch 14: Avg. loss: 0.0006, Accuracy: 46336/50000 (93%)\n",
      "\n",
      "\n",
      "Validation set: Avg. loss: 0.0005, Accuracy: 9461/10000 (95%)\n",
      "\n"
     ]
    },
    {
     "name": "stderr",
     "output_type": "stream",
     "text": [
      "100%|██████████| 50000/50000 [00:00<00:00, 56838.22it/s, loss=0.37]\n",
      " 13%|█▎        | 6500/50000 [00:00<00:00, 58432.63it/s, loss=0.244]"
     ]
    },
    {
     "name": "stdout",
     "output_type": "stream",
     "text": [
      "\n",
      "Training set epoch 15: Avg. loss: 0.0006, Accuracy: 46354/50000 (93%)\n",
      "\n",
      "\n",
      "Validation set: Avg. loss: 0.0005, Accuracy: 9474/10000 (95%)\n",
      "\n"
     ]
    },
    {
     "name": "stderr",
     "output_type": "stream",
     "text": [
      "100%|██████████| 50000/50000 [00:00<00:00, 58343.29it/s, loss=0.344]\n",
      " 12%|█▏        | 6000/50000 [00:00<00:00, 58078.78it/s, loss=0.218]"
     ]
    },
    {
     "name": "stdout",
     "output_type": "stream",
     "text": [
      "\n",
      "Training set epoch 16: Avg. loss: 0.0006, Accuracy: 46441/50000 (93%)\n",
      "\n",
      "\n",
      "Validation set: Avg. loss: 0.0004, Accuracy: 9479/10000 (95%)\n",
      "\n"
     ]
    },
    {
     "name": "stderr",
     "output_type": "stream",
     "text": [
      "100%|██████████| 50000/50000 [00:00<00:00, 57785.80it/s, loss=0.34]\n",
      " 12%|█▏        | 6000/50000 [00:00<00:00, 57697.94it/s, loss=0.258]"
     ]
    },
    {
     "name": "stdout",
     "output_type": "stream",
     "text": [
      "\n",
      "Training set epoch 17: Avg. loss: 0.0005, Accuracy: 46528/50000 (93%)\n",
      "\n",
      "\n",
      "Validation set: Avg. loss: 0.0004, Accuracy: 9487/10000 (95%)\n",
      "\n"
     ]
    },
    {
     "name": "stderr",
     "output_type": "stream",
     "text": [
      "100%|██████████| 50000/50000 [00:00<00:00, 56201.49it/s, loss=0.336]\n",
      " 12%|█▏        | 6000/50000 [00:00<00:00, 59262.79it/s, loss=0.245]"
     ]
    },
    {
     "name": "stdout",
     "output_type": "stream",
     "text": [
      "\n",
      "Training set epoch 18: Avg. loss: 0.0005, Accuracy: 46646/50000 (93%)\n",
      "\n",
      "\n",
      "Validation set: Avg. loss: 0.0004, Accuracy: 9499/10000 (95%)\n",
      "\n"
     ]
    },
    {
     "name": "stderr",
     "output_type": "stream",
     "text": [
      "100%|██████████| 50000/50000 [00:00<00:00, 58258.66it/s, loss=0.331]\n"
     ]
    },
    {
     "name": "stdout",
     "output_type": "stream",
     "text": [
      "\n",
      "Training set epoch 19: Avg. loss: 0.0005, Accuracy: 46589/50000 (93%)\n",
      "\n",
      "\n",
      "Validation set: Avg. loss: 0.0004, Accuracy: 9497/10000 (95%)\n",
      "\n",
      "\n",
      "Test set: Avg. loss: 0.0004, Accuracy: 9512/10000 (95%)\n",
      "\n"
     ]
    }
   ],
   "source": [
    "# Some parameters>\n",
    "numtrain= 50000\n",
    "model_name=\"N2rand_full\"\n",
    "\n",
    "# Run epochs\n",
    "for i in range(num_epochs):\n",
    "    run_epoch(N2rand,i,train,batch_size, num=numtrain, ttype=\"train\")\n",
    "    # Test on validation set.\n",
    "    net_test(N2rand,val,batch_size)\n",
    "# Test on test set.\n",
    "net_test(N2rand,test,batch_size,ttype='test')\n",
    "# Save model\n",
    "torch.save(N2rand.state_dict(), datadir+model_name)"
   ]
  },
  {
   "cell_type": "markdown",
   "metadata": {
    "colab_type": "text",
    "id": "Lx-2CRBjygd0"
   },
   "source": [
    "While increasing the number of training data only had marginal effects on N2, it has great effect on N2rand. With only 1000 data for training, N2rand perfroms very badly with only 80% accuracy. With the full training set, it has 95% accuracy. This is because N2 has it's parameters transferred from N1, so all of it's parameters have already been trained to some extent to recognize certain features of any image. N2rand on the other hand can only train the parameters in fc10 layer and all the parameters in convolution layer are random and aren't getting trained.  , so having more data to train those few parameters can substantially improve the performance. "
   ]
  },
  {
   "cell_type": "markdown",
   "metadata": {
    "colab_type": "text",
    "id": "n8C65_U8Z_hF"
   },
   "source": [
    "# Problem 6: Test the neural nets on transformed data"
   ]
  },
  {
   "cell_type": "markdown",
   "metadata": {
    "colab_type": "text",
    "id": "EtAA9M_fzUxx"
   },
   "source": [
    "I test N2 trained on full data set, N2rand trained on full data set, and N0 trained on full data set. Since I have all the models already except for N0 trained on the full data set, I train and save it below:\n",
    "\n",
    "---\n",
    "\n"
   ]
  },
  {
   "cell_type": "code",
   "execution_count": 0,
   "metadata": {
    "colab": {
     "base_uri": "https://localhost:8080/",
     "height": 1000
    },
    "colab_type": "code",
    "executionInfo": {
     "elapsed": 22695,
     "status": "ok",
     "timestamp": 1591252877556,
     "user": {
      "displayName": "Adam Zhang",
      "photoUrl": "",
      "userId": "15014079408385344051"
     },
     "user_tz": 300
    },
    "id": "u5b3U2uPaDjB",
    "outputId": "7a18c280-c606-43d6-87cc-a69bc6178893"
   },
   "outputs": [
    {
     "name": "stderr",
     "output_type": "stream",
     "text": [
      "100%|██████████| 50000/50000 [00:00<00:00, 51191.96it/s, loss=0.22]\n",
      " 12%|█▏        | 6000/50000 [00:00<00:00, 55945.56it/s, loss=0.142]"
     ]
    },
    {
     "name": "stdout",
     "output_type": "stream",
     "text": [
      "\n",
      "Training set epoch 0: Avg. loss: 0.0004, Accuracy: 46735/50000 (93%)\n",
      "\n",
      "\n",
      "Validation set: Avg. loss: 0.0002, Accuracy: 9747/10000 (97%)\n",
      "\n"
     ]
    },
    {
     "name": "stderr",
     "output_type": "stream",
     "text": [
      "100%|██████████| 50000/50000 [00:00<00:00, 53933.63it/s, loss=0.133]\n",
      " 11%|█         | 5500/50000 [00:00<00:00, 52243.81it/s, loss=0.139]"
     ]
    },
    {
     "name": "stdout",
     "output_type": "stream",
     "text": [
      "\n",
      "Training set epoch 1: Avg. loss: 0.0002, Accuracy: 48239/50000 (96%)\n",
      "\n",
      "\n",
      "Validation set: Avg. loss: 0.0001, Accuracy: 9837/10000 (98%)\n",
      "\n"
     ]
    },
    {
     "name": "stderr",
     "output_type": "stream",
     "text": [
      "100%|██████████| 50000/50000 [00:00<00:00, 53511.85it/s, loss=0.139]\n",
      " 11%|█         | 5500/50000 [00:00<00:00, 52502.30it/s, loss=0.0911]"
     ]
    },
    {
     "name": "stdout",
     "output_type": "stream",
     "text": [
      "\n",
      "Training set epoch 2: Avg. loss: 0.0002, Accuracy: 48603/50000 (97%)\n",
      "\n",
      "\n",
      "Validation set: Avg. loss: 0.0001, Accuracy: 9872/10000 (99%)\n",
      "\n"
     ]
    },
    {
     "name": "stderr",
     "output_type": "stream",
     "text": [
      "100%|██████████| 50000/50000 [00:00<00:00, 52718.06it/s, loss=0.116]\n",
      " 11%|█         | 5500/50000 [00:00<00:00, 51919.98it/s, loss=0.0856]"
     ]
    },
    {
     "name": "stdout",
     "output_type": "stream",
     "text": [
      "\n",
      "Training set epoch 3: Avg. loss: 0.0002, Accuracy: 48799/50000 (98%)\n",
      "\n",
      "\n",
      "Validation set: Avg. loss: 0.0001, Accuracy: 9887/10000 (99%)\n",
      "\n"
     ]
    },
    {
     "name": "stderr",
     "output_type": "stream",
     "text": [
      "100%|██████████| 50000/50000 [00:00<00:00, 53235.92it/s, loss=0.0857]\n",
      " 11%|█         | 5500/50000 [00:00<00:00, 51237.41it/s, loss=0.0593]"
     ]
    },
    {
     "name": "stdout",
     "output_type": "stream",
     "text": [
      "\n",
      "Training set epoch 4: Avg. loss: 0.0001, Accuracy: 48982/50000 (98%)\n",
      "\n",
      "\n",
      "Validation set: Avg. loss: 0.0001, Accuracy: 9900/10000 (99%)\n",
      "\n"
     ]
    },
    {
     "name": "stderr",
     "output_type": "stream",
     "text": [
      "100%|██████████| 50000/50000 [00:00<00:00, 52259.09it/s, loss=0.0652]\n",
      " 10%|█         | 5000/50000 [00:00<00:00, 49647.43it/s, loss=0.06]  "
     ]
    },
    {
     "name": "stdout",
     "output_type": "stream",
     "text": [
      "\n",
      "Training set epoch 5: Avg. loss: 0.0001, Accuracy: 49078/50000 (98%)\n",
      "\n",
      "\n",
      "Validation set: Avg. loss: 0.0001, Accuracy: 9909/10000 (99%)\n",
      "\n"
     ]
    },
    {
     "name": "stderr",
     "output_type": "stream",
     "text": [
      "100%|██████████| 50000/50000 [00:00<00:00, 52978.59it/s, loss=0.0943]\n",
      " 12%|█▏        | 6000/50000 [00:00<00:00, 55942.33it/s, loss=0.0548]"
     ]
    },
    {
     "name": "stdout",
     "output_type": "stream",
     "text": [
      "\n",
      "Training set epoch 6: Avg. loss: 0.0001, Accuracy: 49192/50000 (98%)\n",
      "\n",
      "\n",
      "Validation set: Avg. loss: 0.0001, Accuracy: 9907/10000 (99%)\n",
      "\n"
     ]
    },
    {
     "name": "stderr",
     "output_type": "stream",
     "text": [
      "100%|██████████| 50000/50000 [00:00<00:00, 54138.58it/s, loss=0.0813]\n",
      " 12%|█▏        | 6000/50000 [00:00<00:00, 56566.14it/s, loss=0.059] "
     ]
    },
    {
     "name": "stdout",
     "output_type": "stream",
     "text": [
      "\n",
      "Training set epoch 7: Avg. loss: 0.0001, Accuracy: 49250/50000 (98%)\n",
      "\n",
      "\n",
      "Validation set: Avg. loss: 0.0001, Accuracy: 9919/10000 (99%)\n",
      "\n"
     ]
    },
    {
     "name": "stderr",
     "output_type": "stream",
     "text": [
      "100%|██████████| 50000/50000 [00:00<00:00, 54205.26it/s, loss=0.0455]\n",
      " 11%|█         | 5500/50000 [00:00<00:00, 54103.42it/s, loss=0.0527]"
     ]
    },
    {
     "name": "stdout",
     "output_type": "stream",
     "text": [
      "\n",
      "Training set epoch 8: Avg. loss: 0.0001, Accuracy: 49251/50000 (99%)\n",
      "\n",
      "\n",
      "Validation set: Avg. loss: 0.0001, Accuracy: 9912/10000 (99%)\n",
      "\n"
     ]
    },
    {
     "name": "stderr",
     "output_type": "stream",
     "text": [
      "100%|██████████| 50000/50000 [00:00<00:00, 53296.66it/s, loss=0.0572]\n",
      " 11%|█         | 5500/50000 [00:00<00:00, 53599.71it/s, loss=0.0575]"
     ]
    },
    {
     "name": "stdout",
     "output_type": "stream",
     "text": [
      "\n",
      "Training set epoch 9: Avg. loss: 0.0001, Accuracy: 49326/50000 (99%)\n",
      "\n",
      "\n",
      "Validation set: Avg. loss: 0.0000, Accuracy: 9920/10000 (99%)\n",
      "\n"
     ]
    },
    {
     "name": "stderr",
     "output_type": "stream",
     "text": [
      "100%|██████████| 50000/50000 [00:00<00:00, 53485.19it/s, loss=0.0384]\n",
      " 11%|█         | 5500/50000 [00:00<00:00, 53655.94it/s, loss=0.0453]"
     ]
    },
    {
     "name": "stdout",
     "output_type": "stream",
     "text": [
      "\n",
      "Training set epoch 10: Avg. loss: 0.0001, Accuracy: 49387/50000 (99%)\n",
      "\n",
      "\n",
      "Validation set: Avg. loss: 0.0000, Accuracy: 9927/10000 (99%)\n",
      "\n"
     ]
    },
    {
     "name": "stderr",
     "output_type": "stream",
     "text": [
      "100%|██████████| 50000/50000 [00:00<00:00, 52570.25it/s, loss=0.0508]\n",
      " 12%|█▏        | 6000/50000 [00:00<00:00, 55878.73it/s, loss=0.0588]"
     ]
    },
    {
     "name": "stdout",
     "output_type": "stream",
     "text": [
      "\n",
      "Training set epoch 11: Avg. loss: 0.0001, Accuracy: 49408/50000 (99%)\n",
      "\n",
      "\n",
      "Validation set: Avg. loss: 0.0000, Accuracy: 9933/10000 (99%)\n",
      "\n"
     ]
    },
    {
     "name": "stderr",
     "output_type": "stream",
     "text": [
      "100%|██████████| 50000/50000 [00:00<00:00, 53212.78it/s, loss=0.0472]\n",
      " 11%|█         | 5500/50000 [00:00<00:00, 54280.89it/s, loss=0.0604]"
     ]
    },
    {
     "name": "stdout",
     "output_type": "stream",
     "text": [
      "\n",
      "Training set epoch 12: Avg. loss: 0.0001, Accuracy: 49441/50000 (99%)\n",
      "\n",
      "\n",
      "Validation set: Avg. loss: 0.0000, Accuracy: 9927/10000 (99%)\n",
      "\n"
     ]
    },
    {
     "name": "stderr",
     "output_type": "stream",
     "text": [
      "100%|██████████| 50000/50000 [00:00<00:00, 52983.90it/s, loss=0.0444]\n",
      " 11%|█         | 5500/50000 [00:00<00:00, 53718.03it/s, loss=0.0264]"
     ]
    },
    {
     "name": "stdout",
     "output_type": "stream",
     "text": [
      "\n",
      "Training set epoch 13: Avg. loss: 0.0001, Accuracy: 49490/50000 (99%)\n",
      "\n",
      "\n",
      "Validation set: Avg. loss: 0.0000, Accuracy: 9934/10000 (99%)\n",
      "\n"
     ]
    },
    {
     "name": "stderr",
     "output_type": "stream",
     "text": [
      "100%|██████████| 50000/50000 [00:00<00:00, 52978.56it/s, loss=0.0326]\n",
      " 11%|█         | 5500/50000 [00:00<00:00, 53612.04it/s, loss=0.0303]"
     ]
    },
    {
     "name": "stdout",
     "output_type": "stream",
     "text": [
      "\n",
      "Training set epoch 14: Avg. loss: 0.0001, Accuracy: 49486/50000 (99%)\n",
      "\n",
      "\n",
      "Validation set: Avg. loss: 0.0000, Accuracy: 9928/10000 (99%)\n",
      "\n"
     ]
    },
    {
     "name": "stderr",
     "output_type": "stream",
     "text": [
      "100%|██████████| 50000/50000 [00:00<00:00, 52814.19it/s, loss=0.0325]\n",
      " 11%|█         | 5500/50000 [00:00<00:00, 53210.51it/s, loss=0.0242]"
     ]
    },
    {
     "name": "stdout",
     "output_type": "stream",
     "text": [
      "\n",
      "Training set epoch 15: Avg. loss: 0.0001, Accuracy: 49492/50000 (99%)\n",
      "\n",
      "\n",
      "Validation set: Avg. loss: 0.0000, Accuracy: 9939/10000 (99%)\n",
      "\n"
     ]
    },
    {
     "name": "stderr",
     "output_type": "stream",
     "text": [
      "100%|██████████| 50000/50000 [00:00<00:00, 52633.31it/s, loss=0.0494]\n",
      " 11%|█         | 5500/50000 [00:00<00:00, 53017.78it/s, loss=0.0245]"
     ]
    },
    {
     "name": "stdout",
     "output_type": "stream",
     "text": [
      "\n",
      "Training set epoch 16: Avg. loss: 0.0001, Accuracy: 49541/50000 (99%)\n",
      "\n",
      "\n",
      "Validation set: Avg. loss: 0.0000, Accuracy: 9932/10000 (99%)\n",
      "\n"
     ]
    },
    {
     "name": "stderr",
     "output_type": "stream",
     "text": [
      "100%|██████████| 50000/50000 [00:00<00:00, 53523.63it/s, loss=0.0507]\n",
      " 12%|█▏        | 6000/50000 [00:00<00:00, 55537.27it/s, loss=0.0241]"
     ]
    },
    {
     "name": "stdout",
     "output_type": "stream",
     "text": [
      "\n",
      "Training set epoch 17: Avg. loss: 0.0001, Accuracy: 49555/50000 (99%)\n",
      "\n",
      "\n",
      "Validation set: Avg. loss: 0.0000, Accuracy: 9928/10000 (99%)\n",
      "\n"
     ]
    },
    {
     "name": "stderr",
     "output_type": "stream",
     "text": [
      "100%|██████████| 50000/50000 [00:00<00:00, 54360.27it/s, loss=0.0373]\n",
      " 12%|█▏        | 6000/50000 [00:00<00:00, 54857.74it/s, loss=0.0418]"
     ]
    },
    {
     "name": "stdout",
     "output_type": "stream",
     "text": [
      "\n",
      "Training set epoch 18: Avg. loss: 0.0001, Accuracy: 49593/50000 (99%)\n",
      "\n",
      "\n",
      "Validation set: Avg. loss: 0.0000, Accuracy: 9934/10000 (99%)\n",
      "\n"
     ]
    },
    {
     "name": "stderr",
     "output_type": "stream",
     "text": [
      "100%|██████████| 50000/50000 [00:00<00:00, 53159.45it/s, loss=0.0423]\n"
     ]
    },
    {
     "name": "stdout",
     "output_type": "stream",
     "text": [
      "\n",
      "Training set epoch 19: Avg. loss: 0.0001, Accuracy: 49568/50000 (99%)\n",
      "\n",
      "\n",
      "Validation set: Avg. loss: 0.0000, Accuracy: 9936/10000 (99%)\n",
      "\n",
      "\n",
      "Test set: Avg. loss: 0.0001, Accuracy: 9918/10000 (99%)\n",
      "\n"
     ]
    }
   ],
   "source": [
    "# Some parameters>\n",
    "numtrain= 50000\n",
    "model_name=\"N0_full\"\n",
    "\n",
    "# Run epochs\n",
    "for i in range(num_epochs):\n",
    "    run_epoch(N0,i,train,batch_size, num=numtrain, ttype=\"train\")\n",
    "    # Test on validation set.\n",
    "    net_test(N0,val,batch_size)\n",
    "# Test on test set.\n",
    "net_test(N0,test,batch_size,ttype='test')\n",
    "# Save model\n",
    "torch.save(N0.state_dict(), datadir+model_name)"
   ]
  },
  {
   "cell_type": "code",
   "execution_count": 0,
   "metadata": {
    "colab": {
     "base_uri": "https://localhost:8080/",
     "height": 34
    },
    "colab_type": "code",
    "executionInfo": {
     "elapsed": 16723,
     "status": "ok",
     "timestamp": 1591252878032,
     "user": {
      "displayName": "Adam Zhang",
      "photoUrl": "",
      "userId": "15014079408385344051"
     },
     "user_tz": 300
    },
    "id": "2WOkBlVy1Z8b",
    "outputId": "280bb61e-2fcb-4d16-d4e3-97b820a52595"
   },
   "outputs": [
    {
     "name": "stdout",
     "output_type": "stream",
     "text": [
      "(70000, 1, 28, 28)\n"
     ]
    }
   ],
   "source": [
    "train_tr, val_tr,test_tr = get_data(data_set='trans')"
   ]
  },
  {
   "cell_type": "code",
   "execution_count": 0,
   "metadata": {
    "colab": {
     "base_uri": "https://localhost:8080/",
     "height": 68
    },
    "colab_type": "code",
    "executionInfo": {
     "elapsed": 15189,
     "status": "ok",
     "timestamp": 1591252878034,
     "user": {
      "displayName": "Adam Zhang",
      "photoUrl": "",
      "userId": "15014079408385344051"
     },
     "user_tz": 300
    },
    "id": "yLm_l6XO3Zyq",
    "outputId": "9d12f3c9-10ad-43b3-a63b-77183123743f"
   },
   "outputs": [
    {
     "name": "stdout",
     "output_type": "stream",
     "text": [
      "\n",
      "Test set: Avg. loss: 0.0062, Accuracy: 5379/10000 (54%)\n",
      "\n"
     ]
    }
   ],
   "source": [
    "N0_full = N0_Net(p = dropout_p, minimizer=minimizer)\n",
    "N0_full.to(device)\n",
    "model_name = \"N0_full\"\n",
    "#load saved model\n",
    "state_dict = torch.load(datadir+model_name, map_location = device)\n",
    "N0_full.load_state_dict(state_dict)\n",
    "net_test(N0_full,test_tr,batch_size,ttype='test')"
   ]
  },
  {
   "cell_type": "code",
   "execution_count": 0,
   "metadata": {
    "colab": {
     "base_uri": "https://localhost:8080/",
     "height": 68
    },
    "colab_type": "code",
    "executionInfo": {
     "elapsed": 13144,
     "status": "ok",
     "timestamp": 1591252878035,
     "user": {
      "displayName": "Adam Zhang",
      "photoUrl": "",
      "userId": "15014079408385344051"
     },
     "user_tz": 300
    },
    "id": "wHr1sRGF4j3b",
    "outputId": "1686d00b-7606-4589-c211-783940c75976"
   },
   "outputs": [
    {
     "name": "stdout",
     "output_type": "stream",
     "text": [
      "\n",
      "Test set: Avg. loss: 0.0078, Accuracy: 3735/10000 (37%)\n",
      "\n"
     ]
    }
   ],
   "source": [
    "N2_full = N2_Net(p = dropout_p, minimizer=minimizer)\n",
    "N2_full.to(device)\n",
    "model_name = \"N2_full\"\n",
    "#load saved model\n",
    "state_dict = torch.load(datadir+model_name, map_location = device)\n",
    "N2_full.load_state_dict(state_dict)\n",
    "net_test(N2_full,test_tr,batch_size,ttype='test')"
   ]
  },
  {
   "cell_type": "code",
   "execution_count": 0,
   "metadata": {
    "colab": {
     "base_uri": "https://localhost:8080/",
     "height": 68
    },
    "colab_type": "code",
    "executionInfo": {
     "elapsed": 1565,
     "status": "ok",
     "timestamp": 1591252879602,
     "user": {
      "displayName": "Adam Zhang",
      "photoUrl": "",
      "userId": "15014079408385344051"
     },
     "user_tz": 300
    },
    "id": "zsNfNvh04vfB",
    "outputId": "832288b8-fffd-4e36-e73c-dffc06bb0c5a"
   },
   "outputs": [
    {
     "name": "stdout",
     "output_type": "stream",
     "text": [
      "\n",
      "Test set: Avg. loss: 0.0058, Accuracy: 3262/10000 (33%)\n",
      "\n"
     ]
    }
   ],
   "source": [
    "N2rand_full = N2_Net(p = dropout_p, minimizer=minimizer)\n",
    "N2rand_full.to(device)\n",
    "model_name = \"N2rand_full\"\n",
    "#load saved model\n",
    "state_dict = torch.load(datadir+model_name, map_location = device)\n",
    "N2rand_full.load_state_dict(state_dict)\n",
    "net_test(N2rand_full,test_tr,batch_size,ttype='test')"
   ]
  },
  {
   "cell_type": "markdown",
   "metadata": {
    "colab_type": "text",
    "id": "cylY3Dbj5dbm"
   },
   "source": [
    "N2 and N2rand don't perform any better than N0. In fact, they perform worse, although some fine-tuning of model parameters such as temperature used in softmax may improve it a bit. \n",
    "\n",
    "While N2 has advantage over N0 in the sense that it requires smaller number of training data to yield a decent performance, when testing on transformed data, N2 doesn't perform well because it only optimizes for parameters in fc10 based on the labels. The other parameters in the convolutional layers are trained based on simplified SimCLR framework, which only included shifting and scaling of handwritte letters, a set of data that is not only different from the digits data, but also more limited in variety because it doesn't include rotations that the transformed MNIST data include. \n",
    "\n",
    "We can see that when we compare N0 and N2 models that are trained on small training set, N2 performs better than N0 on the transformed MNIST data. "
   ]
  },
  {
   "cell_type": "code",
   "execution_count": 0,
   "metadata": {
    "colab": {
     "base_uri": "https://localhost:8080/",
     "height": 68
    },
    "colab_type": "code",
    "executionInfo": {
     "elapsed": 2022,
     "status": "ok",
     "timestamp": 1591252909371,
     "user": {
      "displayName": "Adam Zhang",
      "photoUrl": "",
      "userId": "15014079408385344051"
     },
     "user_tz": 300
    },
    "id": "NuMD2Ihe7tnI",
    "outputId": "80048dd4-8ffa-4d10-b42b-e973d79ba008"
   },
   "outputs": [
    {
     "name": "stdout",
     "output_type": "stream",
     "text": [
      "\n",
      "Test set: Avg. loss: 0.0077, Accuracy: 2961/10000 (30%)\n",
      "\n"
     ]
    }
   ],
   "source": [
    "N0_small = N0_Net(p = dropout_p, minimizer=minimizer)\n",
    "N0_small.to(device)\n",
    "model_name = \"N0_small\"\n",
    "#load saved model\n",
    "state_dict = torch.load(datadir+model_name, map_location = device)\n",
    "N0_small.load_state_dict(state_dict)\n",
    "net_test(N0_small,test_tr,batch_size,ttype='test')"
   ]
  },
  {
   "cell_type": "code",
   "execution_count": 0,
   "metadata": {
    "colab": {
     "base_uri": "https://localhost:8080/",
     "height": 68
    },
    "colab_type": "code",
    "executionInfo": {
     "elapsed": 1499,
     "status": "ok",
     "timestamp": 1591252914630,
     "user": {
      "displayName": "Adam Zhang",
      "photoUrl": "",
      "userId": "15014079408385344051"
     },
     "user_tz": 300
    },
    "id": "u93Wxg6f7uII",
    "outputId": "37eee8ae-445d-4295-bd8d-c20f4b951b96"
   },
   "outputs": [
    {
     "name": "stdout",
     "output_type": "stream",
     "text": [
      "\n",
      "Test set: Avg. loss: 0.0067, Accuracy: 3582/10000 (36%)\n",
      "\n"
     ]
    }
   ],
   "source": [
    "N2_small = N2_Net(p = dropout_p, minimizer=minimizer)\n",
    "N2_small.to(device)\n",
    "model_name = \"N2_small\"\n",
    "#load saved model\n",
    "state_dict = torch.load(datadir+model_name, map_location = device)\n",
    "N2_small.load_state_dict(state_dict)\n",
    "net_test(N2_small,test_tr,batch_size,ttype='test')"
   ]
  },
  {
   "cell_type": "markdown",
   "metadata": {
    "colab_type": "text",
    "id": "_3nS_1YoaEKT"
   },
   "source": [
    "# Problem 7"
   ]
  },
  {
   "cell_type": "markdown",
   "metadata": {
    "colab_type": "text",
    "id": "QyRUiJ4xaFM0"
   },
   "source": [
    "## (a): Use the alternative loss function proposed in problem 2"
   ]
  },
  {
   "cell_type": "markdown",
   "metadata": {
    "colab_type": "text",
    "id": "UkXdBGHc3GAB"
   },
   "source": [
    "The alternative I proposed in problem 2 is to use negative euclidean distance as similarity measure instead of cosine similarity. "
   ]
  },
  {
   "cell_type": "code",
   "execution_count": 0,
   "metadata": {
    "colab": {},
    "colab_type": "code",
    "id": "kGCoZUbcaau2"
   },
   "outputs": [],
   "source": [
    "class NT_Xent_euc(nn.Module):\n",
    "  def __init__(self):\n",
    "    super(NT_Xent_euc,self).__init__()\n",
    "  \n",
    "  def forward(self,o,o_tilde):\n",
    "    # The inputs o and o_tilde are the representations of images and augmented images\n",
    "    # passed through encoder \n",
    "    \n",
    "    # normalize feature vectors\n",
    "    o = F.normalize(o,dim=1)\n",
    "    o_tilde = F.normalize(o_tilde,dim=1)\n",
    "\n",
    "    # Compute similarity matrix\n",
    "    uv = torch.cat([o,o_tilde],dim=0)\n",
    "    uv_norm = (uv**2).sum(1).view(-1,1)\n",
    "    uv_norm_prime = uv_norm.view(1,-1)\n",
    "    sim_mat = -1 * (uv_norm + uv_norm_prime - 2.0*torch.mm(uv,torch.transpose(uv,0,1)))\n",
    "\n",
    "    # Compute softmax \n",
    "    sim_sums = torch.sum(sim_mat,dim=1)\n",
    "    self_sim = torch.diag(sim_mat)\n",
    "    denoms = sim_sums - self_sim\n",
    "    num = -1*(torch.pow(o-o_tilde,2).sum(1))\n",
    "    nums = torch.cat([num,num],dim=0)\n",
    "    softmaxes = torch.div(nums,denoms)\n",
    "\n",
    "    # Compute negative loss \n",
    "    neglog_losses = -torch.log(softmaxes)\n",
    "    loss = torch.mean(neglog_losses)\n",
    "    return loss"
   ]
  },
  {
   "cell_type": "code",
   "execution_count": 0,
   "metadata": {
    "colab": {},
    "colab_type": "code",
    "id": "YryRBqTVXXEL"
   },
   "outputs": [],
   "source": [
    "class N1_Net_Euc(nn.Module):\n",
    "    def __init__(self,p=0.5,minimizer='Adam'):\n",
    "        super(N1_Net_Euc, self).__init__()\n",
    "        # 32 output features using 5x5 kernel applied to input image\n",
    "        self.conv1 = nn.Conv2d(1, 32, kernel_size=5)\n",
    "        # 64 output features using 5x5 kernel applied to 32 features of previous layer.\n",
    "        self.conv2 = nn.Conv2d(32, 64, kernel_size=5)\n",
    "        # Dropout - zero out some output features so weights aren't updated.\n",
    "        self.conv2_drop = nn.Dropout2d(p)\n",
    "        # 64 x 4 x 4 = 1024 units total in final spartial layer fully connected to 64 unit later\n",
    "        self.fc64 = nn.Linear(1024, 64)\n",
    "        if minimizer == 'Adam':\n",
    "            self.optimizer = torch.optim.Adam(self.parameters(), lr = step_size)\n",
    "        else:\n",
    "            self.optimizer = torch.optim.SGD(self.parameters(), lr = step_size, momentum=0.9)\n",
    "        self.first=True\n",
    "        # negative log-likelihood loss \n",
    "        self.criterion=nn.CrossEntropyLoss()\n",
    "            \n",
    "    def forward(self, x):\n",
    "\n",
    "        # Apply first conv then maxpool by factor of 2 then non-linearity relu\n",
    "        x = F.relu(F.max_pool2d(self.conv1(x), 2))\n",
    "        # Apply second conv then drop, then maxpool by factor of 2 then non-linearity relu\n",
    "        x = F.relu(F.max_pool2d(self.conv2_drop(self.conv2(x)), 2))\n",
    "        # Reshape 64 x 4 x 4 to 1024 units\n",
    "        x = x.view(-1, 1024)\n",
    "        # Apply fully connected layer with non-linearity relu, final 64 units \n",
    "        x = self.fc64(x)\n",
    "        return x\n",
    "    \n",
    "    def get_acc_and_loss(self, data):\n",
    "        # Apply network to batch input\n",
    "        o = self.forward(data)\n",
    "        affined = affine(data)\n",
    "        o_tilde = self.forward(affined)\n",
    "        # Comput loss between logit output and targ (correct class labels)\n",
    "        loss = NT_Xent_euc()(o,o_tilde)\n",
    "        # Also compute correct classification rate        \n",
    "        return loss\n",
    "        \n",
    "    def run_grad(self,data):\n",
    "\n",
    "        # Compute loss and accuracy\n",
    "        loss =self.get_acc_and_loss(data)\n",
    "        # Zero out gradients\n",
    "        self.optimizer.zero_grad()\n",
    "        # Compute gradients\n",
    "        loss.backward()\n",
    "        # Update parameters based on gradients\n",
    "        self.optimizer.step()\n",
    "        \n",
    "        return loss"
   ]
  },
  {
   "cell_type": "code",
   "execution_count": 0,
   "metadata": {
    "colab": {
     "base_uri": "https://localhost:8080/",
     "height": 1000
    },
    "colab_type": "code",
    "executionInfo": {
     "elapsed": 94436,
     "status": "ok",
     "timestamp": 1591253022938,
     "user": {
      "displayName": "Adam Zhang",
      "photoUrl": "",
      "userId": "15014079408385344051"
     },
     "user_tz": 300
    },
    "id": "voDPpIy5XrM-",
    "outputId": "32e55976-32b1-4ef1-b013-fb3ef79d8c4c"
   },
   "outputs": [
    {
     "name": "stderr",
     "output_type": "stream",
     "text": [
      "100%|██████████| 124800/124800 [00:04<00:00, 28033.36it/s, loss=5.75]\n",
      "  0%|          | 500/124800 [00:00<00:08, 14188.35it/s, loss=6.28]"
     ]
    },
    {
     "name": "stdout",
     "output_type": "stream",
     "text": [
      "\n",
      "Training set epoch 0: Avg. loss: 0.0063\n"
     ]
    },
    {
     "name": "stderr",
     "output_type": "stream",
     "text": [
      "100%|██████████| 124800/124800 [00:04<00:00, 28420.68it/s, loss=5.77]\n",
      "  0%|          | 500/124800 [00:00<00:08, 15045.10it/s, loss=6.26]"
     ]
    },
    {
     "name": "stdout",
     "output_type": "stream",
     "text": [
      "\n",
      "Training set epoch 1: Avg. loss: 0.0063\n"
     ]
    },
    {
     "name": "stderr",
     "output_type": "stream",
     "text": [
      "100%|██████████| 124800/124800 [00:04<00:00, 28191.89it/s, loss=5.74]\n",
      "  0%|          | 500/124800 [00:00<00:08, 14770.13it/s, loss=6.25]"
     ]
    },
    {
     "name": "stdout",
     "output_type": "stream",
     "text": [
      "\n",
      "Training set epoch 2: Avg. loss: 0.0063\n"
     ]
    },
    {
     "name": "stderr",
     "output_type": "stream",
     "text": [
      "100%|██████████| 124800/124800 [00:04<00:00, 28148.64it/s, loss=5.75]\n",
      "  0%|          | 500/124800 [00:00<00:08, 14631.02it/s, loss=6.26]"
     ]
    },
    {
     "name": "stdout",
     "output_type": "stream",
     "text": [
      "\n",
      "Training set epoch 3: Avg. loss: 0.0063\n"
     ]
    },
    {
     "name": "stderr",
     "output_type": "stream",
     "text": [
      "100%|██████████| 124800/124800 [00:04<00:00, 28275.14it/s, loss=5.77]\n",
      "  0%|          | 500/124800 [00:00<00:08, 14762.33it/s, loss=6.25]"
     ]
    },
    {
     "name": "stdout",
     "output_type": "stream",
     "text": [
      "\n",
      "Training set epoch 4: Avg. loss: 0.0063\n"
     ]
    },
    {
     "name": "stderr",
     "output_type": "stream",
     "text": [
      "100%|██████████| 124800/124800 [00:04<00:00, 27934.91it/s, loss=5.74]\n",
      "  0%|          | 500/124800 [00:00<00:08, 14976.45it/s, loss=6.27]"
     ]
    },
    {
     "name": "stdout",
     "output_type": "stream",
     "text": [
      "\n",
      "Training set epoch 5: Avg. loss: 0.0063\n"
     ]
    },
    {
     "name": "stderr",
     "output_type": "stream",
     "text": [
      "100%|██████████| 124800/124800 [00:04<00:00, 28147.30it/s, loss=5.77]\n",
      "  0%|          | 500/124800 [00:00<00:08, 14924.97it/s, loss=6.27]"
     ]
    },
    {
     "name": "stdout",
     "output_type": "stream",
     "text": [
      "\n",
      "Training set epoch 6: Avg. loss: 0.0063\n"
     ]
    },
    {
     "name": "stderr",
     "output_type": "stream",
     "text": [
      "100%|██████████| 124800/124800 [00:04<00:00, 28181.59it/s, loss=5.74]\n",
      "  0%|          | 500/124800 [00:00<00:08, 14489.70it/s, loss=6.24]"
     ]
    },
    {
     "name": "stdout",
     "output_type": "stream",
     "text": [
      "\n",
      "Training set epoch 7: Avg. loss: 0.0063\n"
     ]
    },
    {
     "name": "stderr",
     "output_type": "stream",
     "text": [
      "100%|██████████| 124800/124800 [00:04<00:00, 28298.21it/s, loss=5.73]\n",
      "  0%|          | 500/124800 [00:00<00:07, 15850.29it/s, loss=6.24]"
     ]
    },
    {
     "name": "stdout",
     "output_type": "stream",
     "text": [
      "\n",
      "Training set epoch 8: Avg. loss: 0.0063\n"
     ]
    },
    {
     "name": "stderr",
     "output_type": "stream",
     "text": [
      "100%|██████████| 124800/124800 [00:04<00:00, 28549.75it/s, loss=5.72]\n",
      "  0%|          | 500/124800 [00:00<00:08, 15301.98it/s, loss=6.25]"
     ]
    },
    {
     "name": "stdout",
     "output_type": "stream",
     "text": [
      "\n",
      "Training set epoch 9: Avg. loss: 0.0063\n"
     ]
    },
    {
     "name": "stderr",
     "output_type": "stream",
     "text": [
      "100%|██████████| 124800/124800 [00:04<00:00, 28527.45it/s, loss=5.73]\n",
      "  0%|          | 0/124800 [00:00<?, ?it/s, loss=6.24]"
     ]
    },
    {
     "name": "stdout",
     "output_type": "stream",
     "text": [
      "\n",
      "Training set epoch 10: Avg. loss: 0.0063\n"
     ]
    },
    {
     "name": "stderr",
     "output_type": "stream",
     "text": [
      "100%|██████████| 124800/124800 [00:04<00:00, 28495.48it/s, loss=5.74]\n",
      "  0%|          | 500/124800 [00:00<00:08, 15103.51it/s, loss=6.25]"
     ]
    },
    {
     "name": "stdout",
     "output_type": "stream",
     "text": [
      "\n",
      "Training set epoch 11: Avg. loss: 0.0063\n"
     ]
    },
    {
     "name": "stderr",
     "output_type": "stream",
     "text": [
      "100%|██████████| 124800/124800 [00:04<00:00, 28655.99it/s, loss=5.72]\n",
      "  0%|          | 500/124800 [00:00<00:08, 15531.70it/s, loss=6.23]"
     ]
    },
    {
     "name": "stdout",
     "output_type": "stream",
     "text": [
      "\n",
      "Training set epoch 12: Avg. loss: 0.0063\n"
     ]
    },
    {
     "name": "stderr",
     "output_type": "stream",
     "text": [
      "100%|██████████| 124800/124800 [00:04<00:00, 28718.04it/s, loss=5.72]\n",
      "  0%|          | 500/124800 [00:00<00:07, 15854.84it/s, loss=6.23]"
     ]
    },
    {
     "name": "stdout",
     "output_type": "stream",
     "text": [
      "\n",
      "Training set epoch 13: Avg. loss: 0.0063\n"
     ]
    },
    {
     "name": "stderr",
     "output_type": "stream",
     "text": [
      "100%|██████████| 124800/124800 [00:04<00:00, 28787.45it/s, loss=5.73]\n",
      "  0%|          | 500/124800 [00:00<00:07, 15637.55it/s, loss=6.25]"
     ]
    },
    {
     "name": "stdout",
     "output_type": "stream",
     "text": [
      "\n",
      "Training set epoch 14: Avg. loss: 0.0062\n"
     ]
    },
    {
     "name": "stderr",
     "output_type": "stream",
     "text": [
      "100%|██████████| 124800/124800 [00:04<00:00, 28676.35it/s, loss=5.71]\n",
      "  0%|          | 500/124800 [00:00<00:08, 15346.21it/s, loss=6.25]"
     ]
    },
    {
     "name": "stdout",
     "output_type": "stream",
     "text": [
      "\n",
      "Training set epoch 15: Avg. loss: 0.0062\n"
     ]
    },
    {
     "name": "stderr",
     "output_type": "stream",
     "text": [
      "100%|██████████| 124800/124800 [00:04<00:00, 28518.61it/s, loss=5.76]\n",
      "  0%|          | 500/124800 [00:00<00:07, 15799.18it/s, loss=6.23]"
     ]
    },
    {
     "name": "stdout",
     "output_type": "stream",
     "text": [
      "\n",
      "Training set epoch 16: Avg. loss: 0.0062\n"
     ]
    },
    {
     "name": "stderr",
     "output_type": "stream",
     "text": [
      "100%|██████████| 124800/124800 [00:04<00:00, 28697.09it/s, loss=5.71]\n",
      "  0%|          | 500/124800 [00:00<00:07, 15540.21it/s, loss=6.23]"
     ]
    },
    {
     "name": "stdout",
     "output_type": "stream",
     "text": [
      "\n",
      "Training set epoch 17: Avg. loss: 0.0062\n"
     ]
    },
    {
     "name": "stderr",
     "output_type": "stream",
     "text": [
      "100%|██████████| 124800/124800 [00:04<00:00, 28573.79it/s, loss=5.71]\n",
      "  0%|          | 500/124800 [00:00<00:08, 14975.59it/s, loss=6.23]"
     ]
    },
    {
     "name": "stdout",
     "output_type": "stream",
     "text": [
      "\n",
      "Training set epoch 18: Avg. loss: 0.0062\n"
     ]
    },
    {
     "name": "stderr",
     "output_type": "stream",
     "text": [
      "100%|██████████| 124800/124800 [00:04<00:00, 28491.73it/s, loss=5.73]"
     ]
    },
    {
     "name": "stdout",
     "output_type": "stream",
     "text": [
      "\n",
      "Training set epoch 19: Avg. loss: 0.0062\n"
     ]
    },
    {
     "name": "stderr",
     "output_type": "stream",
     "text": [
      "\n"
     ]
    }
   ],
   "source": [
    "numtrain=124800\n",
    "data_set=\"letters\"\n",
    "model_name=\"N1_Euc\"\n",
    "train = get_data(data_set=data_set)\n",
    "# Initialize the model\n",
    "N1_Euc = N1_Net_Euc(p = dropout_p, minimizer=minimizer)\n",
    "N1_Euc.to(device)\n",
    "# Run epochs\n",
    "train_err = []\n",
    "for i in range(num_epochs):\n",
    "    train_err.append(run_epoch_simCLR(N1_Euc,i,train,batch_size, num=numtrain, ttype=\"train\"))\n",
    "# Save model\n",
    "torch.save(N1_Euc.state_dict(), datadir+model_name)"
   ]
  },
  {
   "cell_type": "code",
   "execution_count": 0,
   "metadata": {
    "colab": {
     "base_uri": "https://localhost:8080/",
     "height": 119
    },
    "colab_type": "code",
    "executionInfo": {
     "elapsed": 89862,
     "status": "ok",
     "timestamp": 1591253022940,
     "user": {
      "displayName": "Adam Zhang",
      "photoUrl": "",
      "userId": "15014079408385344051"
     },
     "user_tz": 300
    },
    "id": "SeJKafaey4zE",
    "outputId": "aee0ffb3-0b13-4f64-defc-0782e289ad74"
   },
   "outputs": [
    {
     "name": "stdout",
     "output_type": "stream",
     "text": [
      "conv1.weight torch.Size([32, 1, 5, 5])\n",
      "conv1.bias torch.Size([32])\n",
      "conv2.weight torch.Size([64, 32, 5, 5])\n",
      "conv2.bias torch.Size([64])\n",
      "fc10.weight torch.Size([10, 1024])\n",
      "fc10.bias torch.Size([10])\n"
     ]
    }
   ],
   "source": [
    "model_name = \"N1_Euc\"\n",
    "N1_Euc = N1_Net_Euc(p = dropout_p, minimizer=minimizer)\n",
    "N1_Euc.to(device)\n",
    "state_dict = torch.load(datadir+model_name, map_location = device)\n",
    "N1_Euc.load_state_dict(state_dict)\n",
    "N2_Euc = N2_Net(p=dropout_p,minimizer = minimizer)\n",
    "N2_Euc.to(device)\n",
    "# Get parameter sets of both networks\n",
    "params = N1_Euc.named_parameters()\n",
    "params2 = N2_Euc.named_parameters()\n",
    "# Make a dictionary of the new one\n",
    "dict_params2 = dict(params2)\n",
    "# Loop over parameters of N1\n",
    "for name, param in params:\n",
    "  if name in dict_params2:\n",
    "    dict_params2[name].data.copy_(param.data)\n",
    "N2_Euc.load_state_dict(dict_params2)\n",
    "PP = []\n",
    "for name, param in N2_Euc.named_parameters():\n",
    "  print(name,param.shape)\n",
    "  if 'fc10' in name:\n",
    "    PP.append(param)\n",
    "N2_Euc.optimizer = torch.optim.Adam(PP,lr=step_size)"
   ]
  },
  {
   "cell_type": "code",
   "execution_count": 35,
   "metadata": {
    "colab": {
     "base_uri": "https://localhost:8080/",
     "height": 1000
    },
    "colab_type": "code",
    "executionInfo": {
     "elapsed": 2075,
     "status": "ok",
     "timestamp": 1591253116619,
     "user": {
      "displayName": "Adam Zhang",
      "photoUrl": "",
      "userId": "15014079408385344051"
     },
     "user_tz": 300
    },
    "id": "6bBaPpMy0U06",
    "outputId": "d0d25681-5c7a-49a1-950e-5285ca704c70"
   },
   "outputs": [
    {
     "name": "stderr",
     "output_type": "stream",
     "text": [
      "  6%|▌         | 3000/50000 [00:00<00:01, 36641.18it/s, loss=2.24]"
     ]
    },
    {
     "name": "stdout",
     "output_type": "stream",
     "text": [
      "(70000, 784)\n"
     ]
    },
    {
     "name": "stderr",
     "output_type": "stream",
     "text": [
      "100%|██████████| 50000/50000 [00:00<00:00, 53900.46it/s, loss=1.53]\n",
      " 13%|█▎        | 6500/50000 [00:00<00:00, 60108.73it/s, loss=1.4] "
     ]
    },
    {
     "name": "stdout",
     "output_type": "stream",
     "text": [
      "\n",
      "Training set epoch 0: Avg. loss: 0.0037, Accuracy: 34171/50000 (68%)\n",
      "\n",
      "\n",
      "Validation set: Avg. loss: 0.0029, Accuracy: 8476/10000 (85%)\n",
      "\n"
     ]
    },
    {
     "name": "stderr",
     "output_type": "stream",
     "text": [
      "100%|██████████| 50000/50000 [00:00<00:00, 57644.65it/s, loss=1.16]\n",
      " 12%|█▏        | 6000/50000 [00:00<00:00, 56684.51it/s, loss=1.07]"
     ]
    },
    {
     "name": "stdout",
     "output_type": "stream",
     "text": [
      "\n",
      "Training set epoch 1: Avg. loss: 0.0025, Accuracy: 41356/50000 (83%)\n",
      "\n",
      "\n",
      "Validation set: Avg. loss: 0.0021, Accuracy: 8880/10000 (89%)\n",
      "\n"
     ]
    },
    {
     "name": "stderr",
     "output_type": "stream",
     "text": [
      "100%|██████████| 50000/50000 [00:00<00:00, 55855.34it/s, loss=0.97]\n",
      " 12%|█▏        | 6000/50000 [00:00<00:00, 56316.14it/s, loss=0.882]"
     ]
    },
    {
     "name": "stdout",
     "output_type": "stream",
     "text": [
      "\n",
      "Training set epoch 2: Avg. loss: 0.0020, Accuracy: 42708/50000 (85%)\n",
      "\n",
      "\n",
      "Validation set: Avg. loss: 0.0016, Accuracy: 9027/10000 (90%)\n",
      "\n"
     ]
    },
    {
     "name": "stderr",
     "output_type": "stream",
     "text": [
      "100%|██████████| 50000/50000 [00:00<00:00, 57783.05it/s, loss=0.838]\n",
      " 13%|█▎        | 6500/50000 [00:00<00:00, 60908.83it/s, loss=0.735]"
     ]
    },
    {
     "name": "stdout",
     "output_type": "stream",
     "text": [
      "\n",
      "Training set epoch 3: Avg. loss: 0.0016, Accuracy: 43268/50000 (87%)\n",
      "\n",
      "\n",
      "Validation set: Avg. loss: 0.0014, Accuracy: 9124/10000 (91%)\n",
      "\n"
     ]
    },
    {
     "name": "stderr",
     "output_type": "stream",
     "text": [
      "100%|██████████| 50000/50000 [00:00<00:00, 58807.04it/s, loss=0.751]\n",
      " 12%|█▏        | 6000/50000 [00:00<00:00, 57121.96it/s, loss=0.695]"
     ]
    },
    {
     "name": "stdout",
     "output_type": "stream",
     "text": [
      "\n",
      "Training set epoch 4: Avg. loss: 0.0014, Accuracy: 43671/50000 (87%)\n",
      "\n",
      "\n",
      "Validation set: Avg. loss: 0.0012, Accuracy: 9204/10000 (92%)\n",
      "\n"
     ]
    },
    {
     "name": "stderr",
     "output_type": "stream",
     "text": [
      "100%|██████████| 50000/50000 [00:00<00:00, 57465.18it/s, loss=0.698]\n",
      " 13%|█▎        | 6500/50000 [00:00<00:00, 57142.98it/s, loss=0.583]"
     ]
    },
    {
     "name": "stdout",
     "output_type": "stream",
     "text": [
      "\n",
      "Training set epoch 5: Avg. loss: 0.0013, Accuracy: 44096/50000 (88%)\n",
      "\n",
      "\n",
      "Validation set: Avg. loss: 0.0010, Accuracy: 9240/10000 (92%)\n",
      "\n"
     ]
    },
    {
     "name": "stderr",
     "output_type": "stream",
     "text": [
      "100%|██████████| 50000/50000 [00:00<00:00, 59009.13it/s, loss=0.644]\n",
      " 12%|█▏        | 6000/50000 [00:00<00:00, 57632.67it/s, loss=0.55] "
     ]
    },
    {
     "name": "stdout",
     "output_type": "stream",
     "text": [
      "\n",
      "Training set epoch 6: Avg. loss: 0.0012, Accuracy: 44309/50000 (89%)\n",
      "\n",
      "\n",
      "Validation set: Avg. loss: 0.0009, Accuracy: 9281/10000 (93%)\n",
      "\n"
     ]
    },
    {
     "name": "stderr",
     "output_type": "stream",
     "text": [
      "100%|██████████| 50000/50000 [00:00<00:00, 58025.54it/s, loss=0.566]\n",
      " 12%|█▏        | 6000/50000 [00:00<00:00, 54401.21it/s, loss=0.506]"
     ]
    },
    {
     "name": "stdout",
     "output_type": "stream",
     "text": [
      "\n",
      "Training set epoch 7: Avg. loss: 0.0011, Accuracy: 44611/50000 (89%)\n",
      "\n",
      "\n",
      "Validation set: Avg. loss: 0.0008, Accuracy: 9318/10000 (93%)\n",
      "\n"
     ]
    },
    {
     "name": "stderr",
     "output_type": "stream",
     "text": [
      "100%|██████████| 50000/50000 [00:00<00:00, 56358.27it/s, loss=0.591]\n",
      " 12%|█▏        | 6000/50000 [00:00<00:00, 55397.04it/s, loss=0.48] "
     ]
    },
    {
     "name": "stdout",
     "output_type": "stream",
     "text": [
      "\n",
      "Training set epoch 8: Avg. loss: 0.0010, Accuracy: 44752/50000 (90%)\n",
      "\n",
      "\n",
      "Validation set: Avg. loss: 0.0008, Accuracy: 9364/10000 (94%)\n",
      "\n"
     ]
    },
    {
     "name": "stderr",
     "output_type": "stream",
     "text": [
      "100%|██████████| 50000/50000 [00:00<00:00, 56015.44it/s, loss=0.509]\n",
      " 13%|█▎        | 6500/50000 [00:00<00:00, 60349.83it/s, loss=0.478]"
     ]
    },
    {
     "name": "stdout",
     "output_type": "stream",
     "text": [
      "\n",
      "Training set epoch 9: Avg. loss: 0.0009, Accuracy: 44907/50000 (90%)\n",
      "\n",
      "\n",
      "Validation set: Avg. loss: 0.0007, Accuracy: 9381/10000 (94%)\n",
      "\n"
     ]
    },
    {
     "name": "stderr",
     "output_type": "stream",
     "text": [
      "100%|██████████| 50000/50000 [00:00<00:00, 58881.61it/s, loss=0.498]\n",
      " 13%|█▎        | 6500/50000 [00:00<00:00, 60287.51it/s, loss=0.442]"
     ]
    },
    {
     "name": "stdout",
     "output_type": "stream",
     "text": [
      "\n",
      "Training set epoch 10: Avg. loss: 0.0009, Accuracy: 45015/50000 (90%)\n",
      "\n",
      "\n",
      "Validation set: Avg. loss: 0.0007, Accuracy: 9402/10000 (94%)\n",
      "\n"
     ]
    },
    {
     "name": "stderr",
     "output_type": "stream",
     "text": [
      "100%|██████████| 50000/50000 [00:00<00:00, 58813.09it/s, loss=0.462]\n",
      " 13%|█▎        | 6500/50000 [00:00<00:00, 60827.43it/s, loss=0.393]"
     ]
    },
    {
     "name": "stdout",
     "output_type": "stream",
     "text": [
      "\n",
      "Training set epoch 11: Avg. loss: 0.0009, Accuracy: 45109/50000 (90%)\n",
      "\n",
      "\n",
      "Validation set: Avg. loss: 0.0006, Accuracy: 9423/10000 (94%)\n",
      "\n"
     ]
    },
    {
     "name": "stderr",
     "output_type": "stream",
     "text": [
      "100%|██████████| 50000/50000 [00:00<00:00, 57915.72it/s, loss=0.467]\n",
      " 13%|█▎        | 6500/50000 [00:00<00:00, 58898.70it/s, loss=0.391]"
     ]
    },
    {
     "name": "stdout",
     "output_type": "stream",
     "text": [
      "\n",
      "Training set epoch 12: Avg. loss: 0.0008, Accuracy: 45163/50000 (90%)\n",
      "\n",
      "\n",
      "Validation set: Avg. loss: 0.0006, Accuracy: 9440/10000 (94%)\n",
      "\n"
     ]
    },
    {
     "name": "stderr",
     "output_type": "stream",
     "text": [
      "100%|██████████| 50000/50000 [00:00<00:00, 58442.21it/s, loss=0.465]\n",
      " 13%|█▎        | 6500/50000 [00:00<00:00, 59084.69it/s, loss=0.381]"
     ]
    },
    {
     "name": "stdout",
     "output_type": "stream",
     "text": [
      "\n",
      "Training set epoch 13: Avg. loss: 0.0008, Accuracy: 45328/50000 (91%)\n",
      "\n",
      "\n",
      "Validation set: Avg. loss: 0.0006, Accuracy: 9462/10000 (95%)\n",
      "\n"
     ]
    },
    {
     "name": "stderr",
     "output_type": "stream",
     "text": [
      "100%|██████████| 50000/50000 [00:00<00:00, 57355.51it/s, loss=0.451]\n",
      " 13%|█▎        | 6500/50000 [00:00<00:00, 59491.28it/s, loss=0.352]"
     ]
    },
    {
     "name": "stdout",
     "output_type": "stream",
     "text": [
      "\n",
      "Training set epoch 14: Avg. loss: 0.0008, Accuracy: 45443/50000 (91%)\n",
      "\n",
      "\n",
      "Validation set: Avg. loss: 0.0006, Accuracy: 9474/10000 (95%)\n",
      "\n"
     ]
    },
    {
     "name": "stderr",
     "output_type": "stream",
     "text": [
      "100%|██████████| 50000/50000 [00:00<00:00, 58079.74it/s, loss=0.432]\n",
      " 12%|█▏        | 6000/50000 [00:00<00:00, 58415.54it/s, loss=0.373]"
     ]
    },
    {
     "name": "stdout",
     "output_type": "stream",
     "text": [
      "\n",
      "Training set epoch 15: Avg. loss: 0.0007, Accuracy: 45540/50000 (91%)\n",
      "\n",
      "\n",
      "Validation set: Avg. loss: 0.0005, Accuracy: 9483/10000 (95%)\n",
      "\n"
     ]
    },
    {
     "name": "stderr",
     "output_type": "stream",
     "text": [
      "100%|██████████| 50000/50000 [00:00<00:00, 55771.82it/s, loss=0.4]\n",
      " 13%|█▎        | 6500/50000 [00:00<00:00, 61778.78it/s, loss=0.342]"
     ]
    },
    {
     "name": "stdout",
     "output_type": "stream",
     "text": [
      "\n",
      "Training set epoch 16: Avg. loss: 0.0007, Accuracy: 45567/50000 (91%)\n",
      "\n",
      "\n",
      "Validation set: Avg. loss: 0.0005, Accuracy: 9492/10000 (95%)\n",
      "\n"
     ]
    },
    {
     "name": "stderr",
     "output_type": "stream",
     "text": [
      "100%|██████████| 50000/50000 [00:00<00:00, 56638.22it/s, loss=0.413]\n",
      " 12%|█▏        | 6000/50000 [00:00<00:00, 53760.60it/s, loss=0.347]"
     ]
    },
    {
     "name": "stdout",
     "output_type": "stream",
     "text": [
      "\n",
      "Training set epoch 17: Avg. loss: 0.0007, Accuracy: 45578/50000 (91%)\n",
      "\n",
      "\n",
      "Validation set: Avg. loss: 0.0005, Accuracy: 9504/10000 (95%)\n",
      "\n"
     ]
    },
    {
     "name": "stderr",
     "output_type": "stream",
     "text": [
      "100%|██████████| 50000/50000 [00:00<00:00, 57835.56it/s, loss=0.405]\n",
      " 13%|█▎        | 6500/50000 [00:00<00:00, 60375.89it/s, loss=0.325]"
     ]
    },
    {
     "name": "stdout",
     "output_type": "stream",
     "text": [
      "\n",
      "Training set epoch 18: Avg. loss: 0.0007, Accuracy: 45647/50000 (91%)\n",
      "\n",
      "\n",
      "Validation set: Avg. loss: 0.0005, Accuracy: 9514/10000 (95%)\n",
      "\n"
     ]
    },
    {
     "name": "stderr",
     "output_type": "stream",
     "text": [
      "100%|██████████| 50000/50000 [00:00<00:00, 56530.86it/s, loss=0.382]\n"
     ]
    },
    {
     "name": "stdout",
     "output_type": "stream",
     "text": [
      "\n",
      "Training set epoch 19: Avg. loss: 0.0007, Accuracy: 45724/50000 (91%)\n",
      "\n",
      "\n",
      "Validation set: Avg. loss: 0.0005, Accuracy: 9522/10000 (95%)\n",
      "\n",
      "\n",
      "Test set: Avg. loss: 0.0051, Accuracy: 3871/10000 (39%)\n",
      "\n"
     ]
    }
   ],
   "source": [
    "numtrain=50000\n",
    "data_set=\"mnist\"\n",
    "model_name=\"N2_Euc\"\n",
    "# get data\n",
    "train,val,test=get_data(data_set=data_set)\n",
    "# Run epochs\n",
    "for i in range(num_epochs):\n",
    "    run_epoch(N2_Euc,i,train,batch_size, num=numtrain, ttype=\"train\")\n",
    "    # Test on validation set.\n",
    "    net_test(N2_Euc,val,batch_size)\n",
    "# Test on test set.\n",
    "net_test(N2_Euc,test_tr,batch_size,ttype='test')\n",
    "# Save model\n",
    "torch.save(N2_Euc.state_dict(), datadir+model_name)"
   ]
  },
  {
   "cell_type": "markdown",
   "metadata": {
    "colab_type": "text",
    "id": "pT6CDQRS34JP"
   },
   "source": [
    "Performance of negative euclidean distance is actually better than performance from default NT-Xent using cosine similarity. However this may simple due to lack of tuning on models using either loss. Nevertheless, there is not a substantial difference in using a different similarity measure, and it seems that the root cause of underperformance of models using simCLR framework is the lack of fine-tuning of embeddings on the actual digits data. "
   ]
  },
  {
   "cell_type": "markdown",
   "metadata": {
    "colab_type": "text",
    "id": "5pG5FR7oaJj6"
   },
   "source": [
    "# (b): Try different type of perturbation"
   ]
  },
  {
   "cell_type": "markdown",
   "metadata": {
    "colab_type": "text",
    "id": "AHrYEFAfaQgM"
   },
   "source": [
    "I experiment on applying a full affine map to the image grid and compare the results using both NT-Xent loss as well as loss used in part (a)."
   ]
  },
  {
   "cell_type": "code",
   "execution_count": 0,
   "metadata": {
    "colab": {},
    "colab_type": "code",
    "id": "zpfW__ooabWe"
   },
   "outputs": [],
   "source": [
    "def affine_full(x_in, factor=3):\n",
    "  nn = x_in.shape[0]\n",
    "  h = x_in.shape[2]\n",
    "  w = x_in.shape[3]\n",
    "  # for each batch element sample 6 random parameters \n",
    "  # for an affine transformation of the grid: \n",
    "  # factor controls the deviation from identity.\n",
    "  u = ((torch.rand(nn,6)-0.5) * factor).to(device)\n",
    "  # Add this random vector to this identity affine map:\n",
    "  ID = torch.zeros(nn,6).to(device)\n",
    "  ID[:,0] = 1\n",
    "  ID[:,4] = 1\n",
    "  theta = (u+ID).reshape(-1,2,3)\n",
    "  # Creates the mapping of the deformed grid\n",
    "  grid = F.affine_grid(theta, [nn,1,h,w] ,align_corners=True)\n",
    "  # Applies this mapping to the image\n",
    "  x_out = F.grid_sample(x_in, grid, padding_mode = 'border',align_corners=True)\n",
    "  return x_out"
   ]
  },
  {
   "cell_type": "code",
   "execution_count": 0,
   "metadata": {
    "colab": {},
    "colab_type": "code",
    "id": "6CnEWNSe5kgT"
   },
   "outputs": [],
   "source": [
    "class N1_Net_Full(nn.Module):\n",
    "    def __init__(self,p=0.5,minimizer='Adam'):\n",
    "        super(N1_Net_Full, self).__init__()\n",
    "        # 32 output features using 5x5 kernel applied to input image\n",
    "        self.conv1 = nn.Conv2d(1, 32, kernel_size=5)\n",
    "        # 64 output features using 5x5 kernel applied to 32 features of previous layer.\n",
    "        self.conv2 = nn.Conv2d(32, 64, kernel_size=5)\n",
    "        # Dropout - zero out some output features so weights aren't updated.\n",
    "        self.conv2_drop = nn.Dropout2d(p)\n",
    "        # 64 x 4 x 4 = 1024 units total in final spartial layer fully connected to 64 unit later\n",
    "        self.fc64 = nn.Linear(1024, 64)\n",
    "        if minimizer == 'Adam':\n",
    "            self.optimizer = torch.optim.Adam(self.parameters(), lr = step_size)\n",
    "        else:\n",
    "            self.optimizer = torch.optim.SGD(self.parameters(), lr = step_size, momentum=0.9)\n",
    "        self.first=True\n",
    "        # negative log-likelihood loss \n",
    "        self.criterion=nn.CrossEntropyLoss()\n",
    "            \n",
    "    def forward(self, x):\n",
    "\n",
    "        # Apply first conv then maxpool by factor of 2 then non-linearity relu\n",
    "        x = F.relu(F.max_pool2d(self.conv1(x), 2))\n",
    "        # Apply second conv then drop, then maxpool by factor of 2 then non-linearity relu\n",
    "        x = F.relu(F.max_pool2d(self.conv2_drop(self.conv2(x)), 2))\n",
    "        # Reshape 64 x 4 x 4 to 1024 units\n",
    "        x = x.view(-1, 1024)\n",
    "        # Apply fully connected layer with non-linearity relu, final 64 units \n",
    "        x = self.fc64(x)\n",
    "        return x\n",
    "    \n",
    "    def get_acc_and_loss(self, data):\n",
    "        # Apply network to batch input\n",
    "        o = self.forward(data)\n",
    "        affined = affine_full(data)\n",
    "        o_tilde = self.forward(affined)\n",
    "        # Comput loss between logit output and targ (correct class labels)\n",
    "        loss = NT_Xent()(o,o_tilde)\n",
    "        # Also compute correct classification rate        \n",
    "        return loss\n",
    "        \n",
    "    def run_grad(self,data):\n",
    "\n",
    "        # Compute loss and accuracy\n",
    "        loss =self.get_acc_and_loss(data)\n",
    "        # Zero out gradients\n",
    "        self.optimizer.zero_grad()\n",
    "        # Compute gradients\n",
    "        loss.backward()\n",
    "        # Update parameters based on gradients\n",
    "        self.optimizer.step()\n",
    "        \n",
    "        return loss"
   ]
  },
  {
   "cell_type": "code",
   "execution_count": 38,
   "metadata": {
    "colab": {
     "base_uri": "https://localhost:8080/",
     "height": 1000
    },
    "colab_type": "code",
    "executionInfo": {
     "elapsed": 92481,
     "status": "ok",
     "timestamp": 1591253294525,
     "user": {
      "displayName": "Adam Zhang",
      "photoUrl": "",
      "userId": "15014079408385344051"
     },
     "user_tz": 300
    },
    "id": "dB0dVw64_Nyq",
    "outputId": "7ac4d5b7-93a3-4bf3-9647-9cc82a75ac41"
   },
   "outputs": [
    {
     "name": "stderr",
     "output_type": "stream",
     "text": [
      "100%|██████████| 124800/124800 [00:04<00:00, 28208.81it/s, loss=-2.74]\n",
      "  0%|          | 500/124800 [00:00<00:08, 14478.59it/s, loss=-2.21]"
     ]
    },
    {
     "name": "stdout",
     "output_type": "stream",
     "text": [
      "\n",
      "Training set epoch 0: Avg. loss: -0.0021\n"
     ]
    },
    {
     "name": "stderr",
     "output_type": "stream",
     "text": [
      "100%|██████████| 124800/124800 [00:04<00:00, 28582.86it/s, loss=-2.75]\n",
      "  0%|          | 500/124800 [00:00<00:08, 15288.26it/s, loss=-2.24]"
     ]
    },
    {
     "name": "stdout",
     "output_type": "stream",
     "text": [
      "\n",
      "Training set epoch 1: Avg. loss: -0.0022\n"
     ]
    },
    {
     "name": "stderr",
     "output_type": "stream",
     "text": [
      "100%|██████████| 124800/124800 [00:04<00:00, 28545.85it/s, loss=-2.78]\n",
      "  0%|          | 500/124800 [00:00<00:08, 14772.84it/s, loss=-2.26]"
     ]
    },
    {
     "name": "stdout",
     "output_type": "stream",
     "text": [
      "\n",
      "Training set epoch 2: Avg. loss: -0.0023\n"
     ]
    },
    {
     "name": "stderr",
     "output_type": "stream",
     "text": [
      "100%|██████████| 124800/124800 [00:04<00:00, 28253.94it/s, loss=-2.77]\n",
      "  0%|          | 500/124800 [00:00<00:07, 15625.43it/s, loss=-2.26]"
     ]
    },
    {
     "name": "stdout",
     "output_type": "stream",
     "text": [
      "\n",
      "Training set epoch 3: Avg. loss: -0.0023\n"
     ]
    },
    {
     "name": "stderr",
     "output_type": "stream",
     "text": [
      "100%|██████████| 124800/124800 [00:04<00:00, 28441.69it/s, loss=-2.77]\n",
      "  0%|          | 500/124800 [00:00<00:08, 14988.44it/s, loss=-2.26]"
     ]
    },
    {
     "name": "stdout",
     "output_type": "stream",
     "text": [
      "\n",
      "Training set epoch 4: Avg. loss: -0.0023\n"
     ]
    },
    {
     "name": "stderr",
     "output_type": "stream",
     "text": [
      "100%|██████████| 124800/124800 [00:04<00:00, 28533.71it/s, loss=-2.79]\n",
      "  0%|          | 500/124800 [00:00<00:08, 14994.22it/s, loss=-2.26]"
     ]
    },
    {
     "name": "stdout",
     "output_type": "stream",
     "text": [
      "\n",
      "Training set epoch 5: Avg. loss: -0.0023\n"
     ]
    },
    {
     "name": "stderr",
     "output_type": "stream",
     "text": [
      "100%|██████████| 124800/124800 [00:04<00:00, 28580.45it/s, loss=-2.79]\n",
      "  0%|          | 500/124800 [00:00<00:07, 15807.52it/s, loss=-2.26]"
     ]
    },
    {
     "name": "stdout",
     "output_type": "stream",
     "text": [
      "\n",
      "Training set epoch 6: Avg. loss: -0.0023\n"
     ]
    },
    {
     "name": "stderr",
     "output_type": "stream",
     "text": [
      "100%|██████████| 124800/124800 [00:04<00:00, 28840.23it/s, loss=-2.78]\n",
      "  0%|          | 500/124800 [00:00<00:07, 15900.28it/s, loss=-2.27]"
     ]
    },
    {
     "name": "stdout",
     "output_type": "stream",
     "text": [
      "\n",
      "Training set epoch 7: Avg. loss: -0.0023\n"
     ]
    },
    {
     "name": "stderr",
     "output_type": "stream",
     "text": [
      "100%|██████████| 124800/124800 [00:04<00:00, 28676.40it/s, loss=-2.79]\n",
      "  0%|          | 500/124800 [00:00<00:07, 15801.09it/s, loss=-2.27]"
     ]
    },
    {
     "name": "stdout",
     "output_type": "stream",
     "text": [
      "\n",
      "Training set epoch 8: Avg. loss: -0.0023\n"
     ]
    },
    {
     "name": "stderr",
     "output_type": "stream",
     "text": [
      "100%|██████████| 124800/124800 [00:04<00:00, 28984.25it/s, loss=-2.79]\n",
      "  0%|          | 500/124800 [00:00<00:08, 15294.17it/s, loss=-2.27]"
     ]
    },
    {
     "name": "stdout",
     "output_type": "stream",
     "text": [
      "\n",
      "Training set epoch 9: Avg. loss: -0.0023\n"
     ]
    },
    {
     "name": "stderr",
     "output_type": "stream",
     "text": [
      "100%|██████████| 124800/124800 [00:04<00:00, 29033.57it/s, loss=-2.8]\n",
      "  0%|          | 500/124800 [00:00<00:08, 15475.88it/s, loss=-2.25]"
     ]
    },
    {
     "name": "stdout",
     "output_type": "stream",
     "text": [
      "\n",
      "Training set epoch 10: Avg. loss: -0.0023\n"
     ]
    },
    {
     "name": "stderr",
     "output_type": "stream",
     "text": [
      "100%|██████████| 124800/124800 [00:04<00:00, 28933.99it/s, loss=-2.79]\n",
      "  0%|          | 500/124800 [00:00<00:08, 15206.56it/s, loss=-2.28]"
     ]
    },
    {
     "name": "stdout",
     "output_type": "stream",
     "text": [
      "\n",
      "Training set epoch 11: Avg. loss: -0.0023\n"
     ]
    },
    {
     "name": "stderr",
     "output_type": "stream",
     "text": [
      "100%|██████████| 124800/124800 [00:04<00:00, 28890.55it/s, loss=-2.79]\n",
      "  0%|          | 500/124800 [00:00<00:07, 15714.07it/s, loss=-2.27]"
     ]
    },
    {
     "name": "stdout",
     "output_type": "stream",
     "text": [
      "\n",
      "Training set epoch 12: Avg. loss: -0.0023\n"
     ]
    },
    {
     "name": "stderr",
     "output_type": "stream",
     "text": [
      "100%|██████████| 124800/124800 [00:04<00:00, 28985.98it/s, loss=-2.8]\n",
      "  0%|          | 500/124800 [00:00<00:07, 15641.75it/s, loss=-2.28]"
     ]
    },
    {
     "name": "stdout",
     "output_type": "stream",
     "text": [
      "\n",
      "Training set epoch 13: Avg. loss: -0.0023\n"
     ]
    },
    {
     "name": "stderr",
     "output_type": "stream",
     "text": [
      "100%|██████████| 124800/124800 [00:04<00:00, 29218.95it/s, loss=-2.79]\n",
      "  0%|          | 500/124800 [00:00<00:08, 15270.56it/s, loss=-2.28]"
     ]
    },
    {
     "name": "stdout",
     "output_type": "stream",
     "text": [
      "\n",
      "Training set epoch 14: Avg. loss: -0.0023\n"
     ]
    },
    {
     "name": "stderr",
     "output_type": "stream",
     "text": [
      "100%|██████████| 124800/124800 [00:04<00:00, 28893.44it/s, loss=-2.8]\n",
      "  0%|          | 500/124800 [00:00<00:08, 15373.10it/s, loss=-2.28]"
     ]
    },
    {
     "name": "stdout",
     "output_type": "stream",
     "text": [
      "\n",
      "Training set epoch 15: Avg. loss: -0.0023\n"
     ]
    },
    {
     "name": "stderr",
     "output_type": "stream",
     "text": [
      "100%|██████████| 124800/124800 [00:04<00:00, 28705.17it/s, loss=-2.79]\n",
      "  0%|          | 500/124800 [00:00<00:08, 15063.26it/s, loss=-2.29]"
     ]
    },
    {
     "name": "stdout",
     "output_type": "stream",
     "text": [
      "\n",
      "Training set epoch 16: Avg. loss: -0.0023\n"
     ]
    },
    {
     "name": "stderr",
     "output_type": "stream",
     "text": [
      "100%|██████████| 124800/124800 [00:04<00:00, 28842.03it/s, loss=-2.8]\n",
      "  0%|          | 500/124800 [00:00<00:08, 14821.70it/s, loss=-2.28]"
     ]
    },
    {
     "name": "stdout",
     "output_type": "stream",
     "text": [
      "\n",
      "Training set epoch 17: Avg. loss: -0.0023\n"
     ]
    },
    {
     "name": "stderr",
     "output_type": "stream",
     "text": [
      "100%|██████████| 124800/124800 [00:04<00:00, 28651.35it/s, loss=-2.81]\n",
      "  0%|          | 500/124800 [00:00<00:08, 15156.77it/s, loss=-2.29]"
     ]
    },
    {
     "name": "stdout",
     "output_type": "stream",
     "text": [
      "\n",
      "Training set epoch 18: Avg. loss: -0.0023\n"
     ]
    },
    {
     "name": "stderr",
     "output_type": "stream",
     "text": [
      "100%|██████████| 124800/124800 [00:04<00:00, 29012.33it/s, loss=-2.79]\n"
     ]
    },
    {
     "name": "stdout",
     "output_type": "stream",
     "text": [
      "\n",
      "Training set epoch 19: Avg. loss: -0.0023\n"
     ]
    }
   ],
   "source": [
    "numtrain=124800\n",
    "data_set=\"letters\"\n",
    "model_name=\"N1_fullaffine\"\n",
    "train = get_data(data_set=data_set)\n",
    "# Initialize the model\n",
    "N1_fullaffine = N1_Net_Full(p = dropout_p, minimizer=minimizer)\n",
    "N1_fullaffine.to(device)\n",
    "#define optimizer\n",
    "# Run epochs\n",
    "train_err = []\n",
    "for i in range(num_epochs):\n",
    "    train_err.append(run_epoch_simCLR(N1_fullaffine,i,train,batch_size, num=numtrain, ttype=\"train\"))\n",
    "# Save model\n",
    "torch.save(net.state_dict(), datadir+model_name)"
   ]
  },
  {
   "cell_type": "code",
   "execution_count": 39,
   "metadata": {
    "colab": {
     "base_uri": "https://localhost:8080/",
     "height": 119
    },
    "colab_type": "code",
    "executionInfo": {
     "elapsed": 1538,
     "status": "ok",
     "timestamp": 1591253296089,
     "user": {
      "displayName": "Adam Zhang",
      "photoUrl": "",
      "userId": "15014079408385344051"
     },
     "user_tz": 300
    },
    "id": "QiHXRcVx_ReC",
    "outputId": "ada8a1f5-773a-494e-de12-aa7c23b2ab98"
   },
   "outputs": [
    {
     "name": "stdout",
     "output_type": "stream",
     "text": [
      "conv1.weight torch.Size([32, 1, 5, 5])\n",
      "conv1.bias torch.Size([32])\n",
      "conv2.weight torch.Size([64, 32, 5, 5])\n",
      "conv2.bias torch.Size([64])\n",
      "fc10.weight torch.Size([10, 1024])\n",
      "fc10.bias torch.Size([10])\n"
     ]
    }
   ],
   "source": [
    "model_name = \"N1_fullaffine\"\n",
    "N1_fullaffine = N1_Net_Full(p = dropout_p, minimizer=minimizer)\n",
    "N1_fullaffine.to(device)\n",
    "state_dict = torch.load(datadir+model_name, map_location = device)\n",
    "N1_fullaffine.load_state_dict(state_dict)\n",
    "\n",
    "N2_fullaffine = N2_Net(p=dropout_p,minimizer = minimizer)\n",
    "N2_fullaffine.to(device)\n",
    "# Get parameter sets of both networks\n",
    "params = N1_fullaffine.named_parameters()\n",
    "params2 = N2_fullaffine.named_parameters()\n",
    "# Make a dictionary of the new one\n",
    "dict_params2 = dict(params2)\n",
    "# Loop over parameters of N1\n",
    "for name, param in params:\n",
    "  if name in dict_params2:\n",
    "    dict_params2[name].data.copy_(param.data) \n",
    "N2_fullaffine.load_state_dict(dict_params2)\n",
    "\n",
    "PP = []\n",
    "for name, param in N2_fullaffine.named_parameters():\n",
    "  print(name,param.shape)\n",
    "  if 'fc10' in name:\n",
    "    PP.append(param)\n",
    "N2_fullaffine.optimizer = torch.optim.Adam(PP,lr=step_size)"
   ]
  },
  {
   "cell_type": "code",
   "execution_count": 40,
   "metadata": {
    "colab": {
     "base_uri": "https://localhost:8080/",
     "height": 1000
    },
    "colab_type": "code",
    "executionInfo": {
     "elapsed": 21537,
     "status": "ok",
     "timestamp": 1591253316133,
     "user": {
      "displayName": "Adam Zhang",
      "photoUrl": "",
      "userId": "15014079408385344051"
     },
     "user_tz": 300
    },
    "id": "0Ek9pEQrAyqV",
    "outputId": "10bc7b45-cf8d-42a1-fa27-c11f8115f0d9"
   },
   "outputs": [
    {
     "name": "stdout",
     "output_type": "stream",
     "text": [
      "(70000, 784)\n"
     ]
    },
    {
     "name": "stderr",
     "output_type": "stream",
     "text": [
      "100%|██████████| 50000/50000 [00:00<00:00, 54844.37it/s, loss=1.02]\n",
      " 13%|█▎        | 6500/50000 [00:00<00:00, 59833.42it/s, loss=0.798]"
     ]
    },
    {
     "name": "stdout",
     "output_type": "stream",
     "text": [
      "\n",
      "Training set epoch 0: Avg. loss: 0.0028, Accuracy: 37700/50000 (75%)\n",
      "\n",
      "\n",
      "Validation set: Avg. loss: 0.0016, Accuracy: 9002/10000 (90%)\n",
      "\n"
     ]
    },
    {
     "name": "stderr",
     "output_type": "stream",
     "text": [
      "100%|██████████| 50000/50000 [00:00<00:00, 58621.50it/s, loss=0.728]\n",
      " 12%|█▏        | 6000/50000 [00:00<00:00, 57311.24it/s, loss=0.535]"
     ]
    },
    {
     "name": "stdout",
     "output_type": "stream",
     "text": [
      "\n",
      "Training set epoch 1: Avg. loss: 0.0014, Accuracy: 43544/50000 (87%)\n",
      "\n",
      "\n",
      "Validation set: Avg. loss: 0.0010, Accuracy: 9197/10000 (92%)\n",
      "\n"
     ]
    },
    {
     "name": "stderr",
     "output_type": "stream",
     "text": [
      "100%|██████████| 50000/50000 [00:00<00:00, 57821.94it/s, loss=0.606]\n",
      " 12%|█▏        | 6000/50000 [00:00<00:00, 55122.21it/s, loss=0.498]"
     ]
    },
    {
     "name": "stdout",
     "output_type": "stream",
     "text": [
      "\n",
      "Training set epoch 2: Avg. loss: 0.0011, Accuracy: 44455/50000 (89%)\n",
      "\n",
      "\n",
      "Validation set: Avg. loss: 0.0008, Accuracy: 9296/10000 (93%)\n",
      "\n"
     ]
    },
    {
     "name": "stderr",
     "output_type": "stream",
     "text": [
      "100%|██████████| 50000/50000 [00:00<00:00, 57720.67it/s, loss=0.52]\n",
      " 12%|█▏        | 6000/50000 [00:00<00:00, 59834.01it/s, loss=0.378]"
     ]
    },
    {
     "name": "stdout",
     "output_type": "stream",
     "text": [
      "\n",
      "Training set epoch 3: Avg. loss: 0.0009, Accuracy: 45107/50000 (90%)\n",
      "\n",
      "\n",
      "Validation set: Avg. loss: 0.0006, Accuracy: 9372/10000 (94%)\n",
      "\n"
     ]
    },
    {
     "name": "stderr",
     "output_type": "stream",
     "text": [
      "100%|██████████| 50000/50000 [00:00<00:00, 57733.63it/s, loss=0.512]\n",
      " 12%|█▏        | 6000/50000 [00:00<00:00, 54767.76it/s, loss=0.352]"
     ]
    },
    {
     "name": "stdout",
     "output_type": "stream",
     "text": [
      "\n",
      "Training set epoch 4: Avg. loss: 0.0008, Accuracy: 45257/50000 (91%)\n",
      "\n",
      "\n",
      "Validation set: Avg. loss: 0.0006, Accuracy: 9420/10000 (94%)\n",
      "\n"
     ]
    },
    {
     "name": "stderr",
     "output_type": "stream",
     "text": [
      "100%|██████████| 50000/50000 [00:00<00:00, 57861.85it/s, loss=0.467]\n",
      " 13%|█▎        | 6500/50000 [00:00<00:00, 61111.99it/s, loss=0.323]"
     ]
    },
    {
     "name": "stdout",
     "output_type": "stream",
     "text": [
      "\n",
      "Training set epoch 5: Avg. loss: 0.0007, Accuracy: 45551/50000 (91%)\n",
      "\n",
      "\n",
      "Validation set: Avg. loss: 0.0005, Accuracy: 9458/10000 (95%)\n",
      "\n"
     ]
    },
    {
     "name": "stderr",
     "output_type": "stream",
     "text": [
      "100%|██████████| 50000/50000 [00:00<00:00, 61174.93it/s, loss=0.43]\n",
      " 12%|█▏        | 6000/50000 [00:00<00:00, 59766.79it/s, loss=0.296]"
     ]
    },
    {
     "name": "stdout",
     "output_type": "stream",
     "text": [
      "\n",
      "Training set epoch 6: Avg. loss: 0.0007, Accuracy: 45585/50000 (91%)\n",
      "\n",
      "\n",
      "Validation set: Avg. loss: 0.0005, Accuracy: 9478/10000 (95%)\n",
      "\n"
     ]
    },
    {
     "name": "stderr",
     "output_type": "stream",
     "text": [
      "100%|██████████| 50000/50000 [00:00<00:00, 58945.29it/s, loss=0.423]\n",
      " 12%|█▏        | 6000/50000 [00:00<00:00, 56760.83it/s, loss=0.273]"
     ]
    },
    {
     "name": "stdout",
     "output_type": "stream",
     "text": [
      "\n",
      "Training set epoch 7: Avg. loss: 0.0006, Accuracy: 45886/50000 (92%)\n",
      "\n",
      "\n",
      "Validation set: Avg. loss: 0.0004, Accuracy: 9499/10000 (95%)\n",
      "\n"
     ]
    },
    {
     "name": "stderr",
     "output_type": "stream",
     "text": [
      "100%|██████████| 50000/50000 [00:00<00:00, 58756.82it/s, loss=0.415]\n",
      " 11%|█         | 5500/50000 [00:00<00:00, 54676.50it/s, loss=0.295]"
     ]
    },
    {
     "name": "stdout",
     "output_type": "stream",
     "text": [
      "\n",
      "Training set epoch 8: Avg. loss: 0.0006, Accuracy: 46045/50000 (92%)\n",
      "\n",
      "\n",
      "Validation set: Avg. loss: 0.0004, Accuracy: 9518/10000 (95%)\n",
      "\n"
     ]
    },
    {
     "name": "stderr",
     "output_type": "stream",
     "text": [
      "100%|██████████| 50000/50000 [00:00<00:00, 57140.80it/s, loss=0.386]\n",
      " 12%|█▏        | 6000/50000 [00:00<00:00, 59321.74it/s, loss=0.257]"
     ]
    },
    {
     "name": "stdout",
     "output_type": "stream",
     "text": [
      "\n",
      "Training set epoch 9: Avg. loss: 0.0006, Accuracy: 46144/50000 (92%)\n",
      "\n",
      "\n",
      "Validation set: Avg. loss: 0.0004, Accuracy: 9539/10000 (95%)\n",
      "\n"
     ]
    },
    {
     "name": "stderr",
     "output_type": "stream",
     "text": [
      "100%|██████████| 50000/50000 [00:00<00:00, 59730.94it/s, loss=0.365]\n",
      " 12%|█▏        | 6000/50000 [00:00<00:00, 57091.25it/s, loss=0.245]"
     ]
    },
    {
     "name": "stdout",
     "output_type": "stream",
     "text": [
      "\n",
      "Training set epoch 10: Avg. loss: 0.0006, Accuracy: 46100/50000 (92%)\n",
      "\n",
      "\n",
      "Validation set: Avg. loss: 0.0004, Accuracy: 9554/10000 (96%)\n",
      "\n"
     ]
    },
    {
     "name": "stderr",
     "output_type": "stream",
     "text": [
      "100%|██████████| 50000/50000 [00:00<00:00, 58631.29it/s, loss=0.342]\n",
      " 12%|█▏        | 6000/50000 [00:00<00:00, 58024.14it/s, loss=0.218]"
     ]
    },
    {
     "name": "stdout",
     "output_type": "stream",
     "text": [
      "\n",
      "Training set epoch 11: Avg. loss: 0.0005, Accuracy: 46324/50000 (93%)\n",
      "\n",
      "\n",
      "Validation set: Avg. loss: 0.0003, Accuracy: 9572/10000 (96%)\n",
      "\n"
     ]
    },
    {
     "name": "stderr",
     "output_type": "stream",
     "text": [
      "100%|██████████| 50000/50000 [00:00<00:00, 58901.55it/s, loss=0.369]\n",
      " 13%|█▎        | 6500/50000 [00:00<00:00, 61034.14it/s, loss=0.245]"
     ]
    },
    {
     "name": "stdout",
     "output_type": "stream",
     "text": [
      "\n",
      "Training set epoch 12: Avg. loss: 0.0005, Accuracy: 46311/50000 (93%)\n",
      "\n",
      "\n",
      "Validation set: Avg. loss: 0.0003, Accuracy: 9578/10000 (96%)\n",
      "\n"
     ]
    },
    {
     "name": "stderr",
     "output_type": "stream",
     "text": [
      "100%|██████████| 50000/50000 [00:00<00:00, 60372.63it/s, loss=0.34]\n",
      " 12%|█▏        | 6000/50000 [00:00<00:00, 57011.71it/s, loss=0.225]"
     ]
    },
    {
     "name": "stdout",
     "output_type": "stream",
     "text": [
      "\n",
      "Training set epoch 13: Avg. loss: 0.0005, Accuracy: 46387/50000 (93%)\n",
      "\n",
      "\n",
      "Validation set: Avg. loss: 0.0003, Accuracy: 9588/10000 (96%)\n",
      "\n"
     ]
    },
    {
     "name": "stderr",
     "output_type": "stream",
     "text": [
      "100%|██████████| 50000/50000 [00:00<00:00, 56119.05it/s, loss=0.356]\n",
      " 13%|█▎        | 6500/50000 [00:00<00:00, 59740.33it/s, loss=0.203]"
     ]
    },
    {
     "name": "stdout",
     "output_type": "stream",
     "text": [
      "\n",
      "Training set epoch 14: Avg. loss: 0.0005, Accuracy: 46422/50000 (93%)\n",
      "\n",
      "\n",
      "Validation set: Avg. loss: 0.0003, Accuracy: 9594/10000 (96%)\n",
      "\n"
     ]
    },
    {
     "name": "stderr",
     "output_type": "stream",
     "text": [
      "100%|██████████| 50000/50000 [00:00<00:00, 56786.62it/s, loss=0.362]\n",
      " 12%|█▏        | 6000/50000 [00:00<00:00, 56130.24it/s, loss=0.257]"
     ]
    },
    {
     "name": "stdout",
     "output_type": "stream",
     "text": [
      "\n",
      "Training set epoch 15: Avg. loss: 0.0005, Accuracy: 46479/50000 (93%)\n",
      "\n",
      "\n",
      "Validation set: Avg. loss: 0.0003, Accuracy: 9607/10000 (96%)\n",
      "\n"
     ]
    },
    {
     "name": "stderr",
     "output_type": "stream",
     "text": [
      "100%|██████████| 50000/50000 [00:00<00:00, 58996.40it/s, loss=0.35]\n",
      " 12%|█▏        | 6000/50000 [00:00<00:00, 56943.73it/s, loss=0.206]"
     ]
    },
    {
     "name": "stdout",
     "output_type": "stream",
     "text": [
      "\n",
      "Training set epoch 16: Avg. loss: 0.0005, Accuracy: 46530/50000 (93%)\n",
      "\n",
      "\n",
      "Validation set: Avg. loss: 0.0003, Accuracy: 9608/10000 (96%)\n",
      "\n"
     ]
    },
    {
     "name": "stderr",
     "output_type": "stream",
     "text": [
      "100%|██████████| 50000/50000 [00:00<00:00, 58736.22it/s, loss=0.328]\n",
      " 13%|█▎        | 6500/50000 [00:00<00:00, 59608.79it/s, loss=0.202]"
     ]
    },
    {
     "name": "stdout",
     "output_type": "stream",
     "text": [
      "\n",
      "Training set epoch 17: Avg. loss: 0.0005, Accuracy: 46498/50000 (93%)\n",
      "\n",
      "\n",
      "Validation set: Avg. loss: 0.0003, Accuracy: 9619/10000 (96%)\n",
      "\n"
     ]
    },
    {
     "name": "stderr",
     "output_type": "stream",
     "text": [
      "100%|██████████| 50000/50000 [00:00<00:00, 57439.35it/s, loss=0.335]\n",
      " 13%|█▎        | 6500/50000 [00:00<00:00, 60193.40it/s, loss=0.189]"
     ]
    },
    {
     "name": "stdout",
     "output_type": "stream",
     "text": [
      "\n",
      "Training set epoch 18: Avg. loss: 0.0005, Accuracy: 46560/50000 (93%)\n",
      "\n",
      "\n",
      "Validation set: Avg. loss: 0.0003, Accuracy: 9622/10000 (96%)\n",
      "\n"
     ]
    },
    {
     "name": "stderr",
     "output_type": "stream",
     "text": [
      "100%|██████████| 50000/50000 [00:00<00:00, 58673.20it/s, loss=0.347]\n"
     ]
    },
    {
     "name": "stdout",
     "output_type": "stream",
     "text": [
      "\n",
      "Training set epoch 19: Avg. loss: 0.0005, Accuracy: 46583/50000 (93%)\n",
      "\n",
      "\n",
      "Validation set: Avg. loss: 0.0003, Accuracy: 9630/10000 (96%)\n",
      "\n",
      "\n",
      "Test set: Avg. loss: 0.0003, Accuracy: 9629/10000 (96%)\n",
      "\n"
     ]
    }
   ],
   "source": [
    "numtrain=50000\n",
    "data_set=\"mnist\"\n",
    "model_name=\"N2_fullaffine\"\n",
    "# get data\n",
    "train,val,test=get_data(data_set=data_set)\n",
    "\n",
    "# Run epochs\n",
    "for i in range(num_epochs):\n",
    "    run_epoch(N2_fullaffine,i,train,batch_size, num=numtrain, ttype=\"train\")\n",
    "    # Test on validation set.\n",
    "    net_test(N2_fullaffine,val,batch_size)\n",
    "# Test on test set.\n",
    "net_test(N2_fullaffine,test,batch_size,ttype='test')\n",
    "# Save model\n",
    "torch.save(N2_fullaffine.state_dict(), datadir+model_name)"
   ]
  },
  {
   "cell_type": "code",
   "execution_count": 41,
   "metadata": {
    "colab": {
     "base_uri": "https://localhost:8080/",
     "height": 68
    },
    "colab_type": "code",
    "executionInfo": {
     "elapsed": 21510,
     "status": "ok",
     "timestamp": 1591253316134,
     "user": {
      "displayName": "Adam Zhang",
      "photoUrl": "",
      "userId": "15014079408385344051"
     },
     "user_tz": 300
    },
    "id": "aQGjE3bUBY5y",
    "outputId": "65c7fba5-ed8f-458b-fba5-206067bda001"
   },
   "outputs": [
    {
     "name": "stdout",
     "output_type": "stream",
     "text": [
      "\n",
      "Test set: Avg. loss: 0.0067, Accuracy: 3573/10000 (36%)\n",
      "\n"
     ]
    }
   ],
   "source": [
    "N2_fullaffine = N2_Net(p = dropout_p, minimizer=minimizer)\n",
    "N2_fullaffine.to(device)\n",
    "model_name = \"N2_fullaffine\"\n",
    "#load saved model\n",
    "state_dict = torch.load(datadir+model_name, map_location = device)\n",
    "N2_fullaffine.load_state_dict(state_dict)\n",
    "net_test(N2_fullaffine,test_tr,batch_size,ttype='test')"
   ]
  },
  {
   "cell_type": "markdown",
   "metadata": {
    "colab_type": "text",
    "id": "WFSzOpe2Bu9e"
   },
   "source": [
    "Applying a full affine map to image grid doesn't really improve the performance by much. It seems that the problem is not the limited range of affine transformation that we have been training N2 with, but rather that we are not fine-tuning the convolutional layer parameters transferred from N1 on digits images. Right now N2 is only trained by digits data through fc10 layer and image representations are not fine-tuned to the digits dataset. "
   ]
  }
 ],
 "metadata": {
  "accelerator": "GPU",
  "colab": {
   "collapsed_sections": [
    "sArFtWnd1cff",
    "ZDznj7SycjDz",
    "Cpxz9AymZubb",
    "1j71RXEaZ0m5",
    "n8C65_U8Z_hF"
   ],
   "name": "HW4Q2",
   "provenance": [
    {
     "file_id": "14njwOLPT2Slii9F2w2nj3hgm42q5Hjs7",
     "timestamp": 1589915803271
    }
   ],
   "toc_visible": true
  },
  "kernelspec": {
   "display_name": "Python 3",
   "language": "python",
   "name": "python3"
  },
  "language_info": {
   "codemirror_mode": {
    "name": "ipython",
    "version": 3
   },
   "file_extension": ".py",
   "mimetype": "text/x-python",
   "name": "python",
   "nbconvert_exporter": "python",
   "pygments_lexer": "ipython3",
   "version": "3.7.5"
  }
 },
 "nbformat": 4,
 "nbformat_minor": 1
}
